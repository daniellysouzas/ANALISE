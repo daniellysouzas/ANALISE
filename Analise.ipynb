{
 "cells": [
  {
   "cell_type": "markdown",
   "id": "17b9ea0c",
   "metadata": {},
   "source": [
    "<h1>Análise de Vendas de Cantina Escolar com Python: Um Estudo de Padrões de Consumo e Tendências</h1>"
   ]
  },
  {
   "cell_type": "markdown",
   "id": "a9a623ca",
   "metadata": {},
   "source": [
    "<h3>Situação problema:\n",
    "A Cantina da Suzana, enfrenta desafios significativos na gestão de seu estoque devido à falta de clareza sobre quais produtos têm alta demanda e quais não estão vendendo bem. Essa situação impacta negativamente principalmente a vida social e econômica das pessoas envolvidas:\n",
    "\n",
    "Impacto Social:\n",
    "\n",
    "Desperdício de Alimentos: A falta de otimização no estoque leva ao desperdício de alimentos, um problema que afeta a comunidade ao desperdiçar recursos valiosos que poderiam ser melhor utilizados.\n",
    "Frustração dos Alunos: A ausência de produtos populares pode gerar insatisfação entre os alunos, afetando negativamente sua experiência escolar.\n",
    "Impacto Econômico:\n",
    "\n",
    "Desperdício Financeiro: O desperdício de alimentos resulta em perdas financeiras significativas para a cantina, impactando a viabilidade econômica do empreendimento.\n",
    "Ineficiência no Uso de Recursos: A falta de planejamento eficiente resulta em despesas desnecessárias e na perda de receitas potenciais, prejudicando a sustentabilidade financeira da cantina.</h3>"
   ]
  },
  {
   "cell_type": "code",
   "execution_count": 79,
   "id": "ff8b7f27",
   "metadata": {},
   "outputs": [
    {
     "data": {
      "text/html": [
       "<div>\n",
       "<style scoped>\n",
       "    .dataframe tbody tr th:only-of-type {\n",
       "        vertical-align: middle;\n",
       "    }\n",
       "\n",
       "    .dataframe tbody tr th {\n",
       "        vertical-align: top;\n",
       "    }\n",
       "\n",
       "    .dataframe thead th {\n",
       "        text-align: right;\n",
       "    }\n",
       "</style>\n",
       "<table border=\"1\" class=\"dataframe\">\n",
       "  <thead>\n",
       "    <tr style=\"text-align: right;\">\n",
       "      <th></th>\n",
       "      <th>data</th>\n",
       "      <th>dia da semana</th>\n",
       "      <th>mês</th>\n",
       "      <th>produto</th>\n",
       "      <th>tipo de produto</th>\n",
       "      <th>valor unitário ($)</th>\n",
       "      <th>quantidade vendida</th>\n",
       "      <th>total vendido</th>\n",
       "    </tr>\n",
       "  </thead>\n",
       "  <tbody>\n",
       "    <tr>\n",
       "      <th>0</th>\n",
       "      <td>2024-01-15</td>\n",
       "      <td>segunda-feria</td>\n",
       "      <td>janeiro</td>\n",
       "      <td>coxinha</td>\n",
       "      <td>salgado</td>\n",
       "      <td>5.0</td>\n",
       "      <td>15.0</td>\n",
       "      <td>75.0</td>\n",
       "    </tr>\n",
       "    <tr>\n",
       "      <th>1</th>\n",
       "      <td>2024-01-15</td>\n",
       "      <td>segunda-feria</td>\n",
       "      <td>janeiro</td>\n",
       "      <td>empada</td>\n",
       "      <td>salgado</td>\n",
       "      <td>4.5</td>\n",
       "      <td>22.0</td>\n",
       "      <td>99.0</td>\n",
       "    </tr>\n",
       "    <tr>\n",
       "      <th>2</th>\n",
       "      <td>2024-01-15</td>\n",
       "      <td>segunda-feria</td>\n",
       "      <td>janeiro</td>\n",
       "      <td>pastel</td>\n",
       "      <td>salgado</td>\n",
       "      <td>6.0</td>\n",
       "      <td>20.0</td>\n",
       "      <td>120.0</td>\n",
       "    </tr>\n",
       "    <tr>\n",
       "      <th>3</th>\n",
       "      <td>2024-01-15</td>\n",
       "      <td>segunda-feria</td>\n",
       "      <td>janeiro</td>\n",
       "      <td>americano</td>\n",
       "      <td>salgado</td>\n",
       "      <td>7.0</td>\n",
       "      <td>30.0</td>\n",
       "      <td>210.0</td>\n",
       "    </tr>\n",
       "    <tr>\n",
       "      <th>4</th>\n",
       "      <td>2024-01-15</td>\n",
       "      <td>segunda-feria</td>\n",
       "      <td>janeiro</td>\n",
       "      <td>cachorro-quente</td>\n",
       "      <td>salgado</td>\n",
       "      <td>8.0</td>\n",
       "      <td>25.0</td>\n",
       "      <td>200.0</td>\n",
       "    </tr>\n",
       "    <tr>\n",
       "      <th>...</th>\n",
       "      <td>...</td>\n",
       "      <td>...</td>\n",
       "      <td>...</td>\n",
       "      <td>...</td>\n",
       "      <td>...</td>\n",
       "      <td>...</td>\n",
       "      <td>...</td>\n",
       "      <td>...</td>\n",
       "    </tr>\n",
       "    <tr>\n",
       "      <th>1273</th>\n",
       "      <td>2024-06-28</td>\n",
       "      <td>sexta-feira</td>\n",
       "      <td>junho</td>\n",
       "      <td>tortas</td>\n",
       "      <td>doce</td>\n",
       "      <td>5.5</td>\n",
       "      <td>24.0</td>\n",
       "      <td>132.0</td>\n",
       "    </tr>\n",
       "    <tr>\n",
       "      <th>1274</th>\n",
       "      <td>2024-06-28</td>\n",
       "      <td>sexta-feira</td>\n",
       "      <td>junho</td>\n",
       "      <td>sucos</td>\n",
       "      <td>bebida</td>\n",
       "      <td>4.0</td>\n",
       "      <td>36.0</td>\n",
       "      <td>144.0</td>\n",
       "    </tr>\n",
       "    <tr>\n",
       "      <th>1275</th>\n",
       "      <td>2024-06-28</td>\n",
       "      <td>sexta-feira</td>\n",
       "      <td>junho</td>\n",
       "      <td>refrigerante</td>\n",
       "      <td>bebida</td>\n",
       "      <td>6.0</td>\n",
       "      <td>48.0</td>\n",
       "      <td>288.0</td>\n",
       "    </tr>\n",
       "    <tr>\n",
       "      <th>1276</th>\n",
       "      <td>NaT</td>\n",
       "      <td>NaN</td>\n",
       "      <td>NaN</td>\n",
       "      <td>NaN</td>\n",
       "      <td>NaN</td>\n",
       "      <td>NaN</td>\n",
       "      <td>NaN</td>\n",
       "      <td>NaN</td>\n",
       "    </tr>\n",
       "    <tr>\n",
       "      <th>1277</th>\n",
       "      <td>NaT</td>\n",
       "      <td>NaN</td>\n",
       "      <td>NaN</td>\n",
       "      <td>NaN</td>\n",
       "      <td>NaN</td>\n",
       "      <td>NaN</td>\n",
       "      <td>NaN</td>\n",
       "      <td>187723.0</td>\n",
       "    </tr>\n",
       "  </tbody>\n",
       "</table>\n",
       "<p>1278 rows × 8 columns</p>\n",
       "</div>"
      ],
      "text/plain": [
       "           data  dia da semana      mês          produto tipo de produto  \\\n",
       "0    2024-01-15  segunda-feria  janeiro          coxinha         salgado   \n",
       "1    2024-01-15  segunda-feria  janeiro           empada         salgado   \n",
       "2    2024-01-15  segunda-feria  janeiro           pastel         salgado   \n",
       "3    2024-01-15  segunda-feria  janeiro        americano         salgado   \n",
       "4    2024-01-15  segunda-feria  janeiro  cachorro-quente         salgado   \n",
       "...         ...            ...      ...              ...             ...   \n",
       "1273 2024-06-28    sexta-feira    junho           tortas            doce   \n",
       "1274 2024-06-28    sexta-feira    junho            sucos          bebida   \n",
       "1275 2024-06-28    sexta-feira    junho     refrigerante          bebida   \n",
       "1276        NaT            NaN      NaN              NaN             NaN   \n",
       "1277        NaT            NaN      NaN              NaN             NaN   \n",
       "\n",
       "      valor unitário ($)  quantidade vendida  total vendido  \n",
       "0                    5.0                15.0           75.0  \n",
       "1                    4.5                22.0           99.0  \n",
       "2                    6.0                20.0          120.0  \n",
       "3                    7.0                30.0          210.0  \n",
       "4                    8.0                25.0          200.0  \n",
       "...                  ...                 ...            ...  \n",
       "1273                 5.5                24.0          132.0  \n",
       "1274                 4.0                36.0          144.0  \n",
       "1275                 6.0                48.0          288.0  \n",
       "1276                 NaN                 NaN            NaN  \n",
       "1277                 NaN                 NaN       187723.0  \n",
       "\n",
       "[1278 rows x 8 columns]"
      ]
     },
     "metadata": {},
     "output_type": "display_data"
    }
   ],
   "source": [
    "#importando a base de dados com pandas e exibindo a tabela\n",
    "\n",
    "import pandas as pd\n",
    "tabela = pd.read_excel(\"dados_venda.xlsx\")\n",
    "display(tabela)"
   ]
  },
  {
   "cell_type": "code",
   "execution_count": 80,
   "id": "9f198213",
   "metadata": {
    "scrolled": true
   },
   "outputs": [
    {
     "name": "stdout",
     "output_type": "stream",
     "text": [
      "<class 'pandas.core.frame.DataFrame'>\n",
      "RangeIndex: 1278 entries, 0 to 1277\n",
      "Data columns (total 8 columns):\n",
      " #   Column              Non-Null Count  Dtype         \n",
      "---  ------              --------------  -----         \n",
      " 0   data                1276 non-null   datetime64[ns]\n",
      " 1   dia da semana       1276 non-null   object        \n",
      " 2   mês                 1276 non-null   object        \n",
      " 3   produto             1276 non-null   object        \n",
      " 4   tipo de produto     1276 non-null   object        \n",
      " 5   valor unitário ($)  1276 non-null   float64       \n",
      " 6   quantidade vendida  1276 non-null   float64       \n",
      " 7   total vendido       1277 non-null   float64       \n",
      "dtypes: datetime64[ns](1), float64(3), object(4)\n",
      "memory usage: 80.0+ KB\n"
     ]
    },
    {
     "data": {
      "text/plain": [
       "None"
      ]
     },
     "metadata": {},
     "output_type": "display_data"
    }
   ],
   "source": [
    "#visualizando as informações da tabela\n",
    "display(tabela.info())"
   ]
  },
  {
   "cell_type": "code",
   "execution_count": 81,
   "id": "3d4e91ce",
   "metadata": {},
   "outputs": [
    {
     "data": {
      "text/html": [
       "<div>\n",
       "<style scoped>\n",
       "    .dataframe tbody tr th:only-of-type {\n",
       "        vertical-align: middle;\n",
       "    }\n",
       "\n",
       "    .dataframe tbody tr th {\n",
       "        vertical-align: top;\n",
       "    }\n",
       "\n",
       "    .dataframe thead th {\n",
       "        text-align: right;\n",
       "    }\n",
       "</style>\n",
       "<table border=\"1\" class=\"dataframe\">\n",
       "  <thead>\n",
       "    <tr style=\"text-align: right;\">\n",
       "      <th></th>\n",
       "      <th>valor unitário ($)</th>\n",
       "      <th>quantidade vendida</th>\n",
       "      <th>total vendido</th>\n",
       "    </tr>\n",
       "  </thead>\n",
       "  <tbody>\n",
       "    <tr>\n",
       "      <th>count</th>\n",
       "      <td>1276.0</td>\n",
       "      <td>1276.0</td>\n",
       "      <td>1277.0</td>\n",
       "    </tr>\n",
       "    <tr>\n",
       "      <th>mean</th>\n",
       "      <td>6.3</td>\n",
       "      <td>23.8</td>\n",
       "      <td>294.0</td>\n",
       "    </tr>\n",
       "    <tr>\n",
       "      <th>std</th>\n",
       "      <td>1.7</td>\n",
       "      <td>11.9</td>\n",
       "      <td>5249.7</td>\n",
       "    </tr>\n",
       "    <tr>\n",
       "      <th>min</th>\n",
       "      <td>4.0</td>\n",
       "      <td>2.0</td>\n",
       "      <td>20.0</td>\n",
       "    </tr>\n",
       "    <tr>\n",
       "      <th>25%</th>\n",
       "      <td>5.0</td>\n",
       "      <td>12.0</td>\n",
       "      <td>82.5</td>\n",
       "    </tr>\n",
       "    <tr>\n",
       "      <th>50%</th>\n",
       "      <td>6.0</td>\n",
       "      <td>24.0</td>\n",
       "      <td>136.0</td>\n",
       "    </tr>\n",
       "    <tr>\n",
       "      <th>75%</th>\n",
       "      <td>8.0</td>\n",
       "      <td>33.0</td>\n",
       "      <td>210.0</td>\n",
       "    </tr>\n",
       "    <tr>\n",
       "      <th>max</th>\n",
       "      <td>10.0</td>\n",
       "      <td>56.0</td>\n",
       "      <td>187723.0</td>\n",
       "    </tr>\n",
       "  </tbody>\n",
       "</table>\n",
       "</div>"
      ],
      "text/plain": [
       "       valor unitário ($)  quantidade vendida  total vendido\n",
       "count              1276.0              1276.0         1277.0\n",
       "mean                  6.3                23.8          294.0\n",
       "std                   1.7                11.9         5249.7\n",
       "min                   4.0                 2.0           20.0\n",
       "25%                   5.0                12.0           82.5\n",
       "50%                   6.0                24.0          136.0\n",
       "75%                   8.0                33.0          210.0\n",
       "max                  10.0                56.0       187723.0"
      ]
     },
     "metadata": {},
     "output_type": "display_data"
    }
   ],
   "source": [
    "#visualizando as informações da tabela\n",
    "display(tabela.describe().round(1))"
   ]
  },
  {
   "cell_type": "code",
   "execution_count": 82,
   "id": "d6060830",
   "metadata": {},
   "outputs": [
    {
     "data": {
      "text/html": [
       "<div>\n",
       "<style scoped>\n",
       "    .dataframe tbody tr th:only-of-type {\n",
       "        vertical-align: middle;\n",
       "    }\n",
       "\n",
       "    .dataframe tbody tr th {\n",
       "        vertical-align: top;\n",
       "    }\n",
       "\n",
       "    .dataframe thead th {\n",
       "        text-align: right;\n",
       "    }\n",
       "</style>\n",
       "<table border=\"1\" class=\"dataframe\">\n",
       "  <thead>\n",
       "    <tr style=\"text-align: right;\">\n",
       "      <th></th>\n",
       "      <th>data</th>\n",
       "      <th>dia da semana</th>\n",
       "      <th>mês</th>\n",
       "      <th>produto</th>\n",
       "      <th>tipo de produto</th>\n",
       "      <th>valor unitário ($)</th>\n",
       "      <th>quantidade vendida</th>\n",
       "      <th>total vendido</th>\n",
       "    </tr>\n",
       "  </thead>\n",
       "  <tbody>\n",
       "    <tr>\n",
       "      <th>0</th>\n",
       "      <td>2024-01-15</td>\n",
       "      <td>segunda-feria</td>\n",
       "      <td>janeiro</td>\n",
       "      <td>coxinha</td>\n",
       "      <td>salgado</td>\n",
       "      <td>5.0</td>\n",
       "      <td>15.0</td>\n",
       "      <td>75.0</td>\n",
       "    </tr>\n",
       "    <tr>\n",
       "      <th>1</th>\n",
       "      <td>2024-01-15</td>\n",
       "      <td>segunda-feria</td>\n",
       "      <td>janeiro</td>\n",
       "      <td>empada</td>\n",
       "      <td>salgado</td>\n",
       "      <td>4.5</td>\n",
       "      <td>22.0</td>\n",
       "      <td>99.0</td>\n",
       "    </tr>\n",
       "    <tr>\n",
       "      <th>2</th>\n",
       "      <td>2024-01-15</td>\n",
       "      <td>segunda-feria</td>\n",
       "      <td>janeiro</td>\n",
       "      <td>pastel</td>\n",
       "      <td>salgado</td>\n",
       "      <td>6.0</td>\n",
       "      <td>20.0</td>\n",
       "      <td>120.0</td>\n",
       "    </tr>\n",
       "    <tr>\n",
       "      <th>3</th>\n",
       "      <td>2024-01-15</td>\n",
       "      <td>segunda-feria</td>\n",
       "      <td>janeiro</td>\n",
       "      <td>americano</td>\n",
       "      <td>salgado</td>\n",
       "      <td>7.0</td>\n",
       "      <td>30.0</td>\n",
       "      <td>210.0</td>\n",
       "    </tr>\n",
       "    <tr>\n",
       "      <th>4</th>\n",
       "      <td>2024-01-15</td>\n",
       "      <td>segunda-feria</td>\n",
       "      <td>janeiro</td>\n",
       "      <td>cachorro-quente</td>\n",
       "      <td>salgado</td>\n",
       "      <td>8.0</td>\n",
       "      <td>25.0</td>\n",
       "      <td>200.0</td>\n",
       "    </tr>\n",
       "    <tr>\n",
       "      <th>...</th>\n",
       "      <td>...</td>\n",
       "      <td>...</td>\n",
       "      <td>...</td>\n",
       "      <td>...</td>\n",
       "      <td>...</td>\n",
       "      <td>...</td>\n",
       "      <td>...</td>\n",
       "      <td>...</td>\n",
       "    </tr>\n",
       "    <tr>\n",
       "      <th>1271</th>\n",
       "      <td>2024-06-28</td>\n",
       "      <td>sexta-feira</td>\n",
       "      <td>junho</td>\n",
       "      <td>salada</td>\n",
       "      <td>lanche natural</td>\n",
       "      <td>10.0</td>\n",
       "      <td>5.0</td>\n",
       "      <td>50.0</td>\n",
       "    </tr>\n",
       "    <tr>\n",
       "      <th>1272</th>\n",
       "      <td>2024-06-28</td>\n",
       "      <td>sexta-feira</td>\n",
       "      <td>junho</td>\n",
       "      <td>bolo</td>\n",
       "      <td>doce</td>\n",
       "      <td>5.0</td>\n",
       "      <td>25.0</td>\n",
       "      <td>125.0</td>\n",
       "    </tr>\n",
       "    <tr>\n",
       "      <th>1273</th>\n",
       "      <td>2024-06-28</td>\n",
       "      <td>sexta-feira</td>\n",
       "      <td>junho</td>\n",
       "      <td>tortas</td>\n",
       "      <td>doce</td>\n",
       "      <td>5.5</td>\n",
       "      <td>24.0</td>\n",
       "      <td>132.0</td>\n",
       "    </tr>\n",
       "    <tr>\n",
       "      <th>1274</th>\n",
       "      <td>2024-06-28</td>\n",
       "      <td>sexta-feira</td>\n",
       "      <td>junho</td>\n",
       "      <td>sucos</td>\n",
       "      <td>bebida</td>\n",
       "      <td>4.0</td>\n",
       "      <td>36.0</td>\n",
       "      <td>144.0</td>\n",
       "    </tr>\n",
       "    <tr>\n",
       "      <th>1275</th>\n",
       "      <td>2024-06-28</td>\n",
       "      <td>sexta-feira</td>\n",
       "      <td>junho</td>\n",
       "      <td>refrigerante</td>\n",
       "      <td>bebida</td>\n",
       "      <td>6.0</td>\n",
       "      <td>48.0</td>\n",
       "      <td>288.0</td>\n",
       "    </tr>\n",
       "  </tbody>\n",
       "</table>\n",
       "<p>1276 rows × 8 columns</p>\n",
       "</div>"
      ],
      "text/plain": [
       "           data  dia da semana      mês          produto tipo de produto  \\\n",
       "0    2024-01-15  segunda-feria  janeiro          coxinha         salgado   \n",
       "1    2024-01-15  segunda-feria  janeiro           empada         salgado   \n",
       "2    2024-01-15  segunda-feria  janeiro           pastel         salgado   \n",
       "3    2024-01-15  segunda-feria  janeiro        americano         salgado   \n",
       "4    2024-01-15  segunda-feria  janeiro  cachorro-quente         salgado   \n",
       "...         ...            ...      ...              ...             ...   \n",
       "1271 2024-06-28    sexta-feira    junho           salada  lanche natural   \n",
       "1272 2024-06-28    sexta-feira    junho             bolo            doce   \n",
       "1273 2024-06-28    sexta-feira    junho           tortas            doce   \n",
       "1274 2024-06-28    sexta-feira    junho            sucos          bebida   \n",
       "1275 2024-06-28    sexta-feira    junho     refrigerante          bebida   \n",
       "\n",
       "      valor unitário ($)  quantidade vendida  total vendido  \n",
       "0                    5.0                15.0           75.0  \n",
       "1                    4.5                22.0           99.0  \n",
       "2                    6.0                20.0          120.0  \n",
       "3                    7.0                30.0          210.0  \n",
       "4                    8.0                25.0          200.0  \n",
       "...                  ...                 ...            ...  \n",
       "1271                10.0                 5.0           50.0  \n",
       "1272                 5.0                25.0          125.0  \n",
       "1273                 5.5                24.0          132.0  \n",
       "1274                 4.0                36.0          144.0  \n",
       "1275                 6.0                48.0          288.0  \n",
       "\n",
       "[1276 rows x 8 columns]"
      ]
     },
     "metadata": {},
     "output_type": "display_data"
    }
   ],
   "source": [
    "#tratando os dados da tabela importada\n",
    "tabela = tabela.dropna()\n",
    "display(tabela)"
   ]
  },
  {
   "cell_type": "code",
   "execution_count": 83,
   "id": "5cfa6364",
   "metadata": {},
   "outputs": [
    {
     "name": "stdout",
     "output_type": "stream",
     "text": [
      "187723.0\n"
     ]
    }
   ],
   "source": [
    "#avaliando o faturamento total dos 6 meses\n",
    "faturamento_total = tabela[\"total vendido\"]. sum()\n",
    "print(faturamento_total)"
   ]
  },
  {
   "cell_type": "code",
   "execution_count": 84,
   "id": "578cf2ea",
   "metadata": {},
   "outputs": [
    {
     "data": {
      "text/html": [
       "<div>\n",
       "<style scoped>\n",
       "    .dataframe tbody tr th:only-of-type {\n",
       "        vertical-align: middle;\n",
       "    }\n",
       "\n",
       "    .dataframe tbody tr th {\n",
       "        vertical-align: top;\n",
       "    }\n",
       "\n",
       "    .dataframe thead th {\n",
       "        text-align: right;\n",
       "    }\n",
       "</style>\n",
       "<table border=\"1\" class=\"dataframe\">\n",
       "  <thead>\n",
       "    <tr style=\"text-align: right;\">\n",
       "      <th></th>\n",
       "      <th>total vendido</th>\n",
       "    </tr>\n",
       "    <tr>\n",
       "      <th>mês</th>\n",
       "      <th></th>\n",
       "    </tr>\n",
       "  </thead>\n",
       "  <tbody>\n",
       "    <tr>\n",
       "      <th>abril</th>\n",
       "      <td>35055.5</td>\n",
       "    </tr>\n",
       "    <tr>\n",
       "      <th>fevereiro</th>\n",
       "      <td>29778.0</td>\n",
       "    </tr>\n",
       "    <tr>\n",
       "      <th>janeiro</th>\n",
       "      <td>19699.0</td>\n",
       "    </tr>\n",
       "    <tr>\n",
       "      <th>junho</th>\n",
       "      <td>34205.5</td>\n",
       "    </tr>\n",
       "    <tr>\n",
       "      <th>maio</th>\n",
       "      <td>35834.5</td>\n",
       "    </tr>\n",
       "    <tr>\n",
       "      <th>março</th>\n",
       "      <td>33150.5</td>\n",
       "    </tr>\n",
       "  </tbody>\n",
       "</table>\n",
       "</div>"
      ],
      "text/plain": [
       "           total vendido\n",
       "mês                     \n",
       "abril            35055.5\n",
       "fevereiro        29778.0\n",
       "janeiro          19699.0\n",
       "junho            34205.5\n",
       "maio             35834.5\n",
       "março            33150.5"
      ]
     },
     "metadata": {},
     "output_type": "display_data"
    }
   ],
   "source": [
    "#avaliando o faturamento por mês\n",
    "faturamento_por_mes = tabela[[\"mês\", \"total vendido\"]]. groupby(\"mês\"). sum()\n",
    "display(faturamento_por_mes)"
   ]
  },
  {
   "cell_type": "code",
   "execution_count": 85,
   "id": "bbdfed01",
   "metadata": {},
   "outputs": [
    {
     "name": "stdout",
     "output_type": "stream",
     "text": [
      "Faturamento de Janeiro:\n",
      "produto            dia da semana\n",
      "americano          quarta-feira     609.0\n",
      "                   quinta-feira     448.0\n",
      "                   segunda-feria    616.0\n",
      "                   sexta-feira      462.0\n",
      "                   terça-feria      616.0\n",
      "bolo               quarta-feira     140.0\n",
      "                   quinta-feira     105.0\n",
      "                   segunda-feria    110.0\n",
      "                   sexta-feira      190.0\n",
      "                   terça-feria      130.0\n",
      "cachorro-quente    quarta-feira     664.0\n",
      "                   quinta-feira     512.0\n",
      "                   segunda-feria    696.0\n",
      "                   sexta-feira      568.0\n",
      "                   terça-feria      560.0\n",
      "coxinha            quarta-feira     140.0\n",
      "                   quinta-feira      70.0\n",
      "                   segunda-feria    175.0\n",
      "                   sexta-feira       80.0\n",
      "                   terça-feria      155.0\n",
      "empada             quarta-feira     319.5\n",
      "                   quinta-feira     220.5\n",
      "                   segunda-feria    310.5\n",
      "                   sexta-feira      216.0\n",
      "                   terça-feria      306.0\n",
      "pastel             quarta-feira     426.0\n",
      "                   quinta-feira     270.0\n",
      "                   segunda-feria    360.0\n",
      "                   sexta-feira      288.0\n",
      "                   terça-feria      378.0\n",
      "refrigerante       quarta-feira     720.0\n",
      "                   quinta-feira     540.0\n",
      "                   segunda-feria    780.0\n",
      "                   sexta-feira      576.0\n",
      "                   terça-feria      684.0\n",
      "salada             quarta-feira     470.0\n",
      "                   quinta-feira     240.0\n",
      "                   segunda-feria    530.0\n",
      "                   sexta-feira      130.0\n",
      "                   terça-feria      440.0\n",
      "sanduiche natural  quarta-feira     376.0\n",
      "                   quinta-feira     232.0\n",
      "                   segunda-feria    440.0\n",
      "                   sexta-feira      152.0\n",
      "                   terça-feria      424.0\n",
      "sucos              quarta-feira     408.0\n",
      "                   quinta-feira     268.0\n",
      "                   segunda-feria    444.0\n",
      "                   sexta-feira      316.0\n",
      "                   terça-feria      404.0\n",
      "tortas             quarta-feira     187.0\n",
      "                   quinta-feira     148.5\n",
      "                   segunda-feria    192.5\n",
      "                   sexta-feira      275.0\n",
      "                   terça-feria      181.5\n",
      "Name: total vendido, dtype: float64\n",
      "\n",
      "\n",
      "Faturamento de Fevereiro:\n",
      "produto            dia da semana\n",
      "americano          quarta-feira      833.0\n",
      "                   quinta-feira     1113.0\n",
      "                   segunda-feria     672.0\n",
      "                   sexta-feira       882.0\n",
      "                   terça-feria       756.0\n",
      "bolo               quarta-feira      150.0\n",
      "                   quinta-feira      275.0\n",
      "                   segunda-feria     130.0\n",
      "                   sexta-feira       370.0\n",
      "                   terça-feria       135.0\n",
      "cachorro-quente    quarta-feira     1120.0\n",
      "                   quinta-feira     1176.0\n",
      "                   segunda-feria     816.0\n",
      "                   sexta-feira      1216.0\n",
      "                   terça-feria       832.0\n",
      "coxinha            quarta-feira      170.0\n",
      "                   quinta-feira      205.0\n",
      "                   segunda-feria     105.0\n",
      "                   sexta-feira       155.0\n",
      "                   terça-feria       120.0\n",
      "empada             quarta-feira      427.5\n",
      "                   quinta-feira      562.5\n",
      "                   segunda-feria     315.0\n",
      "                   sexta-feira       468.0\n",
      "                   terça-feria       324.0\n",
      "pastel             quarta-feira      540.0\n",
      "                   quinta-feira      762.0\n",
      "                   segunda-feria     444.0\n",
      "                   sexta-feira       648.0\n",
      "                   terça-feria       498.0\n",
      "refrigerante       quarta-feira      864.0\n",
      "                   quinta-feira     1176.0\n",
      "                   segunda-feria     684.0\n",
      "                   sexta-feira      1122.0\n",
      "                   terça-feria       684.0\n",
      "salada             quarta-feira      690.0\n",
      "                   quinta-feira      710.0\n",
      "                   segunda-feria     590.0\n",
      "                   sexta-feira       290.0\n",
      "                   terça-feria       510.0\n",
      "sanduiche natural  quarta-feira      488.0\n",
      "                   quinta-feira      512.0\n",
      "                   segunda-feria     464.0\n",
      "                   sexta-feira       280.0\n",
      "                   terça-feria       336.0\n",
      "sucos              quarta-feira      560.0\n",
      "                   quinta-feira      676.0\n",
      "                   segunda-feria     496.0\n",
      "                   sexta-feira       520.0\n",
      "                   terça-feria       432.0\n",
      "tortas             quarta-feira      236.5\n",
      "                   quinta-feira      374.0\n",
      "                   segunda-feria     148.5\n",
      "                   sexta-feira       522.5\n",
      "                   terça-feria       192.5\n",
      "Name: total vendido, dtype: float64\n",
      "\n",
      "\n",
      "Faturamento de Março:\n",
      "produto            dia da semana\n",
      "americano          quarta-feira      854.0\n",
      "                   quinta-feira      917.0\n",
      "                   segunda-feria     917.0\n",
      "                   sexta-feira      1001.0\n",
      "                   terça-feria       966.0\n",
      "bolo               quarta-feira      205.0\n",
      "                   quinta-feira      270.0\n",
      "                   segunda-feria     160.0\n",
      "                   sexta-feira       465.0\n",
      "                   terça-feria       210.0\n",
      "cachorro-quente    quarta-feira     1168.0\n",
      "                   quinta-feira     1152.0\n",
      "                   segunda-feria    1160.0\n",
      "                   sexta-feira      1248.0\n",
      "                   terça-feria      1080.0\n",
      "coxinha            quarta-feira      190.0\n",
      "                   quinta-feira      155.0\n",
      "                   segunda-feria     180.0\n",
      "                   sexta-feira       170.0\n",
      "                   terça-feria       185.0\n",
      "empada             quarta-feira      504.0\n",
      "                   quinta-feira      486.0\n",
      "                   segunda-feria     459.0\n",
      "                   sexta-feira       495.0\n",
      "                   terça-feria       472.5\n",
      "pastel             quarta-feira      630.0\n",
      "                   quinta-feira      576.0\n",
      "                   segunda-feria     564.0\n",
      "                   sexta-feira       750.0\n",
      "                   terça-feria       576.0\n",
      "refrigerante       quarta-feira      954.0\n",
      "                   quinta-feira     1020.0\n",
      "                   segunda-feria     738.0\n",
      "                   sexta-feira      1152.0\n",
      "                   terça-feria       816.0\n",
      "salada             quarta-feira      480.0\n",
      "                   quinta-feira      430.0\n",
      "                   segunda-feria     920.0\n",
      "                   sexta-feira       250.0\n",
      "                   terça-feria       850.0\n",
      "sanduiche natural  quarta-feira      560.0\n",
      "                   quinta-feira      504.0\n",
      "                   segunda-feria     768.0\n",
      "                   sexta-feira       288.0\n",
      "                   terça-feria       640.0\n",
      "sucos              quarta-feira      508.0\n",
      "                   quinta-feira      600.0\n",
      "                   segunda-feria     700.0\n",
      "                   sexta-feira       580.0\n",
      "                   terça-feria       588.0\n",
      "tortas             quarta-feira      308.0\n",
      "                   quinta-feira      335.5\n",
      "                   segunda-feria     231.0\n",
      "                   sexta-feira       550.0\n",
      "                   terça-feria       214.5\n",
      "Name: total vendido, dtype: float64\n",
      "\n",
      "\n",
      "Faturamento de Abril:\n",
      "produto            dia da semana\n",
      "americano          quarta-feira      903.0\n",
      "                   quinta-feira      931.0\n",
      "                   segunda-feria    1057.0\n",
      "                   sexta-feira       882.0\n",
      "                   terça-feria      1127.0\n",
      "bolo               quarta-feira      195.0\n",
      "                   quinta-feira      285.0\n",
      "                   segunda-feria     180.0\n",
      "                   sexta-feira       450.0\n",
      "                   terça-feria       225.0\n",
      "cachorro-quente    quarta-feira     1016.0\n",
      "                   quinta-feira     1120.0\n",
      "                   segunda-feria    1240.0\n",
      "                   sexta-feira      1208.0\n",
      "                   terça-feria      1160.0\n",
      "coxinha            quarta-feira      160.0\n",
      "                   quinta-feira      160.0\n",
      "                   segunda-feria     265.0\n",
      "                   sexta-feira       165.0\n",
      "                   terça-feria       255.0\n",
      "empada             quarta-feira      427.5\n",
      "                   quinta-feira      459.0\n",
      "                   segunda-feria     540.0\n",
      "                   sexta-feira       490.5\n",
      "                   terça-feria       535.5\n",
      "pastel             quarta-feira      594.0\n",
      "                   quinta-feira      678.0\n",
      "                   segunda-feria     624.0\n",
      "                   sexta-feira       720.0\n",
      "                   terça-feria       750.0\n",
      "refrigerante       quarta-feira      990.0\n",
      "                   quinta-feira     1038.0\n",
      "                   segunda-feria    1212.0\n",
      "                   sexta-feira      1176.0\n",
      "                   terça-feria      1170.0\n",
      "salada             quarta-feira      640.0\n",
      "                   quinta-feira      510.0\n",
      "                   segunda-feria    1010.0\n",
      "                   sexta-feira       180.0\n",
      "                   terça-feria       890.0\n",
      "sanduiche natural  quarta-feira      440.0\n",
      "                   quinta-feira      392.0\n",
      "                   segunda-feria     848.0\n",
      "                   sexta-feira       328.0\n",
      "                   terça-feria       656.0\n",
      "sucos              quarta-feira      556.0\n",
      "                   quinta-feira      552.0\n",
      "                   segunda-feria     756.0\n",
      "                   sexta-feira       544.0\n",
      "                   terça-feria       704.0\n",
      "tortas             quarta-feira      242.0\n",
      "                   quinta-feira      374.0\n",
      "                   segunda-feria     253.0\n",
      "                   sexta-feira       528.0\n",
      "                   terça-feria       264.0\n",
      "Name: total vendido, dtype: float64\n",
      "\n",
      "\n",
      "Faturamento de Maio:\n",
      "produto            dia da semana\n",
      "americano          quarta-feira      938.0\n",
      "                   quinta-feira     1141.0\n",
      "                   segunda-feria     882.0\n",
      "                   sexta-feira      1085.0\n",
      "                   terça-feria       896.0\n",
      "bolo               quarta-feira      240.0\n",
      "                   quinta-feira      355.0\n",
      "                   segunda-feria     170.0\n",
      "                   sexta-feira       630.0\n",
      "                   terça-feria       190.0\n",
      "cachorro-quente    quarta-feira     1072.0\n",
      "                   quinta-feira     1344.0\n",
      "                   segunda-feria    1056.0\n",
      "                   sexta-feira      1376.0\n",
      "                   terça-feria      1096.0\n",
      "coxinha            quarta-feira      170.0\n",
      "                   quinta-feira      205.0\n",
      "                   segunda-feria     215.0\n",
      "                   sexta-feira       210.0\n",
      "                   terça-feria       195.0\n",
      "empada             quarta-feira      427.5\n",
      "                   quinta-feira      567.0\n",
      "                   segunda-feria     427.5\n",
      "                   sexta-feira       661.5\n",
      "                   terça-feria       463.5\n",
      "pastel             quarta-feira      438.0\n",
      "                   quinta-feira      750.0\n",
      "                   segunda-feria     372.0\n",
      "                   sexta-feira       822.0\n",
      "                   terça-feria       468.0\n",
      "refrigerante       quarta-feira     1038.0\n",
      "                   quinta-feira     1374.0\n",
      "                   segunda-feria     870.0\n",
      "                   sexta-feira      1584.0\n",
      "                   terça-feria       894.0\n",
      "salada             quarta-feira      740.0\n",
      "                   quinta-feira      630.0\n",
      "                   segunda-feria     880.0\n",
      "                   sexta-feira       370.0\n",
      "                   terça-feria       790.0\n",
      "sanduiche natural  quarta-feira      520.0\n",
      "                   quinta-feira      464.0\n",
      "                   segunda-feria     728.0\n",
      "                   sexta-feira       312.0\n",
      "                   terça-feria       648.0\n",
      "sucos              quarta-feira      580.0\n",
      "                   quinta-feira      704.0\n",
      "                   segunda-feria     632.0\n",
      "                   sexta-feira       664.0\n",
      "                   terça-feria       564.0\n",
      "tortas             quarta-feira      341.0\n",
      "                   quinta-feira      495.0\n",
      "                   segunda-feria     225.5\n",
      "                   sexta-feira       709.5\n",
      "                   terça-feria       214.5\n",
      "Name: total vendido, dtype: float64\n",
      "\n",
      "\n",
      "Faturamento de Junho:\n",
      "produto            dia da semana\n",
      "americano          quarta-feira     1022.0\n",
      "                   quinta-feira     1001.0\n",
      "                   segunda-feria     917.0\n",
      "                   sexta-feira       945.0\n",
      "                   terça-feria       959.0\n",
      "bolo               quarta-feira      220.0\n",
      "                   quinta-feira      275.0\n",
      "                   segunda-feria     240.0\n",
      "                   sexta-feira       490.0\n",
      "                   terça-feria       200.0\n",
      "cachorro-quente    quarta-feira     1152.0\n",
      "                   quinta-feira     1192.0\n",
      "                   segunda-feria    1152.0\n",
      "                   sexta-feira      1288.0\n",
      "                   terça-feria      1176.0\n",
      "coxinha            quarta-feira      215.0\n",
      "                   quinta-feira      200.0\n",
      "                   segunda-feria     260.0\n",
      "                   sexta-feira       155.0\n",
      "                   terça-feria       175.0\n",
      "empada             quarta-feira      445.5\n",
      "                   quinta-feira      472.5\n",
      "                   segunda-feria     504.0\n",
      "                   sexta-feira       481.5\n",
      "                   terça-feria       454.5\n",
      "pastel             quarta-feira      510.0\n",
      "                   quinta-feira      552.0\n",
      "                   segunda-feria     348.0\n",
      "                   sexta-feira       660.0\n",
      "                   terça-feria       432.0\n",
      "refrigerante       quarta-feira     1146.0\n",
      "                   quinta-feira     1080.0\n",
      "                   segunda-feria    1074.0\n",
      "                   sexta-feira      1200.0\n",
      "                   terça-feria      1158.0\n",
      "salada             quarta-feira      540.0\n",
      "                   quinta-feira      410.0\n",
      "                   segunda-feria     830.0\n",
      "                   sexta-feira       220.0\n",
      "                   terça-feria       910.0\n",
      "sanduiche natural  quarta-feira      496.0\n",
      "                   quinta-feira      368.0\n",
      "                   segunda-feria     760.0\n",
      "                   sexta-feira       256.0\n",
      "                   terça-feria       688.0\n",
      "sucos              quarta-feira      620.0\n",
      "                   quinta-feira      628.0\n",
      "                   segunda-feria     680.0\n",
      "                   sexta-feira       676.0\n",
      "                   terça-feria       628.0\n",
      "tortas             quarta-feira      363.0\n",
      "                   quinta-feira      352.0\n",
      "                   segunda-feria     236.5\n",
      "                   sexta-feira       577.5\n",
      "                   terça-feria       214.5\n",
      "Name: total vendido, dtype: float64\n",
      "\n",
      "\n"
     ]
    }
   ],
   "source": [
    "#avaliando o faturamento de cada produto em cada dia da semana do mês\n",
    "\n",
    "# Lista de meses de interesse\n",
    "meses = [\"janeiro\", \"fevereiro\", \"março\", \"abril\", \"maio\", \"junho\"]\n",
    "\n",
    "# Dicionário para armazenar o resultado de cada mês\n",
    "faturamento_por_mes = {}\n",
    "\n",
    "# Iterar sobre cada mês e calcular o faturamento por produto e dia da semana\n",
    "for mes in meses:\n",
    "    faturamento_por_mes[mes] = tabela[tabela[\"mês\"] == mes].groupby([\"produto\", \"dia da semana\"])[\"total vendido\"].sum()\n",
    "\n",
    "# Exibir os resultados\n",
    "for mes, faturamento in faturamento_por_mes.items():\n",
    "    print(f\"Faturamento de {mes.capitalize()}:\")\n",
    "    print(faturamento)\n",
    "    print(\"\\n\")\n"
   ]
  },
  {
   "cell_type": "code",
   "execution_count": 86,
   "id": "0c8e3f1c",
   "metadata": {},
   "outputs": [],
   "source": [
    "#importando a biblioteca plotly para avaliação gráfica\n",
    "\n",
    "import plotly.express as px"
   ]
  },
  {
   "cell_type": "code",
   "execution_count": 87,
   "id": "259c1ed6",
   "metadata": {},
   "outputs": [
    {
     "data": {
      "application/vnd.plotly.v1+json": {
       "config": {
        "plotlyServerURL": "https://plot.ly"
       },
       "data": [
        {
         "alignmentgroup": "True",
         "hovertemplate": "produto=americano<br>mês=janeiro<br>Dia da Semana=%{x}<br>Faturamento=%{y}<extra></extra>",
         "legendgroup": "americano",
         "marker": {
          "color": "#636efa",
          "pattern": {
           "shape": ""
          }
         },
         "name": "americano",
         "offsetgroup": "americano",
         "orientation": "v",
         "showlegend": true,
         "textposition": "auto",
         "type": "bar",
         "x": [
          "quarta-feira",
          "quinta-feira",
          "segunda-feria",
          "sexta-feira",
          "terça-feria"
         ],
         "xaxis": "x",
         "y": [
          609,
          448,
          616,
          462,
          616
         ],
         "yaxis": "y"
        },
        {
         "alignmentgroup": "True",
         "hovertemplate": "produto=americano<br>mês=fevereiro<br>Dia da Semana=%{x}<br>Faturamento=%{y}<extra></extra>",
         "legendgroup": "americano",
         "marker": {
          "color": "#636efa",
          "pattern": {
           "shape": ""
          }
         },
         "name": "americano",
         "offsetgroup": "americano",
         "orientation": "v",
         "showlegend": false,
         "textposition": "auto",
         "type": "bar",
         "x": [
          "quarta-feira",
          "quinta-feira",
          "segunda-feria",
          "sexta-feira",
          "terça-feria"
         ],
         "xaxis": "x2",
         "y": [
          833,
          1113,
          672,
          882,
          756
         ],
         "yaxis": "y2"
        },
        {
         "alignmentgroup": "True",
         "hovertemplate": "produto=americano<br>mês=março<br>Dia da Semana=%{x}<br>Faturamento=%{y}<extra></extra>",
         "legendgroup": "americano",
         "marker": {
          "color": "#636efa",
          "pattern": {
           "shape": ""
          }
         },
         "name": "americano",
         "offsetgroup": "americano",
         "orientation": "v",
         "showlegend": false,
         "textposition": "auto",
         "type": "bar",
         "x": [
          "quarta-feira",
          "quinta-feira",
          "segunda-feria",
          "sexta-feira",
          "terça-feria"
         ],
         "xaxis": "x3",
         "y": [
          854,
          917,
          917,
          1001,
          966
         ],
         "yaxis": "y3"
        },
        {
         "alignmentgroup": "True",
         "hovertemplate": "produto=americano<br>mês=abril<br>Dia da Semana=%{x}<br>Faturamento=%{y}<extra></extra>",
         "legendgroup": "americano",
         "marker": {
          "color": "#636efa",
          "pattern": {
           "shape": ""
          }
         },
         "name": "americano",
         "offsetgroup": "americano",
         "orientation": "v",
         "showlegend": false,
         "textposition": "auto",
         "type": "bar",
         "x": [
          "quarta-feira",
          "quinta-feira",
          "segunda-feria",
          "sexta-feira",
          "terça-feria"
         ],
         "xaxis": "x4",
         "y": [
          903,
          931,
          1057,
          882,
          1127
         ],
         "yaxis": "y4"
        },
        {
         "alignmentgroup": "True",
         "hovertemplate": "produto=americano<br>mês=maio<br>Dia da Semana=%{x}<br>Faturamento=%{y}<extra></extra>",
         "legendgroup": "americano",
         "marker": {
          "color": "#636efa",
          "pattern": {
           "shape": ""
          }
         },
         "name": "americano",
         "offsetgroup": "americano",
         "orientation": "v",
         "showlegend": false,
         "textposition": "auto",
         "type": "bar",
         "x": [
          "quarta-feira",
          "quinta-feira",
          "segunda-feria",
          "sexta-feira",
          "terça-feria"
         ],
         "xaxis": "x5",
         "y": [
          938,
          1141,
          882,
          1085,
          896
         ],
         "yaxis": "y5"
        },
        {
         "alignmentgroup": "True",
         "hovertemplate": "produto=americano<br>mês=junho<br>Dia da Semana=%{x}<br>Faturamento=%{y}<extra></extra>",
         "legendgroup": "americano",
         "marker": {
          "color": "#636efa",
          "pattern": {
           "shape": ""
          }
         },
         "name": "americano",
         "offsetgroup": "americano",
         "orientation": "v",
         "showlegend": false,
         "textposition": "auto",
         "type": "bar",
         "x": [
          "quarta-feira",
          "quinta-feira",
          "segunda-feria",
          "sexta-feira",
          "terça-feria"
         ],
         "xaxis": "x6",
         "y": [
          1022,
          1001,
          917,
          945,
          959
         ],
         "yaxis": "y6"
        },
        {
         "alignmentgroup": "True",
         "hovertemplate": "produto=bolo<br>mês=janeiro<br>Dia da Semana=%{x}<br>Faturamento=%{y}<extra></extra>",
         "legendgroup": "bolo",
         "marker": {
          "color": "#EF553B",
          "pattern": {
           "shape": ""
          }
         },
         "name": "bolo",
         "offsetgroup": "bolo",
         "orientation": "v",
         "showlegend": true,
         "textposition": "auto",
         "type": "bar",
         "x": [
          "quarta-feira",
          "quinta-feira",
          "segunda-feria",
          "sexta-feira",
          "terça-feria"
         ],
         "xaxis": "x",
         "y": [
          140,
          105,
          110,
          190,
          130
         ],
         "yaxis": "y"
        },
        {
         "alignmentgroup": "True",
         "hovertemplate": "produto=bolo<br>mês=fevereiro<br>Dia da Semana=%{x}<br>Faturamento=%{y}<extra></extra>",
         "legendgroup": "bolo",
         "marker": {
          "color": "#EF553B",
          "pattern": {
           "shape": ""
          }
         },
         "name": "bolo",
         "offsetgroup": "bolo",
         "orientation": "v",
         "showlegend": false,
         "textposition": "auto",
         "type": "bar",
         "x": [
          "quarta-feira",
          "quinta-feira",
          "segunda-feria",
          "sexta-feira",
          "terça-feria"
         ],
         "xaxis": "x2",
         "y": [
          150,
          275,
          130,
          370,
          135
         ],
         "yaxis": "y2"
        },
        {
         "alignmentgroup": "True",
         "hovertemplate": "produto=bolo<br>mês=março<br>Dia da Semana=%{x}<br>Faturamento=%{y}<extra></extra>",
         "legendgroup": "bolo",
         "marker": {
          "color": "#EF553B",
          "pattern": {
           "shape": ""
          }
         },
         "name": "bolo",
         "offsetgroup": "bolo",
         "orientation": "v",
         "showlegend": false,
         "textposition": "auto",
         "type": "bar",
         "x": [
          "quarta-feira",
          "quinta-feira",
          "segunda-feria",
          "sexta-feira",
          "terça-feria"
         ],
         "xaxis": "x3",
         "y": [
          205,
          270,
          160,
          465,
          210
         ],
         "yaxis": "y3"
        },
        {
         "alignmentgroup": "True",
         "hovertemplate": "produto=bolo<br>mês=abril<br>Dia da Semana=%{x}<br>Faturamento=%{y}<extra></extra>",
         "legendgroup": "bolo",
         "marker": {
          "color": "#EF553B",
          "pattern": {
           "shape": ""
          }
         },
         "name": "bolo",
         "offsetgroup": "bolo",
         "orientation": "v",
         "showlegend": false,
         "textposition": "auto",
         "type": "bar",
         "x": [
          "quarta-feira",
          "quinta-feira",
          "segunda-feria",
          "sexta-feira",
          "terça-feria"
         ],
         "xaxis": "x4",
         "y": [
          195,
          285,
          180,
          450,
          225
         ],
         "yaxis": "y4"
        },
        {
         "alignmentgroup": "True",
         "hovertemplate": "produto=bolo<br>mês=maio<br>Dia da Semana=%{x}<br>Faturamento=%{y}<extra></extra>",
         "legendgroup": "bolo",
         "marker": {
          "color": "#EF553B",
          "pattern": {
           "shape": ""
          }
         },
         "name": "bolo",
         "offsetgroup": "bolo",
         "orientation": "v",
         "showlegend": false,
         "textposition": "auto",
         "type": "bar",
         "x": [
          "quarta-feira",
          "quinta-feira",
          "segunda-feria",
          "sexta-feira",
          "terça-feria"
         ],
         "xaxis": "x5",
         "y": [
          240,
          355,
          170,
          630,
          190
         ],
         "yaxis": "y5"
        },
        {
         "alignmentgroup": "True",
         "hovertemplate": "produto=bolo<br>mês=junho<br>Dia da Semana=%{x}<br>Faturamento=%{y}<extra></extra>",
         "legendgroup": "bolo",
         "marker": {
          "color": "#EF553B",
          "pattern": {
           "shape": ""
          }
         },
         "name": "bolo",
         "offsetgroup": "bolo",
         "orientation": "v",
         "showlegend": false,
         "textposition": "auto",
         "type": "bar",
         "x": [
          "quarta-feira",
          "quinta-feira",
          "segunda-feria",
          "sexta-feira",
          "terça-feria"
         ],
         "xaxis": "x6",
         "y": [
          220,
          275,
          240,
          490,
          200
         ],
         "yaxis": "y6"
        },
        {
         "alignmentgroup": "True",
         "hovertemplate": "produto=cachorro-quente<br>mês=janeiro<br>Dia da Semana=%{x}<br>Faturamento=%{y}<extra></extra>",
         "legendgroup": "cachorro-quente",
         "marker": {
          "color": "#00cc96",
          "pattern": {
           "shape": ""
          }
         },
         "name": "cachorro-quente",
         "offsetgroup": "cachorro-quente",
         "orientation": "v",
         "showlegend": true,
         "textposition": "auto",
         "type": "bar",
         "x": [
          "quarta-feira",
          "quinta-feira",
          "segunda-feria",
          "sexta-feira",
          "terça-feria"
         ],
         "xaxis": "x",
         "y": [
          664,
          512,
          696,
          568,
          560
         ],
         "yaxis": "y"
        },
        {
         "alignmentgroup": "True",
         "hovertemplate": "produto=cachorro-quente<br>mês=fevereiro<br>Dia da Semana=%{x}<br>Faturamento=%{y}<extra></extra>",
         "legendgroup": "cachorro-quente",
         "marker": {
          "color": "#00cc96",
          "pattern": {
           "shape": ""
          }
         },
         "name": "cachorro-quente",
         "offsetgroup": "cachorro-quente",
         "orientation": "v",
         "showlegend": false,
         "textposition": "auto",
         "type": "bar",
         "x": [
          "quarta-feira",
          "quinta-feira",
          "segunda-feria",
          "sexta-feira",
          "terça-feria"
         ],
         "xaxis": "x2",
         "y": [
          1120,
          1176,
          816,
          1216,
          832
         ],
         "yaxis": "y2"
        },
        {
         "alignmentgroup": "True",
         "hovertemplate": "produto=cachorro-quente<br>mês=março<br>Dia da Semana=%{x}<br>Faturamento=%{y}<extra></extra>",
         "legendgroup": "cachorro-quente",
         "marker": {
          "color": "#00cc96",
          "pattern": {
           "shape": ""
          }
         },
         "name": "cachorro-quente",
         "offsetgroup": "cachorro-quente",
         "orientation": "v",
         "showlegend": false,
         "textposition": "auto",
         "type": "bar",
         "x": [
          "quarta-feira",
          "quinta-feira",
          "segunda-feria",
          "sexta-feira",
          "terça-feria"
         ],
         "xaxis": "x3",
         "y": [
          1168,
          1152,
          1160,
          1248,
          1080
         ],
         "yaxis": "y3"
        },
        {
         "alignmentgroup": "True",
         "hovertemplate": "produto=cachorro-quente<br>mês=abril<br>Dia da Semana=%{x}<br>Faturamento=%{y}<extra></extra>",
         "legendgroup": "cachorro-quente",
         "marker": {
          "color": "#00cc96",
          "pattern": {
           "shape": ""
          }
         },
         "name": "cachorro-quente",
         "offsetgroup": "cachorro-quente",
         "orientation": "v",
         "showlegend": false,
         "textposition": "auto",
         "type": "bar",
         "x": [
          "quarta-feira",
          "quinta-feira",
          "segunda-feria",
          "sexta-feira",
          "terça-feria"
         ],
         "xaxis": "x4",
         "y": [
          1016,
          1120,
          1240,
          1208,
          1160
         ],
         "yaxis": "y4"
        },
        {
         "alignmentgroup": "True",
         "hovertemplate": "produto=cachorro-quente<br>mês=maio<br>Dia da Semana=%{x}<br>Faturamento=%{y}<extra></extra>",
         "legendgroup": "cachorro-quente",
         "marker": {
          "color": "#00cc96",
          "pattern": {
           "shape": ""
          }
         },
         "name": "cachorro-quente",
         "offsetgroup": "cachorro-quente",
         "orientation": "v",
         "showlegend": false,
         "textposition": "auto",
         "type": "bar",
         "x": [
          "quarta-feira",
          "quinta-feira",
          "segunda-feria",
          "sexta-feira",
          "terça-feria"
         ],
         "xaxis": "x5",
         "y": [
          1072,
          1344,
          1056,
          1376,
          1096
         ],
         "yaxis": "y5"
        },
        {
         "alignmentgroup": "True",
         "hovertemplate": "produto=cachorro-quente<br>mês=junho<br>Dia da Semana=%{x}<br>Faturamento=%{y}<extra></extra>",
         "legendgroup": "cachorro-quente",
         "marker": {
          "color": "#00cc96",
          "pattern": {
           "shape": ""
          }
         },
         "name": "cachorro-quente",
         "offsetgroup": "cachorro-quente",
         "orientation": "v",
         "showlegend": false,
         "textposition": "auto",
         "type": "bar",
         "x": [
          "quarta-feira",
          "quinta-feira",
          "segunda-feria",
          "sexta-feira",
          "terça-feria"
         ],
         "xaxis": "x6",
         "y": [
          1152,
          1192,
          1152,
          1288,
          1176
         ],
         "yaxis": "y6"
        },
        {
         "alignmentgroup": "True",
         "hovertemplate": "produto=coxinha<br>mês=janeiro<br>Dia da Semana=%{x}<br>Faturamento=%{y}<extra></extra>",
         "legendgroup": "coxinha",
         "marker": {
          "color": "#ab63fa",
          "pattern": {
           "shape": ""
          }
         },
         "name": "coxinha",
         "offsetgroup": "coxinha",
         "orientation": "v",
         "showlegend": true,
         "textposition": "auto",
         "type": "bar",
         "x": [
          "quarta-feira",
          "quinta-feira",
          "segunda-feria",
          "sexta-feira",
          "terça-feria"
         ],
         "xaxis": "x",
         "y": [
          140,
          70,
          175,
          80,
          155
         ],
         "yaxis": "y"
        },
        {
         "alignmentgroup": "True",
         "hovertemplate": "produto=coxinha<br>mês=fevereiro<br>Dia da Semana=%{x}<br>Faturamento=%{y}<extra></extra>",
         "legendgroup": "coxinha",
         "marker": {
          "color": "#ab63fa",
          "pattern": {
           "shape": ""
          }
         },
         "name": "coxinha",
         "offsetgroup": "coxinha",
         "orientation": "v",
         "showlegend": false,
         "textposition": "auto",
         "type": "bar",
         "x": [
          "quarta-feira",
          "quinta-feira",
          "segunda-feria",
          "sexta-feira",
          "terça-feria"
         ],
         "xaxis": "x2",
         "y": [
          170,
          205,
          105,
          155,
          120
         ],
         "yaxis": "y2"
        },
        {
         "alignmentgroup": "True",
         "hovertemplate": "produto=coxinha<br>mês=março<br>Dia da Semana=%{x}<br>Faturamento=%{y}<extra></extra>",
         "legendgroup": "coxinha",
         "marker": {
          "color": "#ab63fa",
          "pattern": {
           "shape": ""
          }
         },
         "name": "coxinha",
         "offsetgroup": "coxinha",
         "orientation": "v",
         "showlegend": false,
         "textposition": "auto",
         "type": "bar",
         "x": [
          "quarta-feira",
          "quinta-feira",
          "segunda-feria",
          "sexta-feira",
          "terça-feria"
         ],
         "xaxis": "x3",
         "y": [
          190,
          155,
          180,
          170,
          185
         ],
         "yaxis": "y3"
        },
        {
         "alignmentgroup": "True",
         "hovertemplate": "produto=coxinha<br>mês=abril<br>Dia da Semana=%{x}<br>Faturamento=%{y}<extra></extra>",
         "legendgroup": "coxinha",
         "marker": {
          "color": "#ab63fa",
          "pattern": {
           "shape": ""
          }
         },
         "name": "coxinha",
         "offsetgroup": "coxinha",
         "orientation": "v",
         "showlegend": false,
         "textposition": "auto",
         "type": "bar",
         "x": [
          "quarta-feira",
          "quinta-feira",
          "segunda-feria",
          "sexta-feira",
          "terça-feria"
         ],
         "xaxis": "x4",
         "y": [
          160,
          160,
          265,
          165,
          255
         ],
         "yaxis": "y4"
        },
        {
         "alignmentgroup": "True",
         "hovertemplate": "produto=coxinha<br>mês=maio<br>Dia da Semana=%{x}<br>Faturamento=%{y}<extra></extra>",
         "legendgroup": "coxinha",
         "marker": {
          "color": "#ab63fa",
          "pattern": {
           "shape": ""
          }
         },
         "name": "coxinha",
         "offsetgroup": "coxinha",
         "orientation": "v",
         "showlegend": false,
         "textposition": "auto",
         "type": "bar",
         "x": [
          "quarta-feira",
          "quinta-feira",
          "segunda-feria",
          "sexta-feira",
          "terça-feria"
         ],
         "xaxis": "x5",
         "y": [
          170,
          205,
          215,
          210,
          195
         ],
         "yaxis": "y5"
        },
        {
         "alignmentgroup": "True",
         "hovertemplate": "produto=coxinha<br>mês=junho<br>Dia da Semana=%{x}<br>Faturamento=%{y}<extra></extra>",
         "legendgroup": "coxinha",
         "marker": {
          "color": "#ab63fa",
          "pattern": {
           "shape": ""
          }
         },
         "name": "coxinha",
         "offsetgroup": "coxinha",
         "orientation": "v",
         "showlegend": false,
         "textposition": "auto",
         "type": "bar",
         "x": [
          "quarta-feira",
          "quinta-feira",
          "segunda-feria",
          "sexta-feira",
          "terça-feria"
         ],
         "xaxis": "x6",
         "y": [
          215,
          200,
          260,
          155,
          175
         ],
         "yaxis": "y6"
        },
        {
         "alignmentgroup": "True",
         "hovertemplate": "produto=empada<br>mês=janeiro<br>Dia da Semana=%{x}<br>Faturamento=%{y}<extra></extra>",
         "legendgroup": "empada",
         "marker": {
          "color": "#FFA15A",
          "pattern": {
           "shape": ""
          }
         },
         "name": "empada",
         "offsetgroup": "empada",
         "orientation": "v",
         "showlegend": true,
         "textposition": "auto",
         "type": "bar",
         "x": [
          "quarta-feira",
          "quinta-feira",
          "segunda-feria",
          "sexta-feira",
          "terça-feria"
         ],
         "xaxis": "x",
         "y": [
          319.5,
          220.5,
          310.5,
          216,
          306
         ],
         "yaxis": "y"
        },
        {
         "alignmentgroup": "True",
         "hovertemplate": "produto=empada<br>mês=fevereiro<br>Dia da Semana=%{x}<br>Faturamento=%{y}<extra></extra>",
         "legendgroup": "empada",
         "marker": {
          "color": "#FFA15A",
          "pattern": {
           "shape": ""
          }
         },
         "name": "empada",
         "offsetgroup": "empada",
         "orientation": "v",
         "showlegend": false,
         "textposition": "auto",
         "type": "bar",
         "x": [
          "quarta-feira",
          "quinta-feira",
          "segunda-feria",
          "sexta-feira",
          "terça-feria"
         ],
         "xaxis": "x2",
         "y": [
          427.5,
          562.5,
          315,
          468,
          324
         ],
         "yaxis": "y2"
        },
        {
         "alignmentgroup": "True",
         "hovertemplate": "produto=empada<br>mês=março<br>Dia da Semana=%{x}<br>Faturamento=%{y}<extra></extra>",
         "legendgroup": "empada",
         "marker": {
          "color": "#FFA15A",
          "pattern": {
           "shape": ""
          }
         },
         "name": "empada",
         "offsetgroup": "empada",
         "orientation": "v",
         "showlegend": false,
         "textposition": "auto",
         "type": "bar",
         "x": [
          "quarta-feira",
          "quinta-feira",
          "segunda-feria",
          "sexta-feira",
          "terça-feria"
         ],
         "xaxis": "x3",
         "y": [
          504,
          486,
          459,
          495,
          472.5
         ],
         "yaxis": "y3"
        },
        {
         "alignmentgroup": "True",
         "hovertemplate": "produto=empada<br>mês=abril<br>Dia da Semana=%{x}<br>Faturamento=%{y}<extra></extra>",
         "legendgroup": "empada",
         "marker": {
          "color": "#FFA15A",
          "pattern": {
           "shape": ""
          }
         },
         "name": "empada",
         "offsetgroup": "empada",
         "orientation": "v",
         "showlegend": false,
         "textposition": "auto",
         "type": "bar",
         "x": [
          "quarta-feira",
          "quinta-feira",
          "segunda-feria",
          "sexta-feira",
          "terça-feria"
         ],
         "xaxis": "x4",
         "y": [
          427.5,
          459,
          540,
          490.5,
          535.5
         ],
         "yaxis": "y4"
        },
        {
         "alignmentgroup": "True",
         "hovertemplate": "produto=empada<br>mês=maio<br>Dia da Semana=%{x}<br>Faturamento=%{y}<extra></extra>",
         "legendgroup": "empada",
         "marker": {
          "color": "#FFA15A",
          "pattern": {
           "shape": ""
          }
         },
         "name": "empada",
         "offsetgroup": "empada",
         "orientation": "v",
         "showlegend": false,
         "textposition": "auto",
         "type": "bar",
         "x": [
          "quarta-feira",
          "quinta-feira",
          "segunda-feria",
          "sexta-feira",
          "terça-feria"
         ],
         "xaxis": "x5",
         "y": [
          427.5,
          567,
          427.5,
          661.5,
          463.5
         ],
         "yaxis": "y5"
        },
        {
         "alignmentgroup": "True",
         "hovertemplate": "produto=empada<br>mês=junho<br>Dia da Semana=%{x}<br>Faturamento=%{y}<extra></extra>",
         "legendgroup": "empada",
         "marker": {
          "color": "#FFA15A",
          "pattern": {
           "shape": ""
          }
         },
         "name": "empada",
         "offsetgroup": "empada",
         "orientation": "v",
         "showlegend": false,
         "textposition": "auto",
         "type": "bar",
         "x": [
          "quarta-feira",
          "quinta-feira",
          "segunda-feria",
          "sexta-feira",
          "terça-feria"
         ],
         "xaxis": "x6",
         "y": [
          445.5,
          472.5,
          504,
          481.5,
          454.5
         ],
         "yaxis": "y6"
        },
        {
         "alignmentgroup": "True",
         "hovertemplate": "produto=pastel<br>mês=janeiro<br>Dia da Semana=%{x}<br>Faturamento=%{y}<extra></extra>",
         "legendgroup": "pastel",
         "marker": {
          "color": "#19d3f3",
          "pattern": {
           "shape": ""
          }
         },
         "name": "pastel",
         "offsetgroup": "pastel",
         "orientation": "v",
         "showlegend": true,
         "textposition": "auto",
         "type": "bar",
         "x": [
          "quarta-feira",
          "quinta-feira",
          "segunda-feria",
          "sexta-feira",
          "terça-feria"
         ],
         "xaxis": "x",
         "y": [
          426,
          270,
          360,
          288,
          378
         ],
         "yaxis": "y"
        },
        {
         "alignmentgroup": "True",
         "hovertemplate": "produto=pastel<br>mês=fevereiro<br>Dia da Semana=%{x}<br>Faturamento=%{y}<extra></extra>",
         "legendgroup": "pastel",
         "marker": {
          "color": "#19d3f3",
          "pattern": {
           "shape": ""
          }
         },
         "name": "pastel",
         "offsetgroup": "pastel",
         "orientation": "v",
         "showlegend": false,
         "textposition": "auto",
         "type": "bar",
         "x": [
          "quarta-feira",
          "quinta-feira",
          "segunda-feria",
          "sexta-feira",
          "terça-feria"
         ],
         "xaxis": "x2",
         "y": [
          540,
          762,
          444,
          648,
          498
         ],
         "yaxis": "y2"
        },
        {
         "alignmentgroup": "True",
         "hovertemplate": "produto=pastel<br>mês=março<br>Dia da Semana=%{x}<br>Faturamento=%{y}<extra></extra>",
         "legendgroup": "pastel",
         "marker": {
          "color": "#19d3f3",
          "pattern": {
           "shape": ""
          }
         },
         "name": "pastel",
         "offsetgroup": "pastel",
         "orientation": "v",
         "showlegend": false,
         "textposition": "auto",
         "type": "bar",
         "x": [
          "quarta-feira",
          "quinta-feira",
          "segunda-feria",
          "sexta-feira",
          "terça-feria"
         ],
         "xaxis": "x3",
         "y": [
          630,
          576,
          564,
          750,
          576
         ],
         "yaxis": "y3"
        },
        {
         "alignmentgroup": "True",
         "hovertemplate": "produto=pastel<br>mês=abril<br>Dia da Semana=%{x}<br>Faturamento=%{y}<extra></extra>",
         "legendgroup": "pastel",
         "marker": {
          "color": "#19d3f3",
          "pattern": {
           "shape": ""
          }
         },
         "name": "pastel",
         "offsetgroup": "pastel",
         "orientation": "v",
         "showlegend": false,
         "textposition": "auto",
         "type": "bar",
         "x": [
          "quarta-feira",
          "quinta-feira",
          "segunda-feria",
          "sexta-feira",
          "terça-feria"
         ],
         "xaxis": "x4",
         "y": [
          594,
          678,
          624,
          720,
          750
         ],
         "yaxis": "y4"
        },
        {
         "alignmentgroup": "True",
         "hovertemplate": "produto=pastel<br>mês=maio<br>Dia da Semana=%{x}<br>Faturamento=%{y}<extra></extra>",
         "legendgroup": "pastel",
         "marker": {
          "color": "#19d3f3",
          "pattern": {
           "shape": ""
          }
         },
         "name": "pastel",
         "offsetgroup": "pastel",
         "orientation": "v",
         "showlegend": false,
         "textposition": "auto",
         "type": "bar",
         "x": [
          "quarta-feira",
          "quinta-feira",
          "segunda-feria",
          "sexta-feira",
          "terça-feria"
         ],
         "xaxis": "x5",
         "y": [
          438,
          750,
          372,
          822,
          468
         ],
         "yaxis": "y5"
        },
        {
         "alignmentgroup": "True",
         "hovertemplate": "produto=pastel<br>mês=junho<br>Dia da Semana=%{x}<br>Faturamento=%{y}<extra></extra>",
         "legendgroup": "pastel",
         "marker": {
          "color": "#19d3f3",
          "pattern": {
           "shape": ""
          }
         },
         "name": "pastel",
         "offsetgroup": "pastel",
         "orientation": "v",
         "showlegend": false,
         "textposition": "auto",
         "type": "bar",
         "x": [
          "quarta-feira",
          "quinta-feira",
          "segunda-feria",
          "sexta-feira",
          "terça-feria"
         ],
         "xaxis": "x6",
         "y": [
          510,
          552,
          348,
          660,
          432
         ],
         "yaxis": "y6"
        },
        {
         "alignmentgroup": "True",
         "hovertemplate": "produto=refrigerante<br>mês=janeiro<br>Dia da Semana=%{x}<br>Faturamento=%{y}<extra></extra>",
         "legendgroup": "refrigerante",
         "marker": {
          "color": "#FF6692",
          "pattern": {
           "shape": ""
          }
         },
         "name": "refrigerante",
         "offsetgroup": "refrigerante",
         "orientation": "v",
         "showlegend": true,
         "textposition": "auto",
         "type": "bar",
         "x": [
          "quarta-feira",
          "quinta-feira",
          "segunda-feria",
          "sexta-feira",
          "terça-feria"
         ],
         "xaxis": "x",
         "y": [
          720,
          540,
          780,
          576,
          684
         ],
         "yaxis": "y"
        },
        {
         "alignmentgroup": "True",
         "hovertemplate": "produto=refrigerante<br>mês=fevereiro<br>Dia da Semana=%{x}<br>Faturamento=%{y}<extra></extra>",
         "legendgroup": "refrigerante",
         "marker": {
          "color": "#FF6692",
          "pattern": {
           "shape": ""
          }
         },
         "name": "refrigerante",
         "offsetgroup": "refrigerante",
         "orientation": "v",
         "showlegend": false,
         "textposition": "auto",
         "type": "bar",
         "x": [
          "quarta-feira",
          "quinta-feira",
          "segunda-feria",
          "sexta-feira",
          "terça-feria"
         ],
         "xaxis": "x2",
         "y": [
          864,
          1176,
          684,
          1122,
          684
         ],
         "yaxis": "y2"
        },
        {
         "alignmentgroup": "True",
         "hovertemplate": "produto=refrigerante<br>mês=março<br>Dia da Semana=%{x}<br>Faturamento=%{y}<extra></extra>",
         "legendgroup": "refrigerante",
         "marker": {
          "color": "#FF6692",
          "pattern": {
           "shape": ""
          }
         },
         "name": "refrigerante",
         "offsetgroup": "refrigerante",
         "orientation": "v",
         "showlegend": false,
         "textposition": "auto",
         "type": "bar",
         "x": [
          "quarta-feira",
          "quinta-feira",
          "segunda-feria",
          "sexta-feira",
          "terça-feria"
         ],
         "xaxis": "x3",
         "y": [
          954,
          1020,
          738,
          1152,
          816
         ],
         "yaxis": "y3"
        },
        {
         "alignmentgroup": "True",
         "hovertemplate": "produto=refrigerante<br>mês=abril<br>Dia da Semana=%{x}<br>Faturamento=%{y}<extra></extra>",
         "legendgroup": "refrigerante",
         "marker": {
          "color": "#FF6692",
          "pattern": {
           "shape": ""
          }
         },
         "name": "refrigerante",
         "offsetgroup": "refrigerante",
         "orientation": "v",
         "showlegend": false,
         "textposition": "auto",
         "type": "bar",
         "x": [
          "quarta-feira",
          "quinta-feira",
          "segunda-feria",
          "sexta-feira",
          "terça-feria"
         ],
         "xaxis": "x4",
         "y": [
          990,
          1038,
          1212,
          1176,
          1170
         ],
         "yaxis": "y4"
        },
        {
         "alignmentgroup": "True",
         "hovertemplate": "produto=refrigerante<br>mês=maio<br>Dia da Semana=%{x}<br>Faturamento=%{y}<extra></extra>",
         "legendgroup": "refrigerante",
         "marker": {
          "color": "#FF6692",
          "pattern": {
           "shape": ""
          }
         },
         "name": "refrigerante",
         "offsetgroup": "refrigerante",
         "orientation": "v",
         "showlegend": false,
         "textposition": "auto",
         "type": "bar",
         "x": [
          "quarta-feira",
          "quinta-feira",
          "segunda-feria",
          "sexta-feira",
          "terça-feria"
         ],
         "xaxis": "x5",
         "y": [
          1038,
          1374,
          870,
          1584,
          894
         ],
         "yaxis": "y5"
        },
        {
         "alignmentgroup": "True",
         "hovertemplate": "produto=refrigerante<br>mês=junho<br>Dia da Semana=%{x}<br>Faturamento=%{y}<extra></extra>",
         "legendgroup": "refrigerante",
         "marker": {
          "color": "#FF6692",
          "pattern": {
           "shape": ""
          }
         },
         "name": "refrigerante",
         "offsetgroup": "refrigerante",
         "orientation": "v",
         "showlegend": false,
         "textposition": "auto",
         "type": "bar",
         "x": [
          "quarta-feira",
          "quinta-feira",
          "segunda-feria",
          "sexta-feira",
          "terça-feria"
         ],
         "xaxis": "x6",
         "y": [
          1146,
          1080,
          1074,
          1200,
          1158
         ],
         "yaxis": "y6"
        },
        {
         "alignmentgroup": "True",
         "hovertemplate": "produto=salada<br>mês=janeiro<br>Dia da Semana=%{x}<br>Faturamento=%{y}<extra></extra>",
         "legendgroup": "salada",
         "marker": {
          "color": "#B6E880",
          "pattern": {
           "shape": ""
          }
         },
         "name": "salada",
         "offsetgroup": "salada",
         "orientation": "v",
         "showlegend": true,
         "textposition": "auto",
         "type": "bar",
         "x": [
          "quarta-feira",
          "quinta-feira",
          "segunda-feria",
          "sexta-feira",
          "terça-feria"
         ],
         "xaxis": "x",
         "y": [
          470,
          240,
          530,
          130,
          440
         ],
         "yaxis": "y"
        },
        {
         "alignmentgroup": "True",
         "hovertemplate": "produto=salada<br>mês=fevereiro<br>Dia da Semana=%{x}<br>Faturamento=%{y}<extra></extra>",
         "legendgroup": "salada",
         "marker": {
          "color": "#B6E880",
          "pattern": {
           "shape": ""
          }
         },
         "name": "salada",
         "offsetgroup": "salada",
         "orientation": "v",
         "showlegend": false,
         "textposition": "auto",
         "type": "bar",
         "x": [
          "quarta-feira",
          "quinta-feira",
          "segunda-feria",
          "sexta-feira",
          "terça-feria"
         ],
         "xaxis": "x2",
         "y": [
          690,
          710,
          590,
          290,
          510
         ],
         "yaxis": "y2"
        },
        {
         "alignmentgroup": "True",
         "hovertemplate": "produto=salada<br>mês=março<br>Dia da Semana=%{x}<br>Faturamento=%{y}<extra></extra>",
         "legendgroup": "salada",
         "marker": {
          "color": "#B6E880",
          "pattern": {
           "shape": ""
          }
         },
         "name": "salada",
         "offsetgroup": "salada",
         "orientation": "v",
         "showlegend": false,
         "textposition": "auto",
         "type": "bar",
         "x": [
          "quarta-feira",
          "quinta-feira",
          "segunda-feria",
          "sexta-feira",
          "terça-feria"
         ],
         "xaxis": "x3",
         "y": [
          480,
          430,
          920,
          250,
          850
         ],
         "yaxis": "y3"
        },
        {
         "alignmentgroup": "True",
         "hovertemplate": "produto=salada<br>mês=abril<br>Dia da Semana=%{x}<br>Faturamento=%{y}<extra></extra>",
         "legendgroup": "salada",
         "marker": {
          "color": "#B6E880",
          "pattern": {
           "shape": ""
          }
         },
         "name": "salada",
         "offsetgroup": "salada",
         "orientation": "v",
         "showlegend": false,
         "textposition": "auto",
         "type": "bar",
         "x": [
          "quarta-feira",
          "quinta-feira",
          "segunda-feria",
          "sexta-feira",
          "terça-feria"
         ],
         "xaxis": "x4",
         "y": [
          640,
          510,
          1010,
          180,
          890
         ],
         "yaxis": "y4"
        },
        {
         "alignmentgroup": "True",
         "hovertemplate": "produto=salada<br>mês=maio<br>Dia da Semana=%{x}<br>Faturamento=%{y}<extra></extra>",
         "legendgroup": "salada",
         "marker": {
          "color": "#B6E880",
          "pattern": {
           "shape": ""
          }
         },
         "name": "salada",
         "offsetgroup": "salada",
         "orientation": "v",
         "showlegend": false,
         "textposition": "auto",
         "type": "bar",
         "x": [
          "quarta-feira",
          "quinta-feira",
          "segunda-feria",
          "sexta-feira",
          "terça-feria"
         ],
         "xaxis": "x5",
         "y": [
          740,
          630,
          880,
          370,
          790
         ],
         "yaxis": "y5"
        },
        {
         "alignmentgroup": "True",
         "hovertemplate": "produto=salada<br>mês=junho<br>Dia da Semana=%{x}<br>Faturamento=%{y}<extra></extra>",
         "legendgroup": "salada",
         "marker": {
          "color": "#B6E880",
          "pattern": {
           "shape": ""
          }
         },
         "name": "salada",
         "offsetgroup": "salada",
         "orientation": "v",
         "showlegend": false,
         "textposition": "auto",
         "type": "bar",
         "x": [
          "quarta-feira",
          "quinta-feira",
          "segunda-feria",
          "sexta-feira",
          "terça-feria"
         ],
         "xaxis": "x6",
         "y": [
          540,
          410,
          830,
          220,
          910
         ],
         "yaxis": "y6"
        },
        {
         "alignmentgroup": "True",
         "hovertemplate": "produto=sanduiche natural<br>mês=janeiro<br>Dia da Semana=%{x}<br>Faturamento=%{y}<extra></extra>",
         "legendgroup": "sanduiche natural",
         "marker": {
          "color": "#FF97FF",
          "pattern": {
           "shape": ""
          }
         },
         "name": "sanduiche natural",
         "offsetgroup": "sanduiche natural",
         "orientation": "v",
         "showlegend": true,
         "textposition": "auto",
         "type": "bar",
         "x": [
          "quarta-feira",
          "quinta-feira",
          "segunda-feria",
          "sexta-feira",
          "terça-feria"
         ],
         "xaxis": "x",
         "y": [
          376,
          232,
          440,
          152,
          424
         ],
         "yaxis": "y"
        },
        {
         "alignmentgroup": "True",
         "hovertemplate": "produto=sanduiche natural<br>mês=fevereiro<br>Dia da Semana=%{x}<br>Faturamento=%{y}<extra></extra>",
         "legendgroup": "sanduiche natural",
         "marker": {
          "color": "#FF97FF",
          "pattern": {
           "shape": ""
          }
         },
         "name": "sanduiche natural",
         "offsetgroup": "sanduiche natural",
         "orientation": "v",
         "showlegend": false,
         "textposition": "auto",
         "type": "bar",
         "x": [
          "quarta-feira",
          "quinta-feira",
          "segunda-feria",
          "sexta-feira",
          "terça-feria"
         ],
         "xaxis": "x2",
         "y": [
          488,
          512,
          464,
          280,
          336
         ],
         "yaxis": "y2"
        },
        {
         "alignmentgroup": "True",
         "hovertemplate": "produto=sanduiche natural<br>mês=março<br>Dia da Semana=%{x}<br>Faturamento=%{y}<extra></extra>",
         "legendgroup": "sanduiche natural",
         "marker": {
          "color": "#FF97FF",
          "pattern": {
           "shape": ""
          }
         },
         "name": "sanduiche natural",
         "offsetgroup": "sanduiche natural",
         "orientation": "v",
         "showlegend": false,
         "textposition": "auto",
         "type": "bar",
         "x": [
          "quarta-feira",
          "quinta-feira",
          "segunda-feria",
          "sexta-feira",
          "terça-feria"
         ],
         "xaxis": "x3",
         "y": [
          560,
          504,
          768,
          288,
          640
         ],
         "yaxis": "y3"
        },
        {
         "alignmentgroup": "True",
         "hovertemplate": "produto=sanduiche natural<br>mês=abril<br>Dia da Semana=%{x}<br>Faturamento=%{y}<extra></extra>",
         "legendgroup": "sanduiche natural",
         "marker": {
          "color": "#FF97FF",
          "pattern": {
           "shape": ""
          }
         },
         "name": "sanduiche natural",
         "offsetgroup": "sanduiche natural",
         "orientation": "v",
         "showlegend": false,
         "textposition": "auto",
         "type": "bar",
         "x": [
          "quarta-feira",
          "quinta-feira",
          "segunda-feria",
          "sexta-feira",
          "terça-feria"
         ],
         "xaxis": "x4",
         "y": [
          440,
          392,
          848,
          328,
          656
         ],
         "yaxis": "y4"
        },
        {
         "alignmentgroup": "True",
         "hovertemplate": "produto=sanduiche natural<br>mês=maio<br>Dia da Semana=%{x}<br>Faturamento=%{y}<extra></extra>",
         "legendgroup": "sanduiche natural",
         "marker": {
          "color": "#FF97FF",
          "pattern": {
           "shape": ""
          }
         },
         "name": "sanduiche natural",
         "offsetgroup": "sanduiche natural",
         "orientation": "v",
         "showlegend": false,
         "textposition": "auto",
         "type": "bar",
         "x": [
          "quarta-feira",
          "quinta-feira",
          "segunda-feria",
          "sexta-feira",
          "terça-feria"
         ],
         "xaxis": "x5",
         "y": [
          520,
          464,
          728,
          312,
          648
         ],
         "yaxis": "y5"
        },
        {
         "alignmentgroup": "True",
         "hovertemplate": "produto=sanduiche natural<br>mês=junho<br>Dia da Semana=%{x}<br>Faturamento=%{y}<extra></extra>",
         "legendgroup": "sanduiche natural",
         "marker": {
          "color": "#FF97FF",
          "pattern": {
           "shape": ""
          }
         },
         "name": "sanduiche natural",
         "offsetgroup": "sanduiche natural",
         "orientation": "v",
         "showlegend": false,
         "textposition": "auto",
         "type": "bar",
         "x": [
          "quarta-feira",
          "quinta-feira",
          "segunda-feria",
          "sexta-feira",
          "terça-feria"
         ],
         "xaxis": "x6",
         "y": [
          496,
          368,
          760,
          256,
          688
         ],
         "yaxis": "y6"
        },
        {
         "alignmentgroup": "True",
         "hovertemplate": "produto=sucos<br>mês=janeiro<br>Dia da Semana=%{x}<br>Faturamento=%{y}<extra></extra>",
         "legendgroup": "sucos",
         "marker": {
          "color": "#FECB52",
          "pattern": {
           "shape": ""
          }
         },
         "name": "sucos",
         "offsetgroup": "sucos",
         "orientation": "v",
         "showlegend": true,
         "textposition": "auto",
         "type": "bar",
         "x": [
          "quarta-feira",
          "quinta-feira",
          "segunda-feria",
          "sexta-feira",
          "terça-feria"
         ],
         "xaxis": "x",
         "y": [
          408,
          268,
          444,
          316,
          404
         ],
         "yaxis": "y"
        },
        {
         "alignmentgroup": "True",
         "hovertemplate": "produto=sucos<br>mês=fevereiro<br>Dia da Semana=%{x}<br>Faturamento=%{y}<extra></extra>",
         "legendgroup": "sucos",
         "marker": {
          "color": "#FECB52",
          "pattern": {
           "shape": ""
          }
         },
         "name": "sucos",
         "offsetgroup": "sucos",
         "orientation": "v",
         "showlegend": false,
         "textposition": "auto",
         "type": "bar",
         "x": [
          "quarta-feira",
          "quinta-feira",
          "segunda-feria",
          "sexta-feira",
          "terça-feria"
         ],
         "xaxis": "x2",
         "y": [
          560,
          676,
          496,
          520,
          432
         ],
         "yaxis": "y2"
        },
        {
         "alignmentgroup": "True",
         "hovertemplate": "produto=sucos<br>mês=março<br>Dia da Semana=%{x}<br>Faturamento=%{y}<extra></extra>",
         "legendgroup": "sucos",
         "marker": {
          "color": "#FECB52",
          "pattern": {
           "shape": ""
          }
         },
         "name": "sucos",
         "offsetgroup": "sucos",
         "orientation": "v",
         "showlegend": false,
         "textposition": "auto",
         "type": "bar",
         "x": [
          "quarta-feira",
          "quinta-feira",
          "segunda-feria",
          "sexta-feira",
          "terça-feria"
         ],
         "xaxis": "x3",
         "y": [
          508,
          600,
          700,
          580,
          588
         ],
         "yaxis": "y3"
        },
        {
         "alignmentgroup": "True",
         "hovertemplate": "produto=sucos<br>mês=abril<br>Dia da Semana=%{x}<br>Faturamento=%{y}<extra></extra>",
         "legendgroup": "sucos",
         "marker": {
          "color": "#FECB52",
          "pattern": {
           "shape": ""
          }
         },
         "name": "sucos",
         "offsetgroup": "sucos",
         "orientation": "v",
         "showlegend": false,
         "textposition": "auto",
         "type": "bar",
         "x": [
          "quarta-feira",
          "quinta-feira",
          "segunda-feria",
          "sexta-feira",
          "terça-feria"
         ],
         "xaxis": "x4",
         "y": [
          556,
          552,
          756,
          544,
          704
         ],
         "yaxis": "y4"
        },
        {
         "alignmentgroup": "True",
         "hovertemplate": "produto=sucos<br>mês=maio<br>Dia da Semana=%{x}<br>Faturamento=%{y}<extra></extra>",
         "legendgroup": "sucos",
         "marker": {
          "color": "#FECB52",
          "pattern": {
           "shape": ""
          }
         },
         "name": "sucos",
         "offsetgroup": "sucos",
         "orientation": "v",
         "showlegend": false,
         "textposition": "auto",
         "type": "bar",
         "x": [
          "quarta-feira",
          "quinta-feira",
          "segunda-feria",
          "sexta-feira",
          "terça-feria"
         ],
         "xaxis": "x5",
         "y": [
          580,
          704,
          632,
          664,
          564
         ],
         "yaxis": "y5"
        },
        {
         "alignmentgroup": "True",
         "hovertemplate": "produto=sucos<br>mês=junho<br>Dia da Semana=%{x}<br>Faturamento=%{y}<extra></extra>",
         "legendgroup": "sucos",
         "marker": {
          "color": "#FECB52",
          "pattern": {
           "shape": ""
          }
         },
         "name": "sucos",
         "offsetgroup": "sucos",
         "orientation": "v",
         "showlegend": false,
         "textposition": "auto",
         "type": "bar",
         "x": [
          "quarta-feira",
          "quinta-feira",
          "segunda-feria",
          "sexta-feira",
          "terça-feria"
         ],
         "xaxis": "x6",
         "y": [
          620,
          628,
          680,
          676,
          628
         ],
         "yaxis": "y6"
        },
        {
         "alignmentgroup": "True",
         "hovertemplate": "produto=tortas<br>mês=janeiro<br>Dia da Semana=%{x}<br>Faturamento=%{y}<extra></extra>",
         "legendgroup": "tortas",
         "marker": {
          "color": "#636efa",
          "pattern": {
           "shape": ""
          }
         },
         "name": "tortas",
         "offsetgroup": "tortas",
         "orientation": "v",
         "showlegend": true,
         "textposition": "auto",
         "type": "bar",
         "x": [
          "quarta-feira",
          "quinta-feira",
          "segunda-feria",
          "sexta-feira",
          "terça-feria"
         ],
         "xaxis": "x",
         "y": [
          187,
          148.5,
          192.5,
          275,
          181.5
         ],
         "yaxis": "y"
        },
        {
         "alignmentgroup": "True",
         "hovertemplate": "produto=tortas<br>mês=fevereiro<br>Dia da Semana=%{x}<br>Faturamento=%{y}<extra></extra>",
         "legendgroup": "tortas",
         "marker": {
          "color": "#636efa",
          "pattern": {
           "shape": ""
          }
         },
         "name": "tortas",
         "offsetgroup": "tortas",
         "orientation": "v",
         "showlegend": false,
         "textposition": "auto",
         "type": "bar",
         "x": [
          "quarta-feira",
          "quinta-feira",
          "segunda-feria",
          "sexta-feira",
          "terça-feria"
         ],
         "xaxis": "x2",
         "y": [
          236.5,
          374,
          148.5,
          522.5,
          192.5
         ],
         "yaxis": "y2"
        },
        {
         "alignmentgroup": "True",
         "hovertemplate": "produto=tortas<br>mês=março<br>Dia da Semana=%{x}<br>Faturamento=%{y}<extra></extra>",
         "legendgroup": "tortas",
         "marker": {
          "color": "#636efa",
          "pattern": {
           "shape": ""
          }
         },
         "name": "tortas",
         "offsetgroup": "tortas",
         "orientation": "v",
         "showlegend": false,
         "textposition": "auto",
         "type": "bar",
         "x": [
          "quarta-feira",
          "quinta-feira",
          "segunda-feria",
          "sexta-feira",
          "terça-feria"
         ],
         "xaxis": "x3",
         "y": [
          308,
          335.5,
          231,
          550,
          214.5
         ],
         "yaxis": "y3"
        },
        {
         "alignmentgroup": "True",
         "hovertemplate": "produto=tortas<br>mês=abril<br>Dia da Semana=%{x}<br>Faturamento=%{y}<extra></extra>",
         "legendgroup": "tortas",
         "marker": {
          "color": "#636efa",
          "pattern": {
           "shape": ""
          }
         },
         "name": "tortas",
         "offsetgroup": "tortas",
         "orientation": "v",
         "showlegend": false,
         "textposition": "auto",
         "type": "bar",
         "x": [
          "quarta-feira",
          "quinta-feira",
          "segunda-feria",
          "sexta-feira",
          "terça-feria"
         ],
         "xaxis": "x4",
         "y": [
          242,
          374,
          253,
          528,
          264
         ],
         "yaxis": "y4"
        },
        {
         "alignmentgroup": "True",
         "hovertemplate": "produto=tortas<br>mês=maio<br>Dia da Semana=%{x}<br>Faturamento=%{y}<extra></extra>",
         "legendgroup": "tortas",
         "marker": {
          "color": "#636efa",
          "pattern": {
           "shape": ""
          }
         },
         "name": "tortas",
         "offsetgroup": "tortas",
         "orientation": "v",
         "showlegend": false,
         "textposition": "auto",
         "type": "bar",
         "x": [
          "quarta-feira",
          "quinta-feira",
          "segunda-feria",
          "sexta-feira",
          "terça-feria"
         ],
         "xaxis": "x5",
         "y": [
          341,
          495,
          225.5,
          709.5,
          214.5
         ],
         "yaxis": "y5"
        },
        {
         "alignmentgroup": "True",
         "hovertemplate": "produto=tortas<br>mês=junho<br>Dia da Semana=%{x}<br>Faturamento=%{y}<extra></extra>",
         "legendgroup": "tortas",
         "marker": {
          "color": "#636efa",
          "pattern": {
           "shape": ""
          }
         },
         "name": "tortas",
         "offsetgroup": "tortas",
         "orientation": "v",
         "showlegend": false,
         "textposition": "auto",
         "type": "bar",
         "x": [
          "quarta-feira",
          "quinta-feira",
          "segunda-feria",
          "sexta-feira",
          "terça-feria"
         ],
         "xaxis": "x6",
         "y": [
          363,
          352,
          236.5,
          577.5,
          214.5
         ],
         "yaxis": "y6"
        }
       ],
       "layout": {
        "annotations": [
         {
          "font": {},
          "showarrow": false,
          "text": "mês=janeiro",
          "x": 0.075,
          "xanchor": "center",
          "xref": "paper",
          "y": 1,
          "yanchor": "bottom",
          "yref": "paper"
         },
         {
          "font": {},
          "showarrow": false,
          "text": "mês=fevereiro",
          "x": 0.24499999999999997,
          "xanchor": "center",
          "xref": "paper",
          "y": 1,
          "yanchor": "bottom",
          "yref": "paper"
         },
         {
          "font": {},
          "showarrow": false,
          "text": "mês=março",
          "x": 0.415,
          "xanchor": "center",
          "xref": "paper",
          "y": 1,
          "yanchor": "bottom",
          "yref": "paper"
         },
         {
          "font": {},
          "showarrow": false,
          "text": "mês=abril",
          "x": 0.585,
          "xanchor": "center",
          "xref": "paper",
          "y": 1,
          "yanchor": "bottom",
          "yref": "paper"
         },
         {
          "font": {},
          "showarrow": false,
          "text": "mês=maio",
          "x": 0.7549999999999999,
          "xanchor": "center",
          "xref": "paper",
          "y": 1,
          "yanchor": "bottom",
          "yref": "paper"
         },
         {
          "font": {},
          "showarrow": false,
          "text": "mês=junho",
          "x": 0.925,
          "xanchor": "center",
          "xref": "paper",
          "y": 1,
          "yanchor": "bottom",
          "yref": "paper"
         }
        ],
        "barmode": "relative",
        "legend": {
         "title": {
          "text": "produto"
         },
         "tracegroupgap": 0
        },
        "template": {
         "data": {
          "bar": [
           {
            "error_x": {
             "color": "#2a3f5f"
            },
            "error_y": {
             "color": "#2a3f5f"
            },
            "marker": {
             "line": {
              "color": "#E5ECF6",
              "width": 0.5
             },
             "pattern": {
              "fillmode": "overlay",
              "size": 10,
              "solidity": 0.2
             }
            },
            "type": "bar"
           }
          ],
          "barpolar": [
           {
            "marker": {
             "line": {
              "color": "#E5ECF6",
              "width": 0.5
             },
             "pattern": {
              "fillmode": "overlay",
              "size": 10,
              "solidity": 0.2
             }
            },
            "type": "barpolar"
           }
          ],
          "carpet": [
           {
            "aaxis": {
             "endlinecolor": "#2a3f5f",
             "gridcolor": "white",
             "linecolor": "white",
             "minorgridcolor": "white",
             "startlinecolor": "#2a3f5f"
            },
            "baxis": {
             "endlinecolor": "#2a3f5f",
             "gridcolor": "white",
             "linecolor": "white",
             "minorgridcolor": "white",
             "startlinecolor": "#2a3f5f"
            },
            "type": "carpet"
           }
          ],
          "choropleth": [
           {
            "colorbar": {
             "outlinewidth": 0,
             "ticks": ""
            },
            "type": "choropleth"
           }
          ],
          "contour": [
           {
            "colorbar": {
             "outlinewidth": 0,
             "ticks": ""
            },
            "colorscale": [
             [
              0,
              "#0d0887"
             ],
             [
              0.1111111111111111,
              "#46039f"
             ],
             [
              0.2222222222222222,
              "#7201a8"
             ],
             [
              0.3333333333333333,
              "#9c179e"
             ],
             [
              0.4444444444444444,
              "#bd3786"
             ],
             [
              0.5555555555555556,
              "#d8576b"
             ],
             [
              0.6666666666666666,
              "#ed7953"
             ],
             [
              0.7777777777777778,
              "#fb9f3a"
             ],
             [
              0.8888888888888888,
              "#fdca26"
             ],
             [
              1,
              "#f0f921"
             ]
            ],
            "type": "contour"
           }
          ],
          "contourcarpet": [
           {
            "colorbar": {
             "outlinewidth": 0,
             "ticks": ""
            },
            "type": "contourcarpet"
           }
          ],
          "heatmap": [
           {
            "colorbar": {
             "outlinewidth": 0,
             "ticks": ""
            },
            "colorscale": [
             [
              0,
              "#0d0887"
             ],
             [
              0.1111111111111111,
              "#46039f"
             ],
             [
              0.2222222222222222,
              "#7201a8"
             ],
             [
              0.3333333333333333,
              "#9c179e"
             ],
             [
              0.4444444444444444,
              "#bd3786"
             ],
             [
              0.5555555555555556,
              "#d8576b"
             ],
             [
              0.6666666666666666,
              "#ed7953"
             ],
             [
              0.7777777777777778,
              "#fb9f3a"
             ],
             [
              0.8888888888888888,
              "#fdca26"
             ],
             [
              1,
              "#f0f921"
             ]
            ],
            "type": "heatmap"
           }
          ],
          "heatmapgl": [
           {
            "colorbar": {
             "outlinewidth": 0,
             "ticks": ""
            },
            "colorscale": [
             [
              0,
              "#0d0887"
             ],
             [
              0.1111111111111111,
              "#46039f"
             ],
             [
              0.2222222222222222,
              "#7201a8"
             ],
             [
              0.3333333333333333,
              "#9c179e"
             ],
             [
              0.4444444444444444,
              "#bd3786"
             ],
             [
              0.5555555555555556,
              "#d8576b"
             ],
             [
              0.6666666666666666,
              "#ed7953"
             ],
             [
              0.7777777777777778,
              "#fb9f3a"
             ],
             [
              0.8888888888888888,
              "#fdca26"
             ],
             [
              1,
              "#f0f921"
             ]
            ],
            "type": "heatmapgl"
           }
          ],
          "histogram": [
           {
            "marker": {
             "pattern": {
              "fillmode": "overlay",
              "size": 10,
              "solidity": 0.2
             }
            },
            "type": "histogram"
           }
          ],
          "histogram2d": [
           {
            "colorbar": {
             "outlinewidth": 0,
             "ticks": ""
            },
            "colorscale": [
             [
              0,
              "#0d0887"
             ],
             [
              0.1111111111111111,
              "#46039f"
             ],
             [
              0.2222222222222222,
              "#7201a8"
             ],
             [
              0.3333333333333333,
              "#9c179e"
             ],
             [
              0.4444444444444444,
              "#bd3786"
             ],
             [
              0.5555555555555556,
              "#d8576b"
             ],
             [
              0.6666666666666666,
              "#ed7953"
             ],
             [
              0.7777777777777778,
              "#fb9f3a"
             ],
             [
              0.8888888888888888,
              "#fdca26"
             ],
             [
              1,
              "#f0f921"
             ]
            ],
            "type": "histogram2d"
           }
          ],
          "histogram2dcontour": [
           {
            "colorbar": {
             "outlinewidth": 0,
             "ticks": ""
            },
            "colorscale": [
             [
              0,
              "#0d0887"
             ],
             [
              0.1111111111111111,
              "#46039f"
             ],
             [
              0.2222222222222222,
              "#7201a8"
             ],
             [
              0.3333333333333333,
              "#9c179e"
             ],
             [
              0.4444444444444444,
              "#bd3786"
             ],
             [
              0.5555555555555556,
              "#d8576b"
             ],
             [
              0.6666666666666666,
              "#ed7953"
             ],
             [
              0.7777777777777778,
              "#fb9f3a"
             ],
             [
              0.8888888888888888,
              "#fdca26"
             ],
             [
              1,
              "#f0f921"
             ]
            ],
            "type": "histogram2dcontour"
           }
          ],
          "mesh3d": [
           {
            "colorbar": {
             "outlinewidth": 0,
             "ticks": ""
            },
            "type": "mesh3d"
           }
          ],
          "parcoords": [
           {
            "line": {
             "colorbar": {
              "outlinewidth": 0,
              "ticks": ""
             }
            },
            "type": "parcoords"
           }
          ],
          "pie": [
           {
            "automargin": true,
            "type": "pie"
           }
          ],
          "scatter": [
           {
            "fillpattern": {
             "fillmode": "overlay",
             "size": 10,
             "solidity": 0.2
            },
            "type": "scatter"
           }
          ],
          "scatter3d": [
           {
            "line": {
             "colorbar": {
              "outlinewidth": 0,
              "ticks": ""
             }
            },
            "marker": {
             "colorbar": {
              "outlinewidth": 0,
              "ticks": ""
             }
            },
            "type": "scatter3d"
           }
          ],
          "scattercarpet": [
           {
            "marker": {
             "colorbar": {
              "outlinewidth": 0,
              "ticks": ""
             }
            },
            "type": "scattercarpet"
           }
          ],
          "scattergeo": [
           {
            "marker": {
             "colorbar": {
              "outlinewidth": 0,
              "ticks": ""
             }
            },
            "type": "scattergeo"
           }
          ],
          "scattergl": [
           {
            "marker": {
             "colorbar": {
              "outlinewidth": 0,
              "ticks": ""
             }
            },
            "type": "scattergl"
           }
          ],
          "scattermapbox": [
           {
            "marker": {
             "colorbar": {
              "outlinewidth": 0,
              "ticks": ""
             }
            },
            "type": "scattermapbox"
           }
          ],
          "scatterpolar": [
           {
            "marker": {
             "colorbar": {
              "outlinewidth": 0,
              "ticks": ""
             }
            },
            "type": "scatterpolar"
           }
          ],
          "scatterpolargl": [
           {
            "marker": {
             "colorbar": {
              "outlinewidth": 0,
              "ticks": ""
             }
            },
            "type": "scatterpolargl"
           }
          ],
          "scatterternary": [
           {
            "marker": {
             "colorbar": {
              "outlinewidth": 0,
              "ticks": ""
             }
            },
            "type": "scatterternary"
           }
          ],
          "surface": [
           {
            "colorbar": {
             "outlinewidth": 0,
             "ticks": ""
            },
            "colorscale": [
             [
              0,
              "#0d0887"
             ],
             [
              0.1111111111111111,
              "#46039f"
             ],
             [
              0.2222222222222222,
              "#7201a8"
             ],
             [
              0.3333333333333333,
              "#9c179e"
             ],
             [
              0.4444444444444444,
              "#bd3786"
             ],
             [
              0.5555555555555556,
              "#d8576b"
             ],
             [
              0.6666666666666666,
              "#ed7953"
             ],
             [
              0.7777777777777778,
              "#fb9f3a"
             ],
             [
              0.8888888888888888,
              "#fdca26"
             ],
             [
              1,
              "#f0f921"
             ]
            ],
            "type": "surface"
           }
          ],
          "table": [
           {
            "cells": {
             "fill": {
              "color": "#EBF0F8"
             },
             "line": {
              "color": "white"
             }
            },
            "header": {
             "fill": {
              "color": "#C8D4E3"
             },
             "line": {
              "color": "white"
             }
            },
            "type": "table"
           }
          ]
         },
         "layout": {
          "annotationdefaults": {
           "arrowcolor": "#2a3f5f",
           "arrowhead": 0,
           "arrowwidth": 1
          },
          "autotypenumbers": "strict",
          "coloraxis": {
           "colorbar": {
            "outlinewidth": 0,
            "ticks": ""
           }
          },
          "colorscale": {
           "diverging": [
            [
             0,
             "#8e0152"
            ],
            [
             0.1,
             "#c51b7d"
            ],
            [
             0.2,
             "#de77ae"
            ],
            [
             0.3,
             "#f1b6da"
            ],
            [
             0.4,
             "#fde0ef"
            ],
            [
             0.5,
             "#f7f7f7"
            ],
            [
             0.6,
             "#e6f5d0"
            ],
            [
             0.7,
             "#b8e186"
            ],
            [
             0.8,
             "#7fbc41"
            ],
            [
             0.9,
             "#4d9221"
            ],
            [
             1,
             "#276419"
            ]
           ],
           "sequential": [
            [
             0,
             "#0d0887"
            ],
            [
             0.1111111111111111,
             "#46039f"
            ],
            [
             0.2222222222222222,
             "#7201a8"
            ],
            [
             0.3333333333333333,
             "#9c179e"
            ],
            [
             0.4444444444444444,
             "#bd3786"
            ],
            [
             0.5555555555555556,
             "#d8576b"
            ],
            [
             0.6666666666666666,
             "#ed7953"
            ],
            [
             0.7777777777777778,
             "#fb9f3a"
            ],
            [
             0.8888888888888888,
             "#fdca26"
            ],
            [
             1,
             "#f0f921"
            ]
           ],
           "sequentialminus": [
            [
             0,
             "#0d0887"
            ],
            [
             0.1111111111111111,
             "#46039f"
            ],
            [
             0.2222222222222222,
             "#7201a8"
            ],
            [
             0.3333333333333333,
             "#9c179e"
            ],
            [
             0.4444444444444444,
             "#bd3786"
            ],
            [
             0.5555555555555556,
             "#d8576b"
            ],
            [
             0.6666666666666666,
             "#ed7953"
            ],
            [
             0.7777777777777778,
             "#fb9f3a"
            ],
            [
             0.8888888888888888,
             "#fdca26"
            ],
            [
             1,
             "#f0f921"
            ]
           ]
          },
          "colorway": [
           "#636efa",
           "#EF553B",
           "#00cc96",
           "#ab63fa",
           "#FFA15A",
           "#19d3f3",
           "#FF6692",
           "#B6E880",
           "#FF97FF",
           "#FECB52"
          ],
          "font": {
           "color": "#2a3f5f"
          },
          "geo": {
           "bgcolor": "white",
           "lakecolor": "white",
           "landcolor": "#E5ECF6",
           "showlakes": true,
           "showland": true,
           "subunitcolor": "white"
          },
          "hoverlabel": {
           "align": "left"
          },
          "hovermode": "closest",
          "mapbox": {
           "style": "light"
          },
          "paper_bgcolor": "white",
          "plot_bgcolor": "#E5ECF6",
          "polar": {
           "angularaxis": {
            "gridcolor": "white",
            "linecolor": "white",
            "ticks": ""
           },
           "bgcolor": "#E5ECF6",
           "radialaxis": {
            "gridcolor": "white",
            "linecolor": "white",
            "ticks": ""
           }
          },
          "scene": {
           "xaxis": {
            "backgroundcolor": "#E5ECF6",
            "gridcolor": "white",
            "gridwidth": 2,
            "linecolor": "white",
            "showbackground": true,
            "ticks": "",
            "zerolinecolor": "white"
           },
           "yaxis": {
            "backgroundcolor": "#E5ECF6",
            "gridcolor": "white",
            "gridwidth": 2,
            "linecolor": "white",
            "showbackground": true,
            "ticks": "",
            "zerolinecolor": "white"
           },
           "zaxis": {
            "backgroundcolor": "#E5ECF6",
            "gridcolor": "white",
            "gridwidth": 2,
            "linecolor": "white",
            "showbackground": true,
            "ticks": "",
            "zerolinecolor": "white"
           }
          },
          "shapedefaults": {
           "line": {
            "color": "#2a3f5f"
           }
          },
          "ternary": {
           "aaxis": {
            "gridcolor": "white",
            "linecolor": "white",
            "ticks": ""
           },
           "baxis": {
            "gridcolor": "white",
            "linecolor": "white",
            "ticks": ""
           },
           "bgcolor": "#E5ECF6",
           "caxis": {
            "gridcolor": "white",
            "linecolor": "white",
            "ticks": ""
           }
          },
          "title": {
           "x": 0.05
          },
          "xaxis": {
           "automargin": true,
           "gridcolor": "white",
           "linecolor": "white",
           "ticks": "",
           "title": {
            "standoff": 15
           },
           "zerolinecolor": "white",
           "zerolinewidth": 2
          },
          "yaxis": {
           "automargin": true,
           "gridcolor": "white",
           "linecolor": "white",
           "ticks": "",
           "title": {
            "standoff": 15
           },
           "zerolinecolor": "white",
           "zerolinewidth": 2
          }
         }
        },
        "title": {
         "text": "Faturamento por Produto e Dia da Semana"
        },
        "xaxis": {
         "anchor": "y",
         "domain": [
          0,
          0.15
         ],
         "title": {
          "text": "Dia da Semana"
         }
        },
        "xaxis2": {
         "anchor": "y2",
         "domain": [
          0.16999999999999998,
          0.31999999999999995
         ],
         "matches": "x",
         "title": {
          "text": "Dia da Semana"
         }
        },
        "xaxis3": {
         "anchor": "y3",
         "domain": [
          0.33999999999999997,
          0.49
         ],
         "matches": "x",
         "title": {
          "text": "Dia da Semana"
         }
        },
        "xaxis4": {
         "anchor": "y4",
         "domain": [
          0.51,
          0.66
         ],
         "matches": "x",
         "title": {
          "text": "Dia da Semana"
         }
        },
        "xaxis5": {
         "anchor": "y5",
         "domain": [
          0.6799999999999999,
          0.83
         ],
         "matches": "x",
         "title": {
          "text": "Dia da Semana"
         }
        },
        "xaxis6": {
         "anchor": "y6",
         "domain": [
          0.85,
          1
         ],
         "matches": "x",
         "title": {
          "text": "Dia da Semana"
         }
        },
        "yaxis": {
         "anchor": "x",
         "domain": [
          0,
          1
         ],
         "title": {
          "text": "Faturamento"
         }
        },
        "yaxis2": {
         "anchor": "x2",
         "domain": [
          0,
          1
         ],
         "matches": "y",
         "showticklabels": false
        },
        "yaxis3": {
         "anchor": "x3",
         "domain": [
          0,
          1
         ],
         "matches": "y",
         "showticklabels": false
        },
        "yaxis4": {
         "anchor": "x4",
         "domain": [
          0,
          1
         ],
         "matches": "y",
         "showticklabels": false
        },
        "yaxis5": {
         "anchor": "x5",
         "domain": [
          0,
          1
         ],
         "matches": "y",
         "showticklabels": false
        },
        "yaxis6": {
         "anchor": "x6",
         "domain": [
          0,
          1
         ],
         "matches": "y",
         "showticklabels": false
        }
       }
      },
      "text/html": [
       "<div>                            <div id=\"553651c2-bce5-42da-b669-af71a27751bb\" class=\"plotly-graph-div\" style=\"height:525px; width:100%;\"></div>            <script type=\"text/javascript\">                require([\"plotly\"], function(Plotly) {                    window.PLOTLYENV=window.PLOTLYENV || {};                                    if (document.getElementById(\"553651c2-bce5-42da-b669-af71a27751bb\")) {                    Plotly.newPlot(                        \"553651c2-bce5-42da-b669-af71a27751bb\",                        [{\"alignmentgroup\":\"True\",\"hovertemplate\":\"produto=americano<br>m\\u00eas=janeiro<br>Dia da Semana=%{x}<br>Faturamento=%{y}<extra></extra>\",\"legendgroup\":\"americano\",\"marker\":{\"color\":\"#636efa\",\"pattern\":{\"shape\":\"\"}},\"name\":\"americano\",\"offsetgroup\":\"americano\",\"orientation\":\"v\",\"showlegend\":true,\"textposition\":\"auto\",\"x\":[\"quarta-feira\",\"quinta-feira\",\"segunda-feria\",\"sexta-feira\",\"ter\\u00e7a-feria\"],\"xaxis\":\"x\",\"y\":[609.0,448.0,616.0,462.0,616.0],\"yaxis\":\"y\",\"type\":\"bar\"},{\"alignmentgroup\":\"True\",\"hovertemplate\":\"produto=americano<br>m\\u00eas=fevereiro<br>Dia da Semana=%{x}<br>Faturamento=%{y}<extra></extra>\",\"legendgroup\":\"americano\",\"marker\":{\"color\":\"#636efa\",\"pattern\":{\"shape\":\"\"}},\"name\":\"americano\",\"offsetgroup\":\"americano\",\"orientation\":\"v\",\"showlegend\":false,\"textposition\":\"auto\",\"x\":[\"quarta-feira\",\"quinta-feira\",\"segunda-feria\",\"sexta-feira\",\"ter\\u00e7a-feria\"],\"xaxis\":\"x2\",\"y\":[833.0,1113.0,672.0,882.0,756.0],\"yaxis\":\"y2\",\"type\":\"bar\"},{\"alignmentgroup\":\"True\",\"hovertemplate\":\"produto=americano<br>m\\u00eas=mar\\u00e7o<br>Dia da Semana=%{x}<br>Faturamento=%{y}<extra></extra>\",\"legendgroup\":\"americano\",\"marker\":{\"color\":\"#636efa\",\"pattern\":{\"shape\":\"\"}},\"name\":\"americano\",\"offsetgroup\":\"americano\",\"orientation\":\"v\",\"showlegend\":false,\"textposition\":\"auto\",\"x\":[\"quarta-feira\",\"quinta-feira\",\"segunda-feria\",\"sexta-feira\",\"ter\\u00e7a-feria\"],\"xaxis\":\"x3\",\"y\":[854.0,917.0,917.0,1001.0,966.0],\"yaxis\":\"y3\",\"type\":\"bar\"},{\"alignmentgroup\":\"True\",\"hovertemplate\":\"produto=americano<br>m\\u00eas=abril<br>Dia da Semana=%{x}<br>Faturamento=%{y}<extra></extra>\",\"legendgroup\":\"americano\",\"marker\":{\"color\":\"#636efa\",\"pattern\":{\"shape\":\"\"}},\"name\":\"americano\",\"offsetgroup\":\"americano\",\"orientation\":\"v\",\"showlegend\":false,\"textposition\":\"auto\",\"x\":[\"quarta-feira\",\"quinta-feira\",\"segunda-feria\",\"sexta-feira\",\"ter\\u00e7a-feria\"],\"xaxis\":\"x4\",\"y\":[903.0,931.0,1057.0,882.0,1127.0],\"yaxis\":\"y4\",\"type\":\"bar\"},{\"alignmentgroup\":\"True\",\"hovertemplate\":\"produto=americano<br>m\\u00eas=maio<br>Dia da Semana=%{x}<br>Faturamento=%{y}<extra></extra>\",\"legendgroup\":\"americano\",\"marker\":{\"color\":\"#636efa\",\"pattern\":{\"shape\":\"\"}},\"name\":\"americano\",\"offsetgroup\":\"americano\",\"orientation\":\"v\",\"showlegend\":false,\"textposition\":\"auto\",\"x\":[\"quarta-feira\",\"quinta-feira\",\"segunda-feria\",\"sexta-feira\",\"ter\\u00e7a-feria\"],\"xaxis\":\"x5\",\"y\":[938.0,1141.0,882.0,1085.0,896.0],\"yaxis\":\"y5\",\"type\":\"bar\"},{\"alignmentgroup\":\"True\",\"hovertemplate\":\"produto=americano<br>m\\u00eas=junho<br>Dia da Semana=%{x}<br>Faturamento=%{y}<extra></extra>\",\"legendgroup\":\"americano\",\"marker\":{\"color\":\"#636efa\",\"pattern\":{\"shape\":\"\"}},\"name\":\"americano\",\"offsetgroup\":\"americano\",\"orientation\":\"v\",\"showlegend\":false,\"textposition\":\"auto\",\"x\":[\"quarta-feira\",\"quinta-feira\",\"segunda-feria\",\"sexta-feira\",\"ter\\u00e7a-feria\"],\"xaxis\":\"x6\",\"y\":[1022.0,1001.0,917.0,945.0,959.0],\"yaxis\":\"y6\",\"type\":\"bar\"},{\"alignmentgroup\":\"True\",\"hovertemplate\":\"produto=bolo<br>m\\u00eas=janeiro<br>Dia da Semana=%{x}<br>Faturamento=%{y}<extra></extra>\",\"legendgroup\":\"bolo\",\"marker\":{\"color\":\"#EF553B\",\"pattern\":{\"shape\":\"\"}},\"name\":\"bolo\",\"offsetgroup\":\"bolo\",\"orientation\":\"v\",\"showlegend\":true,\"textposition\":\"auto\",\"x\":[\"quarta-feira\",\"quinta-feira\",\"segunda-feria\",\"sexta-feira\",\"ter\\u00e7a-feria\"],\"xaxis\":\"x\",\"y\":[140.0,105.0,110.0,190.0,130.0],\"yaxis\":\"y\",\"type\":\"bar\"},{\"alignmentgroup\":\"True\",\"hovertemplate\":\"produto=bolo<br>m\\u00eas=fevereiro<br>Dia da Semana=%{x}<br>Faturamento=%{y}<extra></extra>\",\"legendgroup\":\"bolo\",\"marker\":{\"color\":\"#EF553B\",\"pattern\":{\"shape\":\"\"}},\"name\":\"bolo\",\"offsetgroup\":\"bolo\",\"orientation\":\"v\",\"showlegend\":false,\"textposition\":\"auto\",\"x\":[\"quarta-feira\",\"quinta-feira\",\"segunda-feria\",\"sexta-feira\",\"ter\\u00e7a-feria\"],\"xaxis\":\"x2\",\"y\":[150.0,275.0,130.0,370.0,135.0],\"yaxis\":\"y2\",\"type\":\"bar\"},{\"alignmentgroup\":\"True\",\"hovertemplate\":\"produto=bolo<br>m\\u00eas=mar\\u00e7o<br>Dia da Semana=%{x}<br>Faturamento=%{y}<extra></extra>\",\"legendgroup\":\"bolo\",\"marker\":{\"color\":\"#EF553B\",\"pattern\":{\"shape\":\"\"}},\"name\":\"bolo\",\"offsetgroup\":\"bolo\",\"orientation\":\"v\",\"showlegend\":false,\"textposition\":\"auto\",\"x\":[\"quarta-feira\",\"quinta-feira\",\"segunda-feria\",\"sexta-feira\",\"ter\\u00e7a-feria\"],\"xaxis\":\"x3\",\"y\":[205.0,270.0,160.0,465.0,210.0],\"yaxis\":\"y3\",\"type\":\"bar\"},{\"alignmentgroup\":\"True\",\"hovertemplate\":\"produto=bolo<br>m\\u00eas=abril<br>Dia da Semana=%{x}<br>Faturamento=%{y}<extra></extra>\",\"legendgroup\":\"bolo\",\"marker\":{\"color\":\"#EF553B\",\"pattern\":{\"shape\":\"\"}},\"name\":\"bolo\",\"offsetgroup\":\"bolo\",\"orientation\":\"v\",\"showlegend\":false,\"textposition\":\"auto\",\"x\":[\"quarta-feira\",\"quinta-feira\",\"segunda-feria\",\"sexta-feira\",\"ter\\u00e7a-feria\"],\"xaxis\":\"x4\",\"y\":[195.0,285.0,180.0,450.0,225.0],\"yaxis\":\"y4\",\"type\":\"bar\"},{\"alignmentgroup\":\"True\",\"hovertemplate\":\"produto=bolo<br>m\\u00eas=maio<br>Dia da Semana=%{x}<br>Faturamento=%{y}<extra></extra>\",\"legendgroup\":\"bolo\",\"marker\":{\"color\":\"#EF553B\",\"pattern\":{\"shape\":\"\"}},\"name\":\"bolo\",\"offsetgroup\":\"bolo\",\"orientation\":\"v\",\"showlegend\":false,\"textposition\":\"auto\",\"x\":[\"quarta-feira\",\"quinta-feira\",\"segunda-feria\",\"sexta-feira\",\"ter\\u00e7a-feria\"],\"xaxis\":\"x5\",\"y\":[240.0,355.0,170.0,630.0,190.0],\"yaxis\":\"y5\",\"type\":\"bar\"},{\"alignmentgroup\":\"True\",\"hovertemplate\":\"produto=bolo<br>m\\u00eas=junho<br>Dia da Semana=%{x}<br>Faturamento=%{y}<extra></extra>\",\"legendgroup\":\"bolo\",\"marker\":{\"color\":\"#EF553B\",\"pattern\":{\"shape\":\"\"}},\"name\":\"bolo\",\"offsetgroup\":\"bolo\",\"orientation\":\"v\",\"showlegend\":false,\"textposition\":\"auto\",\"x\":[\"quarta-feira\",\"quinta-feira\",\"segunda-feria\",\"sexta-feira\",\"ter\\u00e7a-feria\"],\"xaxis\":\"x6\",\"y\":[220.0,275.0,240.0,490.0,200.0],\"yaxis\":\"y6\",\"type\":\"bar\"},{\"alignmentgroup\":\"True\",\"hovertemplate\":\"produto=cachorro-quente<br>m\\u00eas=janeiro<br>Dia da Semana=%{x}<br>Faturamento=%{y}<extra></extra>\",\"legendgroup\":\"cachorro-quente\",\"marker\":{\"color\":\"#00cc96\",\"pattern\":{\"shape\":\"\"}},\"name\":\"cachorro-quente\",\"offsetgroup\":\"cachorro-quente\",\"orientation\":\"v\",\"showlegend\":true,\"textposition\":\"auto\",\"x\":[\"quarta-feira\",\"quinta-feira\",\"segunda-feria\",\"sexta-feira\",\"ter\\u00e7a-feria\"],\"xaxis\":\"x\",\"y\":[664.0,512.0,696.0,568.0,560.0],\"yaxis\":\"y\",\"type\":\"bar\"},{\"alignmentgroup\":\"True\",\"hovertemplate\":\"produto=cachorro-quente<br>m\\u00eas=fevereiro<br>Dia da Semana=%{x}<br>Faturamento=%{y}<extra></extra>\",\"legendgroup\":\"cachorro-quente\",\"marker\":{\"color\":\"#00cc96\",\"pattern\":{\"shape\":\"\"}},\"name\":\"cachorro-quente\",\"offsetgroup\":\"cachorro-quente\",\"orientation\":\"v\",\"showlegend\":false,\"textposition\":\"auto\",\"x\":[\"quarta-feira\",\"quinta-feira\",\"segunda-feria\",\"sexta-feira\",\"ter\\u00e7a-feria\"],\"xaxis\":\"x2\",\"y\":[1120.0,1176.0,816.0,1216.0,832.0],\"yaxis\":\"y2\",\"type\":\"bar\"},{\"alignmentgroup\":\"True\",\"hovertemplate\":\"produto=cachorro-quente<br>m\\u00eas=mar\\u00e7o<br>Dia da Semana=%{x}<br>Faturamento=%{y}<extra></extra>\",\"legendgroup\":\"cachorro-quente\",\"marker\":{\"color\":\"#00cc96\",\"pattern\":{\"shape\":\"\"}},\"name\":\"cachorro-quente\",\"offsetgroup\":\"cachorro-quente\",\"orientation\":\"v\",\"showlegend\":false,\"textposition\":\"auto\",\"x\":[\"quarta-feira\",\"quinta-feira\",\"segunda-feria\",\"sexta-feira\",\"ter\\u00e7a-feria\"],\"xaxis\":\"x3\",\"y\":[1168.0,1152.0,1160.0,1248.0,1080.0],\"yaxis\":\"y3\",\"type\":\"bar\"},{\"alignmentgroup\":\"True\",\"hovertemplate\":\"produto=cachorro-quente<br>m\\u00eas=abril<br>Dia da Semana=%{x}<br>Faturamento=%{y}<extra></extra>\",\"legendgroup\":\"cachorro-quente\",\"marker\":{\"color\":\"#00cc96\",\"pattern\":{\"shape\":\"\"}},\"name\":\"cachorro-quente\",\"offsetgroup\":\"cachorro-quente\",\"orientation\":\"v\",\"showlegend\":false,\"textposition\":\"auto\",\"x\":[\"quarta-feira\",\"quinta-feira\",\"segunda-feria\",\"sexta-feira\",\"ter\\u00e7a-feria\"],\"xaxis\":\"x4\",\"y\":[1016.0,1120.0,1240.0,1208.0,1160.0],\"yaxis\":\"y4\",\"type\":\"bar\"},{\"alignmentgroup\":\"True\",\"hovertemplate\":\"produto=cachorro-quente<br>m\\u00eas=maio<br>Dia da Semana=%{x}<br>Faturamento=%{y}<extra></extra>\",\"legendgroup\":\"cachorro-quente\",\"marker\":{\"color\":\"#00cc96\",\"pattern\":{\"shape\":\"\"}},\"name\":\"cachorro-quente\",\"offsetgroup\":\"cachorro-quente\",\"orientation\":\"v\",\"showlegend\":false,\"textposition\":\"auto\",\"x\":[\"quarta-feira\",\"quinta-feira\",\"segunda-feria\",\"sexta-feira\",\"ter\\u00e7a-feria\"],\"xaxis\":\"x5\",\"y\":[1072.0,1344.0,1056.0,1376.0,1096.0],\"yaxis\":\"y5\",\"type\":\"bar\"},{\"alignmentgroup\":\"True\",\"hovertemplate\":\"produto=cachorro-quente<br>m\\u00eas=junho<br>Dia da Semana=%{x}<br>Faturamento=%{y}<extra></extra>\",\"legendgroup\":\"cachorro-quente\",\"marker\":{\"color\":\"#00cc96\",\"pattern\":{\"shape\":\"\"}},\"name\":\"cachorro-quente\",\"offsetgroup\":\"cachorro-quente\",\"orientation\":\"v\",\"showlegend\":false,\"textposition\":\"auto\",\"x\":[\"quarta-feira\",\"quinta-feira\",\"segunda-feria\",\"sexta-feira\",\"ter\\u00e7a-feria\"],\"xaxis\":\"x6\",\"y\":[1152.0,1192.0,1152.0,1288.0,1176.0],\"yaxis\":\"y6\",\"type\":\"bar\"},{\"alignmentgroup\":\"True\",\"hovertemplate\":\"produto=coxinha<br>m\\u00eas=janeiro<br>Dia da Semana=%{x}<br>Faturamento=%{y}<extra></extra>\",\"legendgroup\":\"coxinha\",\"marker\":{\"color\":\"#ab63fa\",\"pattern\":{\"shape\":\"\"}},\"name\":\"coxinha\",\"offsetgroup\":\"coxinha\",\"orientation\":\"v\",\"showlegend\":true,\"textposition\":\"auto\",\"x\":[\"quarta-feira\",\"quinta-feira\",\"segunda-feria\",\"sexta-feira\",\"ter\\u00e7a-feria\"],\"xaxis\":\"x\",\"y\":[140.0,70.0,175.0,80.0,155.0],\"yaxis\":\"y\",\"type\":\"bar\"},{\"alignmentgroup\":\"True\",\"hovertemplate\":\"produto=coxinha<br>m\\u00eas=fevereiro<br>Dia da Semana=%{x}<br>Faturamento=%{y}<extra></extra>\",\"legendgroup\":\"coxinha\",\"marker\":{\"color\":\"#ab63fa\",\"pattern\":{\"shape\":\"\"}},\"name\":\"coxinha\",\"offsetgroup\":\"coxinha\",\"orientation\":\"v\",\"showlegend\":false,\"textposition\":\"auto\",\"x\":[\"quarta-feira\",\"quinta-feira\",\"segunda-feria\",\"sexta-feira\",\"ter\\u00e7a-feria\"],\"xaxis\":\"x2\",\"y\":[170.0,205.0,105.0,155.0,120.0],\"yaxis\":\"y2\",\"type\":\"bar\"},{\"alignmentgroup\":\"True\",\"hovertemplate\":\"produto=coxinha<br>m\\u00eas=mar\\u00e7o<br>Dia da Semana=%{x}<br>Faturamento=%{y}<extra></extra>\",\"legendgroup\":\"coxinha\",\"marker\":{\"color\":\"#ab63fa\",\"pattern\":{\"shape\":\"\"}},\"name\":\"coxinha\",\"offsetgroup\":\"coxinha\",\"orientation\":\"v\",\"showlegend\":false,\"textposition\":\"auto\",\"x\":[\"quarta-feira\",\"quinta-feira\",\"segunda-feria\",\"sexta-feira\",\"ter\\u00e7a-feria\"],\"xaxis\":\"x3\",\"y\":[190.0,155.0,180.0,170.0,185.0],\"yaxis\":\"y3\",\"type\":\"bar\"},{\"alignmentgroup\":\"True\",\"hovertemplate\":\"produto=coxinha<br>m\\u00eas=abril<br>Dia da Semana=%{x}<br>Faturamento=%{y}<extra></extra>\",\"legendgroup\":\"coxinha\",\"marker\":{\"color\":\"#ab63fa\",\"pattern\":{\"shape\":\"\"}},\"name\":\"coxinha\",\"offsetgroup\":\"coxinha\",\"orientation\":\"v\",\"showlegend\":false,\"textposition\":\"auto\",\"x\":[\"quarta-feira\",\"quinta-feira\",\"segunda-feria\",\"sexta-feira\",\"ter\\u00e7a-feria\"],\"xaxis\":\"x4\",\"y\":[160.0,160.0,265.0,165.0,255.0],\"yaxis\":\"y4\",\"type\":\"bar\"},{\"alignmentgroup\":\"True\",\"hovertemplate\":\"produto=coxinha<br>m\\u00eas=maio<br>Dia da Semana=%{x}<br>Faturamento=%{y}<extra></extra>\",\"legendgroup\":\"coxinha\",\"marker\":{\"color\":\"#ab63fa\",\"pattern\":{\"shape\":\"\"}},\"name\":\"coxinha\",\"offsetgroup\":\"coxinha\",\"orientation\":\"v\",\"showlegend\":false,\"textposition\":\"auto\",\"x\":[\"quarta-feira\",\"quinta-feira\",\"segunda-feria\",\"sexta-feira\",\"ter\\u00e7a-feria\"],\"xaxis\":\"x5\",\"y\":[170.0,205.0,215.0,210.0,195.0],\"yaxis\":\"y5\",\"type\":\"bar\"},{\"alignmentgroup\":\"True\",\"hovertemplate\":\"produto=coxinha<br>m\\u00eas=junho<br>Dia da Semana=%{x}<br>Faturamento=%{y}<extra></extra>\",\"legendgroup\":\"coxinha\",\"marker\":{\"color\":\"#ab63fa\",\"pattern\":{\"shape\":\"\"}},\"name\":\"coxinha\",\"offsetgroup\":\"coxinha\",\"orientation\":\"v\",\"showlegend\":false,\"textposition\":\"auto\",\"x\":[\"quarta-feira\",\"quinta-feira\",\"segunda-feria\",\"sexta-feira\",\"ter\\u00e7a-feria\"],\"xaxis\":\"x6\",\"y\":[215.0,200.0,260.0,155.0,175.0],\"yaxis\":\"y6\",\"type\":\"bar\"},{\"alignmentgroup\":\"True\",\"hovertemplate\":\"produto=empada<br>m\\u00eas=janeiro<br>Dia da Semana=%{x}<br>Faturamento=%{y}<extra></extra>\",\"legendgroup\":\"empada\",\"marker\":{\"color\":\"#FFA15A\",\"pattern\":{\"shape\":\"\"}},\"name\":\"empada\",\"offsetgroup\":\"empada\",\"orientation\":\"v\",\"showlegend\":true,\"textposition\":\"auto\",\"x\":[\"quarta-feira\",\"quinta-feira\",\"segunda-feria\",\"sexta-feira\",\"ter\\u00e7a-feria\"],\"xaxis\":\"x\",\"y\":[319.5,220.5,310.5,216.0,306.0],\"yaxis\":\"y\",\"type\":\"bar\"},{\"alignmentgroup\":\"True\",\"hovertemplate\":\"produto=empada<br>m\\u00eas=fevereiro<br>Dia da Semana=%{x}<br>Faturamento=%{y}<extra></extra>\",\"legendgroup\":\"empada\",\"marker\":{\"color\":\"#FFA15A\",\"pattern\":{\"shape\":\"\"}},\"name\":\"empada\",\"offsetgroup\":\"empada\",\"orientation\":\"v\",\"showlegend\":false,\"textposition\":\"auto\",\"x\":[\"quarta-feira\",\"quinta-feira\",\"segunda-feria\",\"sexta-feira\",\"ter\\u00e7a-feria\"],\"xaxis\":\"x2\",\"y\":[427.5,562.5,315.0,468.0,324.0],\"yaxis\":\"y2\",\"type\":\"bar\"},{\"alignmentgroup\":\"True\",\"hovertemplate\":\"produto=empada<br>m\\u00eas=mar\\u00e7o<br>Dia da Semana=%{x}<br>Faturamento=%{y}<extra></extra>\",\"legendgroup\":\"empada\",\"marker\":{\"color\":\"#FFA15A\",\"pattern\":{\"shape\":\"\"}},\"name\":\"empada\",\"offsetgroup\":\"empada\",\"orientation\":\"v\",\"showlegend\":false,\"textposition\":\"auto\",\"x\":[\"quarta-feira\",\"quinta-feira\",\"segunda-feria\",\"sexta-feira\",\"ter\\u00e7a-feria\"],\"xaxis\":\"x3\",\"y\":[504.0,486.0,459.0,495.0,472.5],\"yaxis\":\"y3\",\"type\":\"bar\"},{\"alignmentgroup\":\"True\",\"hovertemplate\":\"produto=empada<br>m\\u00eas=abril<br>Dia da Semana=%{x}<br>Faturamento=%{y}<extra></extra>\",\"legendgroup\":\"empada\",\"marker\":{\"color\":\"#FFA15A\",\"pattern\":{\"shape\":\"\"}},\"name\":\"empada\",\"offsetgroup\":\"empada\",\"orientation\":\"v\",\"showlegend\":false,\"textposition\":\"auto\",\"x\":[\"quarta-feira\",\"quinta-feira\",\"segunda-feria\",\"sexta-feira\",\"ter\\u00e7a-feria\"],\"xaxis\":\"x4\",\"y\":[427.5,459.0,540.0,490.5,535.5],\"yaxis\":\"y4\",\"type\":\"bar\"},{\"alignmentgroup\":\"True\",\"hovertemplate\":\"produto=empada<br>m\\u00eas=maio<br>Dia da Semana=%{x}<br>Faturamento=%{y}<extra></extra>\",\"legendgroup\":\"empada\",\"marker\":{\"color\":\"#FFA15A\",\"pattern\":{\"shape\":\"\"}},\"name\":\"empada\",\"offsetgroup\":\"empada\",\"orientation\":\"v\",\"showlegend\":false,\"textposition\":\"auto\",\"x\":[\"quarta-feira\",\"quinta-feira\",\"segunda-feria\",\"sexta-feira\",\"ter\\u00e7a-feria\"],\"xaxis\":\"x5\",\"y\":[427.5,567.0,427.5,661.5,463.5],\"yaxis\":\"y5\",\"type\":\"bar\"},{\"alignmentgroup\":\"True\",\"hovertemplate\":\"produto=empada<br>m\\u00eas=junho<br>Dia da Semana=%{x}<br>Faturamento=%{y}<extra></extra>\",\"legendgroup\":\"empada\",\"marker\":{\"color\":\"#FFA15A\",\"pattern\":{\"shape\":\"\"}},\"name\":\"empada\",\"offsetgroup\":\"empada\",\"orientation\":\"v\",\"showlegend\":false,\"textposition\":\"auto\",\"x\":[\"quarta-feira\",\"quinta-feira\",\"segunda-feria\",\"sexta-feira\",\"ter\\u00e7a-feria\"],\"xaxis\":\"x6\",\"y\":[445.5,472.5,504.0,481.5,454.5],\"yaxis\":\"y6\",\"type\":\"bar\"},{\"alignmentgroup\":\"True\",\"hovertemplate\":\"produto=pastel<br>m\\u00eas=janeiro<br>Dia da Semana=%{x}<br>Faturamento=%{y}<extra></extra>\",\"legendgroup\":\"pastel\",\"marker\":{\"color\":\"#19d3f3\",\"pattern\":{\"shape\":\"\"}},\"name\":\"pastel\",\"offsetgroup\":\"pastel\",\"orientation\":\"v\",\"showlegend\":true,\"textposition\":\"auto\",\"x\":[\"quarta-feira\",\"quinta-feira\",\"segunda-feria\",\"sexta-feira\",\"ter\\u00e7a-feria\"],\"xaxis\":\"x\",\"y\":[426.0,270.0,360.0,288.0,378.0],\"yaxis\":\"y\",\"type\":\"bar\"},{\"alignmentgroup\":\"True\",\"hovertemplate\":\"produto=pastel<br>m\\u00eas=fevereiro<br>Dia da Semana=%{x}<br>Faturamento=%{y}<extra></extra>\",\"legendgroup\":\"pastel\",\"marker\":{\"color\":\"#19d3f3\",\"pattern\":{\"shape\":\"\"}},\"name\":\"pastel\",\"offsetgroup\":\"pastel\",\"orientation\":\"v\",\"showlegend\":false,\"textposition\":\"auto\",\"x\":[\"quarta-feira\",\"quinta-feira\",\"segunda-feria\",\"sexta-feira\",\"ter\\u00e7a-feria\"],\"xaxis\":\"x2\",\"y\":[540.0,762.0,444.0,648.0,498.0],\"yaxis\":\"y2\",\"type\":\"bar\"},{\"alignmentgroup\":\"True\",\"hovertemplate\":\"produto=pastel<br>m\\u00eas=mar\\u00e7o<br>Dia da Semana=%{x}<br>Faturamento=%{y}<extra></extra>\",\"legendgroup\":\"pastel\",\"marker\":{\"color\":\"#19d3f3\",\"pattern\":{\"shape\":\"\"}},\"name\":\"pastel\",\"offsetgroup\":\"pastel\",\"orientation\":\"v\",\"showlegend\":false,\"textposition\":\"auto\",\"x\":[\"quarta-feira\",\"quinta-feira\",\"segunda-feria\",\"sexta-feira\",\"ter\\u00e7a-feria\"],\"xaxis\":\"x3\",\"y\":[630.0,576.0,564.0,750.0,576.0],\"yaxis\":\"y3\",\"type\":\"bar\"},{\"alignmentgroup\":\"True\",\"hovertemplate\":\"produto=pastel<br>m\\u00eas=abril<br>Dia da Semana=%{x}<br>Faturamento=%{y}<extra></extra>\",\"legendgroup\":\"pastel\",\"marker\":{\"color\":\"#19d3f3\",\"pattern\":{\"shape\":\"\"}},\"name\":\"pastel\",\"offsetgroup\":\"pastel\",\"orientation\":\"v\",\"showlegend\":false,\"textposition\":\"auto\",\"x\":[\"quarta-feira\",\"quinta-feira\",\"segunda-feria\",\"sexta-feira\",\"ter\\u00e7a-feria\"],\"xaxis\":\"x4\",\"y\":[594.0,678.0,624.0,720.0,750.0],\"yaxis\":\"y4\",\"type\":\"bar\"},{\"alignmentgroup\":\"True\",\"hovertemplate\":\"produto=pastel<br>m\\u00eas=maio<br>Dia da Semana=%{x}<br>Faturamento=%{y}<extra></extra>\",\"legendgroup\":\"pastel\",\"marker\":{\"color\":\"#19d3f3\",\"pattern\":{\"shape\":\"\"}},\"name\":\"pastel\",\"offsetgroup\":\"pastel\",\"orientation\":\"v\",\"showlegend\":false,\"textposition\":\"auto\",\"x\":[\"quarta-feira\",\"quinta-feira\",\"segunda-feria\",\"sexta-feira\",\"ter\\u00e7a-feria\"],\"xaxis\":\"x5\",\"y\":[438.0,750.0,372.0,822.0,468.0],\"yaxis\":\"y5\",\"type\":\"bar\"},{\"alignmentgroup\":\"True\",\"hovertemplate\":\"produto=pastel<br>m\\u00eas=junho<br>Dia da Semana=%{x}<br>Faturamento=%{y}<extra></extra>\",\"legendgroup\":\"pastel\",\"marker\":{\"color\":\"#19d3f3\",\"pattern\":{\"shape\":\"\"}},\"name\":\"pastel\",\"offsetgroup\":\"pastel\",\"orientation\":\"v\",\"showlegend\":false,\"textposition\":\"auto\",\"x\":[\"quarta-feira\",\"quinta-feira\",\"segunda-feria\",\"sexta-feira\",\"ter\\u00e7a-feria\"],\"xaxis\":\"x6\",\"y\":[510.0,552.0,348.0,660.0,432.0],\"yaxis\":\"y6\",\"type\":\"bar\"},{\"alignmentgroup\":\"True\",\"hovertemplate\":\"produto=refrigerante<br>m\\u00eas=janeiro<br>Dia da Semana=%{x}<br>Faturamento=%{y}<extra></extra>\",\"legendgroup\":\"refrigerante\",\"marker\":{\"color\":\"#FF6692\",\"pattern\":{\"shape\":\"\"}},\"name\":\"refrigerante\",\"offsetgroup\":\"refrigerante\",\"orientation\":\"v\",\"showlegend\":true,\"textposition\":\"auto\",\"x\":[\"quarta-feira\",\"quinta-feira\",\"segunda-feria\",\"sexta-feira\",\"ter\\u00e7a-feria\"],\"xaxis\":\"x\",\"y\":[720.0,540.0,780.0,576.0,684.0],\"yaxis\":\"y\",\"type\":\"bar\"},{\"alignmentgroup\":\"True\",\"hovertemplate\":\"produto=refrigerante<br>m\\u00eas=fevereiro<br>Dia da Semana=%{x}<br>Faturamento=%{y}<extra></extra>\",\"legendgroup\":\"refrigerante\",\"marker\":{\"color\":\"#FF6692\",\"pattern\":{\"shape\":\"\"}},\"name\":\"refrigerante\",\"offsetgroup\":\"refrigerante\",\"orientation\":\"v\",\"showlegend\":false,\"textposition\":\"auto\",\"x\":[\"quarta-feira\",\"quinta-feira\",\"segunda-feria\",\"sexta-feira\",\"ter\\u00e7a-feria\"],\"xaxis\":\"x2\",\"y\":[864.0,1176.0,684.0,1122.0,684.0],\"yaxis\":\"y2\",\"type\":\"bar\"},{\"alignmentgroup\":\"True\",\"hovertemplate\":\"produto=refrigerante<br>m\\u00eas=mar\\u00e7o<br>Dia da Semana=%{x}<br>Faturamento=%{y}<extra></extra>\",\"legendgroup\":\"refrigerante\",\"marker\":{\"color\":\"#FF6692\",\"pattern\":{\"shape\":\"\"}},\"name\":\"refrigerante\",\"offsetgroup\":\"refrigerante\",\"orientation\":\"v\",\"showlegend\":false,\"textposition\":\"auto\",\"x\":[\"quarta-feira\",\"quinta-feira\",\"segunda-feria\",\"sexta-feira\",\"ter\\u00e7a-feria\"],\"xaxis\":\"x3\",\"y\":[954.0,1020.0,738.0,1152.0,816.0],\"yaxis\":\"y3\",\"type\":\"bar\"},{\"alignmentgroup\":\"True\",\"hovertemplate\":\"produto=refrigerante<br>m\\u00eas=abril<br>Dia da Semana=%{x}<br>Faturamento=%{y}<extra></extra>\",\"legendgroup\":\"refrigerante\",\"marker\":{\"color\":\"#FF6692\",\"pattern\":{\"shape\":\"\"}},\"name\":\"refrigerante\",\"offsetgroup\":\"refrigerante\",\"orientation\":\"v\",\"showlegend\":false,\"textposition\":\"auto\",\"x\":[\"quarta-feira\",\"quinta-feira\",\"segunda-feria\",\"sexta-feira\",\"ter\\u00e7a-feria\"],\"xaxis\":\"x4\",\"y\":[990.0,1038.0,1212.0,1176.0,1170.0],\"yaxis\":\"y4\",\"type\":\"bar\"},{\"alignmentgroup\":\"True\",\"hovertemplate\":\"produto=refrigerante<br>m\\u00eas=maio<br>Dia da Semana=%{x}<br>Faturamento=%{y}<extra></extra>\",\"legendgroup\":\"refrigerante\",\"marker\":{\"color\":\"#FF6692\",\"pattern\":{\"shape\":\"\"}},\"name\":\"refrigerante\",\"offsetgroup\":\"refrigerante\",\"orientation\":\"v\",\"showlegend\":false,\"textposition\":\"auto\",\"x\":[\"quarta-feira\",\"quinta-feira\",\"segunda-feria\",\"sexta-feira\",\"ter\\u00e7a-feria\"],\"xaxis\":\"x5\",\"y\":[1038.0,1374.0,870.0,1584.0,894.0],\"yaxis\":\"y5\",\"type\":\"bar\"},{\"alignmentgroup\":\"True\",\"hovertemplate\":\"produto=refrigerante<br>m\\u00eas=junho<br>Dia da Semana=%{x}<br>Faturamento=%{y}<extra></extra>\",\"legendgroup\":\"refrigerante\",\"marker\":{\"color\":\"#FF6692\",\"pattern\":{\"shape\":\"\"}},\"name\":\"refrigerante\",\"offsetgroup\":\"refrigerante\",\"orientation\":\"v\",\"showlegend\":false,\"textposition\":\"auto\",\"x\":[\"quarta-feira\",\"quinta-feira\",\"segunda-feria\",\"sexta-feira\",\"ter\\u00e7a-feria\"],\"xaxis\":\"x6\",\"y\":[1146.0,1080.0,1074.0,1200.0,1158.0],\"yaxis\":\"y6\",\"type\":\"bar\"},{\"alignmentgroup\":\"True\",\"hovertemplate\":\"produto=salada<br>m\\u00eas=janeiro<br>Dia da Semana=%{x}<br>Faturamento=%{y}<extra></extra>\",\"legendgroup\":\"salada\",\"marker\":{\"color\":\"#B6E880\",\"pattern\":{\"shape\":\"\"}},\"name\":\"salada\",\"offsetgroup\":\"salada\",\"orientation\":\"v\",\"showlegend\":true,\"textposition\":\"auto\",\"x\":[\"quarta-feira\",\"quinta-feira\",\"segunda-feria\",\"sexta-feira\",\"ter\\u00e7a-feria\"],\"xaxis\":\"x\",\"y\":[470.0,240.0,530.0,130.0,440.0],\"yaxis\":\"y\",\"type\":\"bar\"},{\"alignmentgroup\":\"True\",\"hovertemplate\":\"produto=salada<br>m\\u00eas=fevereiro<br>Dia da Semana=%{x}<br>Faturamento=%{y}<extra></extra>\",\"legendgroup\":\"salada\",\"marker\":{\"color\":\"#B6E880\",\"pattern\":{\"shape\":\"\"}},\"name\":\"salada\",\"offsetgroup\":\"salada\",\"orientation\":\"v\",\"showlegend\":false,\"textposition\":\"auto\",\"x\":[\"quarta-feira\",\"quinta-feira\",\"segunda-feria\",\"sexta-feira\",\"ter\\u00e7a-feria\"],\"xaxis\":\"x2\",\"y\":[690.0,710.0,590.0,290.0,510.0],\"yaxis\":\"y2\",\"type\":\"bar\"},{\"alignmentgroup\":\"True\",\"hovertemplate\":\"produto=salada<br>m\\u00eas=mar\\u00e7o<br>Dia da Semana=%{x}<br>Faturamento=%{y}<extra></extra>\",\"legendgroup\":\"salada\",\"marker\":{\"color\":\"#B6E880\",\"pattern\":{\"shape\":\"\"}},\"name\":\"salada\",\"offsetgroup\":\"salada\",\"orientation\":\"v\",\"showlegend\":false,\"textposition\":\"auto\",\"x\":[\"quarta-feira\",\"quinta-feira\",\"segunda-feria\",\"sexta-feira\",\"ter\\u00e7a-feria\"],\"xaxis\":\"x3\",\"y\":[480.0,430.0,920.0,250.0,850.0],\"yaxis\":\"y3\",\"type\":\"bar\"},{\"alignmentgroup\":\"True\",\"hovertemplate\":\"produto=salada<br>m\\u00eas=abril<br>Dia da Semana=%{x}<br>Faturamento=%{y}<extra></extra>\",\"legendgroup\":\"salada\",\"marker\":{\"color\":\"#B6E880\",\"pattern\":{\"shape\":\"\"}},\"name\":\"salada\",\"offsetgroup\":\"salada\",\"orientation\":\"v\",\"showlegend\":false,\"textposition\":\"auto\",\"x\":[\"quarta-feira\",\"quinta-feira\",\"segunda-feria\",\"sexta-feira\",\"ter\\u00e7a-feria\"],\"xaxis\":\"x4\",\"y\":[640.0,510.0,1010.0,180.0,890.0],\"yaxis\":\"y4\",\"type\":\"bar\"},{\"alignmentgroup\":\"True\",\"hovertemplate\":\"produto=salada<br>m\\u00eas=maio<br>Dia da Semana=%{x}<br>Faturamento=%{y}<extra></extra>\",\"legendgroup\":\"salada\",\"marker\":{\"color\":\"#B6E880\",\"pattern\":{\"shape\":\"\"}},\"name\":\"salada\",\"offsetgroup\":\"salada\",\"orientation\":\"v\",\"showlegend\":false,\"textposition\":\"auto\",\"x\":[\"quarta-feira\",\"quinta-feira\",\"segunda-feria\",\"sexta-feira\",\"ter\\u00e7a-feria\"],\"xaxis\":\"x5\",\"y\":[740.0,630.0,880.0,370.0,790.0],\"yaxis\":\"y5\",\"type\":\"bar\"},{\"alignmentgroup\":\"True\",\"hovertemplate\":\"produto=salada<br>m\\u00eas=junho<br>Dia da Semana=%{x}<br>Faturamento=%{y}<extra></extra>\",\"legendgroup\":\"salada\",\"marker\":{\"color\":\"#B6E880\",\"pattern\":{\"shape\":\"\"}},\"name\":\"salada\",\"offsetgroup\":\"salada\",\"orientation\":\"v\",\"showlegend\":false,\"textposition\":\"auto\",\"x\":[\"quarta-feira\",\"quinta-feira\",\"segunda-feria\",\"sexta-feira\",\"ter\\u00e7a-feria\"],\"xaxis\":\"x6\",\"y\":[540.0,410.0,830.0,220.0,910.0],\"yaxis\":\"y6\",\"type\":\"bar\"},{\"alignmentgroup\":\"True\",\"hovertemplate\":\"produto=sanduiche natural<br>m\\u00eas=janeiro<br>Dia da Semana=%{x}<br>Faturamento=%{y}<extra></extra>\",\"legendgroup\":\"sanduiche natural\",\"marker\":{\"color\":\"#FF97FF\",\"pattern\":{\"shape\":\"\"}},\"name\":\"sanduiche natural\",\"offsetgroup\":\"sanduiche natural\",\"orientation\":\"v\",\"showlegend\":true,\"textposition\":\"auto\",\"x\":[\"quarta-feira\",\"quinta-feira\",\"segunda-feria\",\"sexta-feira\",\"ter\\u00e7a-feria\"],\"xaxis\":\"x\",\"y\":[376.0,232.0,440.0,152.0,424.0],\"yaxis\":\"y\",\"type\":\"bar\"},{\"alignmentgroup\":\"True\",\"hovertemplate\":\"produto=sanduiche natural<br>m\\u00eas=fevereiro<br>Dia da Semana=%{x}<br>Faturamento=%{y}<extra></extra>\",\"legendgroup\":\"sanduiche natural\",\"marker\":{\"color\":\"#FF97FF\",\"pattern\":{\"shape\":\"\"}},\"name\":\"sanduiche natural\",\"offsetgroup\":\"sanduiche natural\",\"orientation\":\"v\",\"showlegend\":false,\"textposition\":\"auto\",\"x\":[\"quarta-feira\",\"quinta-feira\",\"segunda-feria\",\"sexta-feira\",\"ter\\u00e7a-feria\"],\"xaxis\":\"x2\",\"y\":[488.0,512.0,464.0,280.0,336.0],\"yaxis\":\"y2\",\"type\":\"bar\"},{\"alignmentgroup\":\"True\",\"hovertemplate\":\"produto=sanduiche natural<br>m\\u00eas=mar\\u00e7o<br>Dia da Semana=%{x}<br>Faturamento=%{y}<extra></extra>\",\"legendgroup\":\"sanduiche natural\",\"marker\":{\"color\":\"#FF97FF\",\"pattern\":{\"shape\":\"\"}},\"name\":\"sanduiche natural\",\"offsetgroup\":\"sanduiche natural\",\"orientation\":\"v\",\"showlegend\":false,\"textposition\":\"auto\",\"x\":[\"quarta-feira\",\"quinta-feira\",\"segunda-feria\",\"sexta-feira\",\"ter\\u00e7a-feria\"],\"xaxis\":\"x3\",\"y\":[560.0,504.0,768.0,288.0,640.0],\"yaxis\":\"y3\",\"type\":\"bar\"},{\"alignmentgroup\":\"True\",\"hovertemplate\":\"produto=sanduiche natural<br>m\\u00eas=abril<br>Dia da Semana=%{x}<br>Faturamento=%{y}<extra></extra>\",\"legendgroup\":\"sanduiche natural\",\"marker\":{\"color\":\"#FF97FF\",\"pattern\":{\"shape\":\"\"}},\"name\":\"sanduiche natural\",\"offsetgroup\":\"sanduiche natural\",\"orientation\":\"v\",\"showlegend\":false,\"textposition\":\"auto\",\"x\":[\"quarta-feira\",\"quinta-feira\",\"segunda-feria\",\"sexta-feira\",\"ter\\u00e7a-feria\"],\"xaxis\":\"x4\",\"y\":[440.0,392.0,848.0,328.0,656.0],\"yaxis\":\"y4\",\"type\":\"bar\"},{\"alignmentgroup\":\"True\",\"hovertemplate\":\"produto=sanduiche natural<br>m\\u00eas=maio<br>Dia da Semana=%{x}<br>Faturamento=%{y}<extra></extra>\",\"legendgroup\":\"sanduiche natural\",\"marker\":{\"color\":\"#FF97FF\",\"pattern\":{\"shape\":\"\"}},\"name\":\"sanduiche natural\",\"offsetgroup\":\"sanduiche natural\",\"orientation\":\"v\",\"showlegend\":false,\"textposition\":\"auto\",\"x\":[\"quarta-feira\",\"quinta-feira\",\"segunda-feria\",\"sexta-feira\",\"ter\\u00e7a-feria\"],\"xaxis\":\"x5\",\"y\":[520.0,464.0,728.0,312.0,648.0],\"yaxis\":\"y5\",\"type\":\"bar\"},{\"alignmentgroup\":\"True\",\"hovertemplate\":\"produto=sanduiche natural<br>m\\u00eas=junho<br>Dia da Semana=%{x}<br>Faturamento=%{y}<extra></extra>\",\"legendgroup\":\"sanduiche natural\",\"marker\":{\"color\":\"#FF97FF\",\"pattern\":{\"shape\":\"\"}},\"name\":\"sanduiche natural\",\"offsetgroup\":\"sanduiche natural\",\"orientation\":\"v\",\"showlegend\":false,\"textposition\":\"auto\",\"x\":[\"quarta-feira\",\"quinta-feira\",\"segunda-feria\",\"sexta-feira\",\"ter\\u00e7a-feria\"],\"xaxis\":\"x6\",\"y\":[496.0,368.0,760.0,256.0,688.0],\"yaxis\":\"y6\",\"type\":\"bar\"},{\"alignmentgroup\":\"True\",\"hovertemplate\":\"produto=sucos<br>m\\u00eas=janeiro<br>Dia da Semana=%{x}<br>Faturamento=%{y}<extra></extra>\",\"legendgroup\":\"sucos\",\"marker\":{\"color\":\"#FECB52\",\"pattern\":{\"shape\":\"\"}},\"name\":\"sucos\",\"offsetgroup\":\"sucos\",\"orientation\":\"v\",\"showlegend\":true,\"textposition\":\"auto\",\"x\":[\"quarta-feira\",\"quinta-feira\",\"segunda-feria\",\"sexta-feira\",\"ter\\u00e7a-feria\"],\"xaxis\":\"x\",\"y\":[408.0,268.0,444.0,316.0,404.0],\"yaxis\":\"y\",\"type\":\"bar\"},{\"alignmentgroup\":\"True\",\"hovertemplate\":\"produto=sucos<br>m\\u00eas=fevereiro<br>Dia da Semana=%{x}<br>Faturamento=%{y}<extra></extra>\",\"legendgroup\":\"sucos\",\"marker\":{\"color\":\"#FECB52\",\"pattern\":{\"shape\":\"\"}},\"name\":\"sucos\",\"offsetgroup\":\"sucos\",\"orientation\":\"v\",\"showlegend\":false,\"textposition\":\"auto\",\"x\":[\"quarta-feira\",\"quinta-feira\",\"segunda-feria\",\"sexta-feira\",\"ter\\u00e7a-feria\"],\"xaxis\":\"x2\",\"y\":[560.0,676.0,496.0,520.0,432.0],\"yaxis\":\"y2\",\"type\":\"bar\"},{\"alignmentgroup\":\"True\",\"hovertemplate\":\"produto=sucos<br>m\\u00eas=mar\\u00e7o<br>Dia da Semana=%{x}<br>Faturamento=%{y}<extra></extra>\",\"legendgroup\":\"sucos\",\"marker\":{\"color\":\"#FECB52\",\"pattern\":{\"shape\":\"\"}},\"name\":\"sucos\",\"offsetgroup\":\"sucos\",\"orientation\":\"v\",\"showlegend\":false,\"textposition\":\"auto\",\"x\":[\"quarta-feira\",\"quinta-feira\",\"segunda-feria\",\"sexta-feira\",\"ter\\u00e7a-feria\"],\"xaxis\":\"x3\",\"y\":[508.0,600.0,700.0,580.0,588.0],\"yaxis\":\"y3\",\"type\":\"bar\"},{\"alignmentgroup\":\"True\",\"hovertemplate\":\"produto=sucos<br>m\\u00eas=abril<br>Dia da Semana=%{x}<br>Faturamento=%{y}<extra></extra>\",\"legendgroup\":\"sucos\",\"marker\":{\"color\":\"#FECB52\",\"pattern\":{\"shape\":\"\"}},\"name\":\"sucos\",\"offsetgroup\":\"sucos\",\"orientation\":\"v\",\"showlegend\":false,\"textposition\":\"auto\",\"x\":[\"quarta-feira\",\"quinta-feira\",\"segunda-feria\",\"sexta-feira\",\"ter\\u00e7a-feria\"],\"xaxis\":\"x4\",\"y\":[556.0,552.0,756.0,544.0,704.0],\"yaxis\":\"y4\",\"type\":\"bar\"},{\"alignmentgroup\":\"True\",\"hovertemplate\":\"produto=sucos<br>m\\u00eas=maio<br>Dia da Semana=%{x}<br>Faturamento=%{y}<extra></extra>\",\"legendgroup\":\"sucos\",\"marker\":{\"color\":\"#FECB52\",\"pattern\":{\"shape\":\"\"}},\"name\":\"sucos\",\"offsetgroup\":\"sucos\",\"orientation\":\"v\",\"showlegend\":false,\"textposition\":\"auto\",\"x\":[\"quarta-feira\",\"quinta-feira\",\"segunda-feria\",\"sexta-feira\",\"ter\\u00e7a-feria\"],\"xaxis\":\"x5\",\"y\":[580.0,704.0,632.0,664.0,564.0],\"yaxis\":\"y5\",\"type\":\"bar\"},{\"alignmentgroup\":\"True\",\"hovertemplate\":\"produto=sucos<br>m\\u00eas=junho<br>Dia da Semana=%{x}<br>Faturamento=%{y}<extra></extra>\",\"legendgroup\":\"sucos\",\"marker\":{\"color\":\"#FECB52\",\"pattern\":{\"shape\":\"\"}},\"name\":\"sucos\",\"offsetgroup\":\"sucos\",\"orientation\":\"v\",\"showlegend\":false,\"textposition\":\"auto\",\"x\":[\"quarta-feira\",\"quinta-feira\",\"segunda-feria\",\"sexta-feira\",\"ter\\u00e7a-feria\"],\"xaxis\":\"x6\",\"y\":[620.0,628.0,680.0,676.0,628.0],\"yaxis\":\"y6\",\"type\":\"bar\"},{\"alignmentgroup\":\"True\",\"hovertemplate\":\"produto=tortas<br>m\\u00eas=janeiro<br>Dia da Semana=%{x}<br>Faturamento=%{y}<extra></extra>\",\"legendgroup\":\"tortas\",\"marker\":{\"color\":\"#636efa\",\"pattern\":{\"shape\":\"\"}},\"name\":\"tortas\",\"offsetgroup\":\"tortas\",\"orientation\":\"v\",\"showlegend\":true,\"textposition\":\"auto\",\"x\":[\"quarta-feira\",\"quinta-feira\",\"segunda-feria\",\"sexta-feira\",\"ter\\u00e7a-feria\"],\"xaxis\":\"x\",\"y\":[187.0,148.5,192.5,275.0,181.5],\"yaxis\":\"y\",\"type\":\"bar\"},{\"alignmentgroup\":\"True\",\"hovertemplate\":\"produto=tortas<br>m\\u00eas=fevereiro<br>Dia da Semana=%{x}<br>Faturamento=%{y}<extra></extra>\",\"legendgroup\":\"tortas\",\"marker\":{\"color\":\"#636efa\",\"pattern\":{\"shape\":\"\"}},\"name\":\"tortas\",\"offsetgroup\":\"tortas\",\"orientation\":\"v\",\"showlegend\":false,\"textposition\":\"auto\",\"x\":[\"quarta-feira\",\"quinta-feira\",\"segunda-feria\",\"sexta-feira\",\"ter\\u00e7a-feria\"],\"xaxis\":\"x2\",\"y\":[236.5,374.0,148.5,522.5,192.5],\"yaxis\":\"y2\",\"type\":\"bar\"},{\"alignmentgroup\":\"True\",\"hovertemplate\":\"produto=tortas<br>m\\u00eas=mar\\u00e7o<br>Dia da Semana=%{x}<br>Faturamento=%{y}<extra></extra>\",\"legendgroup\":\"tortas\",\"marker\":{\"color\":\"#636efa\",\"pattern\":{\"shape\":\"\"}},\"name\":\"tortas\",\"offsetgroup\":\"tortas\",\"orientation\":\"v\",\"showlegend\":false,\"textposition\":\"auto\",\"x\":[\"quarta-feira\",\"quinta-feira\",\"segunda-feria\",\"sexta-feira\",\"ter\\u00e7a-feria\"],\"xaxis\":\"x3\",\"y\":[308.0,335.5,231.0,550.0,214.5],\"yaxis\":\"y3\",\"type\":\"bar\"},{\"alignmentgroup\":\"True\",\"hovertemplate\":\"produto=tortas<br>m\\u00eas=abril<br>Dia da Semana=%{x}<br>Faturamento=%{y}<extra></extra>\",\"legendgroup\":\"tortas\",\"marker\":{\"color\":\"#636efa\",\"pattern\":{\"shape\":\"\"}},\"name\":\"tortas\",\"offsetgroup\":\"tortas\",\"orientation\":\"v\",\"showlegend\":false,\"textposition\":\"auto\",\"x\":[\"quarta-feira\",\"quinta-feira\",\"segunda-feria\",\"sexta-feira\",\"ter\\u00e7a-feria\"],\"xaxis\":\"x4\",\"y\":[242.0,374.0,253.0,528.0,264.0],\"yaxis\":\"y4\",\"type\":\"bar\"},{\"alignmentgroup\":\"True\",\"hovertemplate\":\"produto=tortas<br>m\\u00eas=maio<br>Dia da Semana=%{x}<br>Faturamento=%{y}<extra></extra>\",\"legendgroup\":\"tortas\",\"marker\":{\"color\":\"#636efa\",\"pattern\":{\"shape\":\"\"}},\"name\":\"tortas\",\"offsetgroup\":\"tortas\",\"orientation\":\"v\",\"showlegend\":false,\"textposition\":\"auto\",\"x\":[\"quarta-feira\",\"quinta-feira\",\"segunda-feria\",\"sexta-feira\",\"ter\\u00e7a-feria\"],\"xaxis\":\"x5\",\"y\":[341.0,495.0,225.5,709.5,214.5],\"yaxis\":\"y5\",\"type\":\"bar\"},{\"alignmentgroup\":\"True\",\"hovertemplate\":\"produto=tortas<br>m\\u00eas=junho<br>Dia da Semana=%{x}<br>Faturamento=%{y}<extra></extra>\",\"legendgroup\":\"tortas\",\"marker\":{\"color\":\"#636efa\",\"pattern\":{\"shape\":\"\"}},\"name\":\"tortas\",\"offsetgroup\":\"tortas\",\"orientation\":\"v\",\"showlegend\":false,\"textposition\":\"auto\",\"x\":[\"quarta-feira\",\"quinta-feira\",\"segunda-feria\",\"sexta-feira\",\"ter\\u00e7a-feria\"],\"xaxis\":\"x6\",\"y\":[363.0,352.0,236.5,577.5,214.5],\"yaxis\":\"y6\",\"type\":\"bar\"}],                        {\"template\":{\"data\":{\"histogram2dcontour\":[{\"type\":\"histogram2dcontour\",\"colorbar\":{\"outlinewidth\":0,\"ticks\":\"\"},\"colorscale\":[[0.0,\"#0d0887\"],[0.1111111111111111,\"#46039f\"],[0.2222222222222222,\"#7201a8\"],[0.3333333333333333,\"#9c179e\"],[0.4444444444444444,\"#bd3786\"],[0.5555555555555556,\"#d8576b\"],[0.6666666666666666,\"#ed7953\"],[0.7777777777777778,\"#fb9f3a\"],[0.8888888888888888,\"#fdca26\"],[1.0,\"#f0f921\"]]}],\"choropleth\":[{\"type\":\"choropleth\",\"colorbar\":{\"outlinewidth\":0,\"ticks\":\"\"}}],\"histogram2d\":[{\"type\":\"histogram2d\",\"colorbar\":{\"outlinewidth\":0,\"ticks\":\"\"},\"colorscale\":[[0.0,\"#0d0887\"],[0.1111111111111111,\"#46039f\"],[0.2222222222222222,\"#7201a8\"],[0.3333333333333333,\"#9c179e\"],[0.4444444444444444,\"#bd3786\"],[0.5555555555555556,\"#d8576b\"],[0.6666666666666666,\"#ed7953\"],[0.7777777777777778,\"#fb9f3a\"],[0.8888888888888888,\"#fdca26\"],[1.0,\"#f0f921\"]]}],\"heatmap\":[{\"type\":\"heatmap\",\"colorbar\":{\"outlinewidth\":0,\"ticks\":\"\"},\"colorscale\":[[0.0,\"#0d0887\"],[0.1111111111111111,\"#46039f\"],[0.2222222222222222,\"#7201a8\"],[0.3333333333333333,\"#9c179e\"],[0.4444444444444444,\"#bd3786\"],[0.5555555555555556,\"#d8576b\"],[0.6666666666666666,\"#ed7953\"],[0.7777777777777778,\"#fb9f3a\"],[0.8888888888888888,\"#fdca26\"],[1.0,\"#f0f921\"]]}],\"heatmapgl\":[{\"type\":\"heatmapgl\",\"colorbar\":{\"outlinewidth\":0,\"ticks\":\"\"},\"colorscale\":[[0.0,\"#0d0887\"],[0.1111111111111111,\"#46039f\"],[0.2222222222222222,\"#7201a8\"],[0.3333333333333333,\"#9c179e\"],[0.4444444444444444,\"#bd3786\"],[0.5555555555555556,\"#d8576b\"],[0.6666666666666666,\"#ed7953\"],[0.7777777777777778,\"#fb9f3a\"],[0.8888888888888888,\"#fdca26\"],[1.0,\"#f0f921\"]]}],\"contourcarpet\":[{\"type\":\"contourcarpet\",\"colorbar\":{\"outlinewidth\":0,\"ticks\":\"\"}}],\"contour\":[{\"type\":\"contour\",\"colorbar\":{\"outlinewidth\":0,\"ticks\":\"\"},\"colorscale\":[[0.0,\"#0d0887\"],[0.1111111111111111,\"#46039f\"],[0.2222222222222222,\"#7201a8\"],[0.3333333333333333,\"#9c179e\"],[0.4444444444444444,\"#bd3786\"],[0.5555555555555556,\"#d8576b\"],[0.6666666666666666,\"#ed7953\"],[0.7777777777777778,\"#fb9f3a\"],[0.8888888888888888,\"#fdca26\"],[1.0,\"#f0f921\"]]}],\"surface\":[{\"type\":\"surface\",\"colorbar\":{\"outlinewidth\":0,\"ticks\":\"\"},\"colorscale\":[[0.0,\"#0d0887\"],[0.1111111111111111,\"#46039f\"],[0.2222222222222222,\"#7201a8\"],[0.3333333333333333,\"#9c179e\"],[0.4444444444444444,\"#bd3786\"],[0.5555555555555556,\"#d8576b\"],[0.6666666666666666,\"#ed7953\"],[0.7777777777777778,\"#fb9f3a\"],[0.8888888888888888,\"#fdca26\"],[1.0,\"#f0f921\"]]}],\"mesh3d\":[{\"type\":\"mesh3d\",\"colorbar\":{\"outlinewidth\":0,\"ticks\":\"\"}}],\"scatter\":[{\"fillpattern\":{\"fillmode\":\"overlay\",\"size\":10,\"solidity\":0.2},\"type\":\"scatter\"}],\"parcoords\":[{\"type\":\"parcoords\",\"line\":{\"colorbar\":{\"outlinewidth\":0,\"ticks\":\"\"}}}],\"scatterpolargl\":[{\"type\":\"scatterpolargl\",\"marker\":{\"colorbar\":{\"outlinewidth\":0,\"ticks\":\"\"}}}],\"bar\":[{\"error_x\":{\"color\":\"#2a3f5f\"},\"error_y\":{\"color\":\"#2a3f5f\"},\"marker\":{\"line\":{\"color\":\"#E5ECF6\",\"width\":0.5},\"pattern\":{\"fillmode\":\"overlay\",\"size\":10,\"solidity\":0.2}},\"type\":\"bar\"}],\"scattergeo\":[{\"type\":\"scattergeo\",\"marker\":{\"colorbar\":{\"outlinewidth\":0,\"ticks\":\"\"}}}],\"scatterpolar\":[{\"type\":\"scatterpolar\",\"marker\":{\"colorbar\":{\"outlinewidth\":0,\"ticks\":\"\"}}}],\"histogram\":[{\"marker\":{\"pattern\":{\"fillmode\":\"overlay\",\"size\":10,\"solidity\":0.2}},\"type\":\"histogram\"}],\"scattergl\":[{\"type\":\"scattergl\",\"marker\":{\"colorbar\":{\"outlinewidth\":0,\"ticks\":\"\"}}}],\"scatter3d\":[{\"type\":\"scatter3d\",\"line\":{\"colorbar\":{\"outlinewidth\":0,\"ticks\":\"\"}},\"marker\":{\"colorbar\":{\"outlinewidth\":0,\"ticks\":\"\"}}}],\"scattermapbox\":[{\"type\":\"scattermapbox\",\"marker\":{\"colorbar\":{\"outlinewidth\":0,\"ticks\":\"\"}}}],\"scatterternary\":[{\"type\":\"scatterternary\",\"marker\":{\"colorbar\":{\"outlinewidth\":0,\"ticks\":\"\"}}}],\"scattercarpet\":[{\"type\":\"scattercarpet\",\"marker\":{\"colorbar\":{\"outlinewidth\":0,\"ticks\":\"\"}}}],\"carpet\":[{\"aaxis\":{\"endlinecolor\":\"#2a3f5f\",\"gridcolor\":\"white\",\"linecolor\":\"white\",\"minorgridcolor\":\"white\",\"startlinecolor\":\"#2a3f5f\"},\"baxis\":{\"endlinecolor\":\"#2a3f5f\",\"gridcolor\":\"white\",\"linecolor\":\"white\",\"minorgridcolor\":\"white\",\"startlinecolor\":\"#2a3f5f\"},\"type\":\"carpet\"}],\"table\":[{\"cells\":{\"fill\":{\"color\":\"#EBF0F8\"},\"line\":{\"color\":\"white\"}},\"header\":{\"fill\":{\"color\":\"#C8D4E3\"},\"line\":{\"color\":\"white\"}},\"type\":\"table\"}],\"barpolar\":[{\"marker\":{\"line\":{\"color\":\"#E5ECF6\",\"width\":0.5},\"pattern\":{\"fillmode\":\"overlay\",\"size\":10,\"solidity\":0.2}},\"type\":\"barpolar\"}],\"pie\":[{\"automargin\":true,\"type\":\"pie\"}]},\"layout\":{\"autotypenumbers\":\"strict\",\"colorway\":[\"#636efa\",\"#EF553B\",\"#00cc96\",\"#ab63fa\",\"#FFA15A\",\"#19d3f3\",\"#FF6692\",\"#B6E880\",\"#FF97FF\",\"#FECB52\"],\"font\":{\"color\":\"#2a3f5f\"},\"hovermode\":\"closest\",\"hoverlabel\":{\"align\":\"left\"},\"paper_bgcolor\":\"white\",\"plot_bgcolor\":\"#E5ECF6\",\"polar\":{\"bgcolor\":\"#E5ECF6\",\"angularaxis\":{\"gridcolor\":\"white\",\"linecolor\":\"white\",\"ticks\":\"\"},\"radialaxis\":{\"gridcolor\":\"white\",\"linecolor\":\"white\",\"ticks\":\"\"}},\"ternary\":{\"bgcolor\":\"#E5ECF6\",\"aaxis\":{\"gridcolor\":\"white\",\"linecolor\":\"white\",\"ticks\":\"\"},\"baxis\":{\"gridcolor\":\"white\",\"linecolor\":\"white\",\"ticks\":\"\"},\"caxis\":{\"gridcolor\":\"white\",\"linecolor\":\"white\",\"ticks\":\"\"}},\"coloraxis\":{\"colorbar\":{\"outlinewidth\":0,\"ticks\":\"\"}},\"colorscale\":{\"sequential\":[[0.0,\"#0d0887\"],[0.1111111111111111,\"#46039f\"],[0.2222222222222222,\"#7201a8\"],[0.3333333333333333,\"#9c179e\"],[0.4444444444444444,\"#bd3786\"],[0.5555555555555556,\"#d8576b\"],[0.6666666666666666,\"#ed7953\"],[0.7777777777777778,\"#fb9f3a\"],[0.8888888888888888,\"#fdca26\"],[1.0,\"#f0f921\"]],\"sequentialminus\":[[0.0,\"#0d0887\"],[0.1111111111111111,\"#46039f\"],[0.2222222222222222,\"#7201a8\"],[0.3333333333333333,\"#9c179e\"],[0.4444444444444444,\"#bd3786\"],[0.5555555555555556,\"#d8576b\"],[0.6666666666666666,\"#ed7953\"],[0.7777777777777778,\"#fb9f3a\"],[0.8888888888888888,\"#fdca26\"],[1.0,\"#f0f921\"]],\"diverging\":[[0,\"#8e0152\"],[0.1,\"#c51b7d\"],[0.2,\"#de77ae\"],[0.3,\"#f1b6da\"],[0.4,\"#fde0ef\"],[0.5,\"#f7f7f7\"],[0.6,\"#e6f5d0\"],[0.7,\"#b8e186\"],[0.8,\"#7fbc41\"],[0.9,\"#4d9221\"],[1,\"#276419\"]]},\"xaxis\":{\"gridcolor\":\"white\",\"linecolor\":\"white\",\"ticks\":\"\",\"title\":{\"standoff\":15},\"zerolinecolor\":\"white\",\"automargin\":true,\"zerolinewidth\":2},\"yaxis\":{\"gridcolor\":\"white\",\"linecolor\":\"white\",\"ticks\":\"\",\"title\":{\"standoff\":15},\"zerolinecolor\":\"white\",\"automargin\":true,\"zerolinewidth\":2},\"scene\":{\"xaxis\":{\"backgroundcolor\":\"#E5ECF6\",\"gridcolor\":\"white\",\"linecolor\":\"white\",\"showbackground\":true,\"ticks\":\"\",\"zerolinecolor\":\"white\",\"gridwidth\":2},\"yaxis\":{\"backgroundcolor\":\"#E5ECF6\",\"gridcolor\":\"white\",\"linecolor\":\"white\",\"showbackground\":true,\"ticks\":\"\",\"zerolinecolor\":\"white\",\"gridwidth\":2},\"zaxis\":{\"backgroundcolor\":\"#E5ECF6\",\"gridcolor\":\"white\",\"linecolor\":\"white\",\"showbackground\":true,\"ticks\":\"\",\"zerolinecolor\":\"white\",\"gridwidth\":2}},\"shapedefaults\":{\"line\":{\"color\":\"#2a3f5f\"}},\"annotationdefaults\":{\"arrowcolor\":\"#2a3f5f\",\"arrowhead\":0,\"arrowwidth\":1},\"geo\":{\"bgcolor\":\"white\",\"landcolor\":\"#E5ECF6\",\"subunitcolor\":\"white\",\"showland\":true,\"showlakes\":true,\"lakecolor\":\"white\"},\"title\":{\"x\":0.05},\"mapbox\":{\"style\":\"light\"}}},\"xaxis\":{\"anchor\":\"y\",\"domain\":[0.0,0.15],\"title\":{\"text\":\"Dia da Semana\"}},\"yaxis\":{\"anchor\":\"x\",\"domain\":[0.0,1.0],\"title\":{\"text\":\"Faturamento\"}},\"xaxis2\":{\"anchor\":\"y2\",\"domain\":[0.16999999999999998,0.31999999999999995],\"matches\":\"x\",\"title\":{\"text\":\"Dia da Semana\"}},\"yaxis2\":{\"anchor\":\"x2\",\"domain\":[0.0,1.0],\"matches\":\"y\",\"showticklabels\":false},\"xaxis3\":{\"anchor\":\"y3\",\"domain\":[0.33999999999999997,0.49],\"matches\":\"x\",\"title\":{\"text\":\"Dia da Semana\"}},\"yaxis3\":{\"anchor\":\"x3\",\"domain\":[0.0,1.0],\"matches\":\"y\",\"showticklabels\":false},\"xaxis4\":{\"anchor\":\"y4\",\"domain\":[0.51,0.66],\"matches\":\"x\",\"title\":{\"text\":\"Dia da Semana\"}},\"yaxis4\":{\"anchor\":\"x4\",\"domain\":[0.0,1.0],\"matches\":\"y\",\"showticklabels\":false},\"xaxis5\":{\"anchor\":\"y5\",\"domain\":[0.6799999999999999,0.83],\"matches\":\"x\",\"title\":{\"text\":\"Dia da Semana\"}},\"yaxis5\":{\"anchor\":\"x5\",\"domain\":[0.0,1.0],\"matches\":\"y\",\"showticklabels\":false},\"xaxis6\":{\"anchor\":\"y6\",\"domain\":[0.85,1.0],\"matches\":\"x\",\"title\":{\"text\":\"Dia da Semana\"}},\"yaxis6\":{\"anchor\":\"x6\",\"domain\":[0.0,1.0],\"matches\":\"y\",\"showticklabels\":false},\"annotations\":[{\"font\":{},\"showarrow\":false,\"text\":\"m\\u00eas=janeiro\",\"x\":0.075,\"xanchor\":\"center\",\"xref\":\"paper\",\"y\":1.0,\"yanchor\":\"bottom\",\"yref\":\"paper\"},{\"font\":{},\"showarrow\":false,\"text\":\"m\\u00eas=fevereiro\",\"x\":0.24499999999999997,\"xanchor\":\"center\",\"xref\":\"paper\",\"y\":1.0,\"yanchor\":\"bottom\",\"yref\":\"paper\"},{\"font\":{},\"showarrow\":false,\"text\":\"m\\u00eas=mar\\u00e7o\",\"x\":0.415,\"xanchor\":\"center\",\"xref\":\"paper\",\"y\":1.0,\"yanchor\":\"bottom\",\"yref\":\"paper\"},{\"font\":{},\"showarrow\":false,\"text\":\"m\\u00eas=abril\",\"x\":0.585,\"xanchor\":\"center\",\"xref\":\"paper\",\"y\":1.0,\"yanchor\":\"bottom\",\"yref\":\"paper\"},{\"font\":{},\"showarrow\":false,\"text\":\"m\\u00eas=maio\",\"x\":0.7549999999999999,\"xanchor\":\"center\",\"xref\":\"paper\",\"y\":1.0,\"yanchor\":\"bottom\",\"yref\":\"paper\"},{\"font\":{},\"showarrow\":false,\"text\":\"m\\u00eas=junho\",\"x\":0.925,\"xanchor\":\"center\",\"xref\":\"paper\",\"y\":1.0,\"yanchor\":\"bottom\",\"yref\":\"paper\"}],\"legend\":{\"title\":{\"text\":\"produto\"},\"tracegroupgap\":0},\"title\":{\"text\":\"Faturamento por Produto e Dia da Semana\"},\"barmode\":\"relative\"},                        {\"responsive\": true}                    ).then(function(){\n",
       "                            \n",
       "var gd = document.getElementById('553651c2-bce5-42da-b669-af71a27751bb');\n",
       "var x = new MutationObserver(function (mutations, observer) {{\n",
       "        var display = window.getComputedStyle(gd).display;\n",
       "        if (!display || display === 'none') {{\n",
       "            console.log([gd, 'removed!']);\n",
       "            Plotly.purge(gd);\n",
       "            observer.disconnect();\n",
       "        }}\n",
       "}});\n",
       "\n",
       "// Listen for the removal of the full notebook cells\n",
       "var notebookContainer = gd.closest('#notebook-container');\n",
       "if (notebookContainer) {{\n",
       "    x.observe(notebookContainer, {childList: true});\n",
       "}}\n",
       "\n",
       "// Listen for the clearing of the current output cell\n",
       "var outputEl = gd.closest('.output');\n",
       "if (outputEl) {{\n",
       "    x.observe(outputEl, {childList: true});\n",
       "}}\n",
       "\n",
       "                        })                };                });            </script>        </div>"
      ]
     },
     "metadata": {},
     "output_type": "display_data"
    }
   ],
   "source": [
    "#criando grafico para a quantidade de venda dos produtos em cada dia da semana.\n",
    "\n",
    "# Criando a lista de meses de interesse\n",
    "meses = [\"janeiro\", \"fevereiro\", \"março\", \"abril\", \"maio\", \"junho\"]\n",
    "\n",
    "# Criando um DataFrame para armazenar todos os resultados\n",
    "df_resultado = pd.DataFrame()\n",
    "\n",
    "# Iterar sobre cada mês e calcular o faturamento por produto e dia da semana\n",
    "for mes in meses:\n",
    "    df_mes = tabela[tabela[\"mês\"] == mes].groupby([\"produto\", \"dia da semana\"])[\"total vendido\"].sum().reset_index()\n",
    "    df_mes[\"mês\"] = mes\n",
    "    df_resultado = pd.concat([df_resultado, df_mes])\n",
    "\n",
    "# Agora que os dados estão preparados, podemos criar um gráfico de barras\n",
    "fig = px.bar(\n",
    "    df_resultado,\n",
    "    x=\"dia da semana\",\n",
    "    y=\"total vendido\",\n",
    "    color=\"produto\",\n",
    "    facet_col=\"mês\",  # Criar gráficos separados por mês\n",
    "    title=\"Faturamento por Produto e Dia da Semana\",\n",
    "    labels={\"total vendido\": \"Faturamento\", \"dia da semana\": \"Dia da Semana\"},\n",
    ")\n",
    "\n",
    "# Exibir o gráfico\n",
    "fig.show()\n"
   ]
  },
  {
   "cell_type": "code",
   "execution_count": 88,
   "id": "64a0c065",
   "metadata": {},
   "outputs": [
    {
     "data": {
      "application/vnd.plotly.v1+json": {
       "config": {
        "plotlyServerURL": "https://plot.ly"
       },
       "data": [
        {
         "hovertemplate": "produto=tortas<br>Mês=%{x}<br>Faturamento=%{y}<extra></extra>",
         "legendgroup": "tortas",
         "line": {
          "color": "#636efa",
          "dash": "solid"
         },
         "marker": {
          "symbol": "circle"
         },
         "mode": "markers+lines",
         "name": "tortas",
         "orientation": "v",
         "showlegend": true,
         "type": "scatter",
         "x": [
          "janeiro",
          "fevereiro",
          "março",
          "abril",
          "maio",
          "junho"
         ],
         "xaxis": "x",
         "y": [
          984.5,
          1474,
          1639,
          1661,
          1985.5,
          1743.5
         ],
         "yaxis": "y"
        },
        {
         "hovertemplate": "produto=salada<br>Mês=%{x}<br>Faturamento=%{y}<extra></extra>",
         "legendgroup": "salada",
         "line": {
          "color": "#EF553B",
          "dash": "solid"
         },
         "marker": {
          "symbol": "circle"
         },
         "mode": "markers+lines",
         "name": "salada",
         "orientation": "v",
         "showlegend": true,
         "type": "scatter",
         "x": [
          "janeiro",
          "fevereiro",
          "março",
          "abril",
          "maio",
          "junho"
         ],
         "xaxis": "x",
         "y": [
          1810,
          2790,
          2930,
          3230,
          3410,
          2910
         ],
         "yaxis": "y"
        },
        {
         "hovertemplate": "produto=refrigerante<br>Mês=%{x}<br>Faturamento=%{y}<extra></extra>",
         "legendgroup": "refrigerante",
         "line": {
          "color": "#00cc96",
          "dash": "solid"
         },
         "marker": {
          "symbol": "circle"
         },
         "mode": "markers+lines",
         "name": "refrigerante",
         "orientation": "v",
         "showlegend": true,
         "type": "scatter",
         "x": [
          "janeiro",
          "fevereiro",
          "março",
          "abril",
          "maio",
          "junho"
         ],
         "xaxis": "x",
         "y": [
          3300,
          4530,
          4680,
          5586,
          5760,
          5658
         ],
         "yaxis": "y"
        },
        {
         "hovertemplate": "produto=pastel<br>Mês=%{x}<br>Faturamento=%{y}<extra></extra>",
         "legendgroup": "pastel",
         "line": {
          "color": "#ab63fa",
          "dash": "solid"
         },
         "marker": {
          "symbol": "circle"
         },
         "mode": "markers+lines",
         "name": "pastel",
         "orientation": "v",
         "showlegend": true,
         "type": "scatter",
         "x": [
          "janeiro",
          "fevereiro",
          "março",
          "abril",
          "maio",
          "junho"
         ],
         "xaxis": "x",
         "y": [
          1722,
          2892,
          3096,
          3366,
          2850,
          2502
         ],
         "yaxis": "y"
        },
        {
         "hovertemplate": "produto=empada<br>Mês=%{x}<br>Faturamento=%{y}<extra></extra>",
         "legendgroup": "empada",
         "line": {
          "color": "#FFA15A",
          "dash": "solid"
         },
         "marker": {
          "symbol": "circle"
         },
         "mode": "markers+lines",
         "name": "empada",
         "orientation": "v",
         "showlegend": true,
         "type": "scatter",
         "x": [
          "janeiro",
          "fevereiro",
          "março",
          "abril",
          "maio",
          "junho"
         ],
         "xaxis": "x",
         "y": [
          1372.5,
          2097,
          2416.5,
          2452.5,
          2547,
          2358
         ],
         "yaxis": "y"
        },
        {
         "hovertemplate": "produto=coxinha<br>Mês=%{x}<br>Faturamento=%{y}<extra></extra>",
         "legendgroup": "coxinha",
         "line": {
          "color": "#19d3f3",
          "dash": "solid"
         },
         "marker": {
          "symbol": "circle"
         },
         "mode": "markers+lines",
         "name": "coxinha",
         "orientation": "v",
         "showlegend": true,
         "type": "scatter",
         "x": [
          "janeiro",
          "fevereiro",
          "março",
          "abril",
          "maio",
          "junho"
         ],
         "xaxis": "x",
         "y": [
          620,
          755,
          880,
          1005,
          995,
          1005
         ],
         "yaxis": "y"
        },
        {
         "hovertemplate": "produto=cachorro-quente<br>Mês=%{x}<br>Faturamento=%{y}<extra></extra>",
         "legendgroup": "cachorro-quente",
         "line": {
          "color": "#FF6692",
          "dash": "solid"
         },
         "marker": {
          "symbol": "circle"
         },
         "mode": "markers+lines",
         "name": "cachorro-quente",
         "orientation": "v",
         "showlegend": true,
         "type": "scatter",
         "x": [
          "janeiro",
          "fevereiro",
          "março",
          "abril",
          "maio",
          "junho"
         ],
         "xaxis": "x",
         "y": [
          3000,
          5160,
          5808,
          5744,
          5944,
          5960
         ],
         "yaxis": "y"
        },
        {
         "hovertemplate": "produto=bolo<br>Mês=%{x}<br>Faturamento=%{y}<extra></extra>",
         "legendgroup": "bolo",
         "line": {
          "color": "#B6E880",
          "dash": "solid"
         },
         "marker": {
          "symbol": "circle"
         },
         "mode": "markers+lines",
         "name": "bolo",
         "orientation": "v",
         "showlegend": true,
         "type": "scatter",
         "x": [
          "janeiro",
          "fevereiro",
          "março",
          "abril",
          "maio",
          "junho"
         ],
         "xaxis": "x",
         "y": [
          675,
          1060,
          1310,
          1335,
          1585,
          1425
         ],
         "yaxis": "y"
        },
        {
         "hovertemplate": "produto=americano<br>Mês=%{x}<br>Faturamento=%{y}<extra></extra>",
         "legendgroup": "americano",
         "line": {
          "color": "#FF97FF",
          "dash": "solid"
         },
         "marker": {
          "symbol": "circle"
         },
         "mode": "markers+lines",
         "name": "americano",
         "orientation": "v",
         "showlegend": true,
         "type": "scatter",
         "x": [
          "janeiro",
          "fevereiro",
          "março",
          "abril",
          "maio",
          "junho"
         ],
         "xaxis": "x",
         "y": [
          2751,
          4256,
          4655,
          4900,
          4942,
          4844
         ],
         "yaxis": "y"
        },
        {
         "hovertemplate": "produto=sanduiche natural<br>Mês=%{x}<br>Faturamento=%{y}<extra></extra>",
         "legendgroup": "sanduiche natural",
         "line": {
          "color": "#FECB52",
          "dash": "solid"
         },
         "marker": {
          "symbol": "circle"
         },
         "mode": "markers+lines",
         "name": "sanduiche natural",
         "orientation": "v",
         "showlegend": true,
         "type": "scatter",
         "x": [
          "janeiro",
          "fevereiro",
          "março",
          "abril",
          "maio",
          "junho"
         ],
         "xaxis": "x",
         "y": [
          1624,
          2080,
          2760,
          2664,
          2672,
          2568
         ],
         "yaxis": "y"
        },
        {
         "hovertemplate": "produto=sucos<br>Mês=%{x}<br>Faturamento=%{y}<extra></extra>",
         "legendgroup": "sucos",
         "line": {
          "color": "#636efa",
          "dash": "solid"
         },
         "marker": {
          "symbol": "circle"
         },
         "mode": "markers+lines",
         "name": "sucos",
         "orientation": "v",
         "showlegend": true,
         "type": "scatter",
         "x": [
          "janeiro",
          "fevereiro",
          "março",
          "abril",
          "maio",
          "junho"
         ],
         "xaxis": "x",
         "y": [
          1840,
          2684,
          2976,
          3112,
          3144,
          3232
         ],
         "yaxis": "y"
        }
       ],
       "layout": {
        "legend": {
         "title": {
          "text": "produto"
         },
         "tracegroupgap": 0
        },
        "template": {
         "data": {
          "bar": [
           {
            "error_x": {
             "color": "#2a3f5f"
            },
            "error_y": {
             "color": "#2a3f5f"
            },
            "marker": {
             "line": {
              "color": "#E5ECF6",
              "width": 0.5
             },
             "pattern": {
              "fillmode": "overlay",
              "size": 10,
              "solidity": 0.2
             }
            },
            "type": "bar"
           }
          ],
          "barpolar": [
           {
            "marker": {
             "line": {
              "color": "#E5ECF6",
              "width": 0.5
             },
             "pattern": {
              "fillmode": "overlay",
              "size": 10,
              "solidity": 0.2
             }
            },
            "type": "barpolar"
           }
          ],
          "carpet": [
           {
            "aaxis": {
             "endlinecolor": "#2a3f5f",
             "gridcolor": "white",
             "linecolor": "white",
             "minorgridcolor": "white",
             "startlinecolor": "#2a3f5f"
            },
            "baxis": {
             "endlinecolor": "#2a3f5f",
             "gridcolor": "white",
             "linecolor": "white",
             "minorgridcolor": "white",
             "startlinecolor": "#2a3f5f"
            },
            "type": "carpet"
           }
          ],
          "choropleth": [
           {
            "colorbar": {
             "outlinewidth": 0,
             "ticks": ""
            },
            "type": "choropleth"
           }
          ],
          "contour": [
           {
            "colorbar": {
             "outlinewidth": 0,
             "ticks": ""
            },
            "colorscale": [
             [
              0,
              "#0d0887"
             ],
             [
              0.1111111111111111,
              "#46039f"
             ],
             [
              0.2222222222222222,
              "#7201a8"
             ],
             [
              0.3333333333333333,
              "#9c179e"
             ],
             [
              0.4444444444444444,
              "#bd3786"
             ],
             [
              0.5555555555555556,
              "#d8576b"
             ],
             [
              0.6666666666666666,
              "#ed7953"
             ],
             [
              0.7777777777777778,
              "#fb9f3a"
             ],
             [
              0.8888888888888888,
              "#fdca26"
             ],
             [
              1,
              "#f0f921"
             ]
            ],
            "type": "contour"
           }
          ],
          "contourcarpet": [
           {
            "colorbar": {
             "outlinewidth": 0,
             "ticks": ""
            },
            "type": "contourcarpet"
           }
          ],
          "heatmap": [
           {
            "colorbar": {
             "outlinewidth": 0,
             "ticks": ""
            },
            "colorscale": [
             [
              0,
              "#0d0887"
             ],
             [
              0.1111111111111111,
              "#46039f"
             ],
             [
              0.2222222222222222,
              "#7201a8"
             ],
             [
              0.3333333333333333,
              "#9c179e"
             ],
             [
              0.4444444444444444,
              "#bd3786"
             ],
             [
              0.5555555555555556,
              "#d8576b"
             ],
             [
              0.6666666666666666,
              "#ed7953"
             ],
             [
              0.7777777777777778,
              "#fb9f3a"
             ],
             [
              0.8888888888888888,
              "#fdca26"
             ],
             [
              1,
              "#f0f921"
             ]
            ],
            "type": "heatmap"
           }
          ],
          "heatmapgl": [
           {
            "colorbar": {
             "outlinewidth": 0,
             "ticks": ""
            },
            "colorscale": [
             [
              0,
              "#0d0887"
             ],
             [
              0.1111111111111111,
              "#46039f"
             ],
             [
              0.2222222222222222,
              "#7201a8"
             ],
             [
              0.3333333333333333,
              "#9c179e"
             ],
             [
              0.4444444444444444,
              "#bd3786"
             ],
             [
              0.5555555555555556,
              "#d8576b"
             ],
             [
              0.6666666666666666,
              "#ed7953"
             ],
             [
              0.7777777777777778,
              "#fb9f3a"
             ],
             [
              0.8888888888888888,
              "#fdca26"
             ],
             [
              1,
              "#f0f921"
             ]
            ],
            "type": "heatmapgl"
           }
          ],
          "histogram": [
           {
            "marker": {
             "pattern": {
              "fillmode": "overlay",
              "size": 10,
              "solidity": 0.2
             }
            },
            "type": "histogram"
           }
          ],
          "histogram2d": [
           {
            "colorbar": {
             "outlinewidth": 0,
             "ticks": ""
            },
            "colorscale": [
             [
              0,
              "#0d0887"
             ],
             [
              0.1111111111111111,
              "#46039f"
             ],
             [
              0.2222222222222222,
              "#7201a8"
             ],
             [
              0.3333333333333333,
              "#9c179e"
             ],
             [
              0.4444444444444444,
              "#bd3786"
             ],
             [
              0.5555555555555556,
              "#d8576b"
             ],
             [
              0.6666666666666666,
              "#ed7953"
             ],
             [
              0.7777777777777778,
              "#fb9f3a"
             ],
             [
              0.8888888888888888,
              "#fdca26"
             ],
             [
              1,
              "#f0f921"
             ]
            ],
            "type": "histogram2d"
           }
          ],
          "histogram2dcontour": [
           {
            "colorbar": {
             "outlinewidth": 0,
             "ticks": ""
            },
            "colorscale": [
             [
              0,
              "#0d0887"
             ],
             [
              0.1111111111111111,
              "#46039f"
             ],
             [
              0.2222222222222222,
              "#7201a8"
             ],
             [
              0.3333333333333333,
              "#9c179e"
             ],
             [
              0.4444444444444444,
              "#bd3786"
             ],
             [
              0.5555555555555556,
              "#d8576b"
             ],
             [
              0.6666666666666666,
              "#ed7953"
             ],
             [
              0.7777777777777778,
              "#fb9f3a"
             ],
             [
              0.8888888888888888,
              "#fdca26"
             ],
             [
              1,
              "#f0f921"
             ]
            ],
            "type": "histogram2dcontour"
           }
          ],
          "mesh3d": [
           {
            "colorbar": {
             "outlinewidth": 0,
             "ticks": ""
            },
            "type": "mesh3d"
           }
          ],
          "parcoords": [
           {
            "line": {
             "colorbar": {
              "outlinewidth": 0,
              "ticks": ""
             }
            },
            "type": "parcoords"
           }
          ],
          "pie": [
           {
            "automargin": true,
            "type": "pie"
           }
          ],
          "scatter": [
           {
            "fillpattern": {
             "fillmode": "overlay",
             "size": 10,
             "solidity": 0.2
            },
            "type": "scatter"
           }
          ],
          "scatter3d": [
           {
            "line": {
             "colorbar": {
              "outlinewidth": 0,
              "ticks": ""
             }
            },
            "marker": {
             "colorbar": {
              "outlinewidth": 0,
              "ticks": ""
             }
            },
            "type": "scatter3d"
           }
          ],
          "scattercarpet": [
           {
            "marker": {
             "colorbar": {
              "outlinewidth": 0,
              "ticks": ""
             }
            },
            "type": "scattercarpet"
           }
          ],
          "scattergeo": [
           {
            "marker": {
             "colorbar": {
              "outlinewidth": 0,
              "ticks": ""
             }
            },
            "type": "scattergeo"
           }
          ],
          "scattergl": [
           {
            "marker": {
             "colorbar": {
              "outlinewidth": 0,
              "ticks": ""
             }
            },
            "type": "scattergl"
           }
          ],
          "scattermapbox": [
           {
            "marker": {
             "colorbar": {
              "outlinewidth": 0,
              "ticks": ""
             }
            },
            "type": "scattermapbox"
           }
          ],
          "scatterpolar": [
           {
            "marker": {
             "colorbar": {
              "outlinewidth": 0,
              "ticks": ""
             }
            },
            "type": "scatterpolar"
           }
          ],
          "scatterpolargl": [
           {
            "marker": {
             "colorbar": {
              "outlinewidth": 0,
              "ticks": ""
             }
            },
            "type": "scatterpolargl"
           }
          ],
          "scatterternary": [
           {
            "marker": {
             "colorbar": {
              "outlinewidth": 0,
              "ticks": ""
             }
            },
            "type": "scatterternary"
           }
          ],
          "surface": [
           {
            "colorbar": {
             "outlinewidth": 0,
             "ticks": ""
            },
            "colorscale": [
             [
              0,
              "#0d0887"
             ],
             [
              0.1111111111111111,
              "#46039f"
             ],
             [
              0.2222222222222222,
              "#7201a8"
             ],
             [
              0.3333333333333333,
              "#9c179e"
             ],
             [
              0.4444444444444444,
              "#bd3786"
             ],
             [
              0.5555555555555556,
              "#d8576b"
             ],
             [
              0.6666666666666666,
              "#ed7953"
             ],
             [
              0.7777777777777778,
              "#fb9f3a"
             ],
             [
              0.8888888888888888,
              "#fdca26"
             ],
             [
              1,
              "#f0f921"
             ]
            ],
            "type": "surface"
           }
          ],
          "table": [
           {
            "cells": {
             "fill": {
              "color": "#EBF0F8"
             },
             "line": {
              "color": "white"
             }
            },
            "header": {
             "fill": {
              "color": "#C8D4E3"
             },
             "line": {
              "color": "white"
             }
            },
            "type": "table"
           }
          ]
         },
         "layout": {
          "annotationdefaults": {
           "arrowcolor": "#2a3f5f",
           "arrowhead": 0,
           "arrowwidth": 1
          },
          "autotypenumbers": "strict",
          "coloraxis": {
           "colorbar": {
            "outlinewidth": 0,
            "ticks": ""
           }
          },
          "colorscale": {
           "diverging": [
            [
             0,
             "#8e0152"
            ],
            [
             0.1,
             "#c51b7d"
            ],
            [
             0.2,
             "#de77ae"
            ],
            [
             0.3,
             "#f1b6da"
            ],
            [
             0.4,
             "#fde0ef"
            ],
            [
             0.5,
             "#f7f7f7"
            ],
            [
             0.6,
             "#e6f5d0"
            ],
            [
             0.7,
             "#b8e186"
            ],
            [
             0.8,
             "#7fbc41"
            ],
            [
             0.9,
             "#4d9221"
            ],
            [
             1,
             "#276419"
            ]
           ],
           "sequential": [
            [
             0,
             "#0d0887"
            ],
            [
             0.1111111111111111,
             "#46039f"
            ],
            [
             0.2222222222222222,
             "#7201a8"
            ],
            [
             0.3333333333333333,
             "#9c179e"
            ],
            [
             0.4444444444444444,
             "#bd3786"
            ],
            [
             0.5555555555555556,
             "#d8576b"
            ],
            [
             0.6666666666666666,
             "#ed7953"
            ],
            [
             0.7777777777777778,
             "#fb9f3a"
            ],
            [
             0.8888888888888888,
             "#fdca26"
            ],
            [
             1,
             "#f0f921"
            ]
           ],
           "sequentialminus": [
            [
             0,
             "#0d0887"
            ],
            [
             0.1111111111111111,
             "#46039f"
            ],
            [
             0.2222222222222222,
             "#7201a8"
            ],
            [
             0.3333333333333333,
             "#9c179e"
            ],
            [
             0.4444444444444444,
             "#bd3786"
            ],
            [
             0.5555555555555556,
             "#d8576b"
            ],
            [
             0.6666666666666666,
             "#ed7953"
            ],
            [
             0.7777777777777778,
             "#fb9f3a"
            ],
            [
             0.8888888888888888,
             "#fdca26"
            ],
            [
             1,
             "#f0f921"
            ]
           ]
          },
          "colorway": [
           "#636efa",
           "#EF553B",
           "#00cc96",
           "#ab63fa",
           "#FFA15A",
           "#19d3f3",
           "#FF6692",
           "#B6E880",
           "#FF97FF",
           "#FECB52"
          ],
          "font": {
           "color": "#2a3f5f"
          },
          "geo": {
           "bgcolor": "white",
           "lakecolor": "white",
           "landcolor": "#E5ECF6",
           "showlakes": true,
           "showland": true,
           "subunitcolor": "white"
          },
          "hoverlabel": {
           "align": "left"
          },
          "hovermode": "closest",
          "mapbox": {
           "style": "light"
          },
          "paper_bgcolor": "white",
          "plot_bgcolor": "#E5ECF6",
          "polar": {
           "angularaxis": {
            "gridcolor": "white",
            "linecolor": "white",
            "ticks": ""
           },
           "bgcolor": "#E5ECF6",
           "radialaxis": {
            "gridcolor": "white",
            "linecolor": "white",
            "ticks": ""
           }
          },
          "scene": {
           "xaxis": {
            "backgroundcolor": "#E5ECF6",
            "gridcolor": "white",
            "gridwidth": 2,
            "linecolor": "white",
            "showbackground": true,
            "ticks": "",
            "zerolinecolor": "white"
           },
           "yaxis": {
            "backgroundcolor": "#E5ECF6",
            "gridcolor": "white",
            "gridwidth": 2,
            "linecolor": "white",
            "showbackground": true,
            "ticks": "",
            "zerolinecolor": "white"
           },
           "zaxis": {
            "backgroundcolor": "#E5ECF6",
            "gridcolor": "white",
            "gridwidth": 2,
            "linecolor": "white",
            "showbackground": true,
            "ticks": "",
            "zerolinecolor": "white"
           }
          },
          "shapedefaults": {
           "line": {
            "color": "#2a3f5f"
           }
          },
          "ternary": {
           "aaxis": {
            "gridcolor": "white",
            "linecolor": "white",
            "ticks": ""
           },
           "baxis": {
            "gridcolor": "white",
            "linecolor": "white",
            "ticks": ""
           },
           "bgcolor": "#E5ECF6",
           "caxis": {
            "gridcolor": "white",
            "linecolor": "white",
            "ticks": ""
           }
          },
          "title": {
           "x": 0.05
          },
          "xaxis": {
           "automargin": true,
           "gridcolor": "white",
           "linecolor": "white",
           "ticks": "",
           "title": {
            "standoff": 15
           },
           "zerolinecolor": "white",
           "zerolinewidth": 2
          },
          "yaxis": {
           "automargin": true,
           "gridcolor": "white",
           "linecolor": "white",
           "ticks": "",
           "title": {
            "standoff": 15
           },
           "zerolinecolor": "white",
           "zerolinewidth": 2
          }
         }
        },
        "title": {
         "text": "Tendência de Faturamento por Produto ao Longo do Tempo"
        },
        "xaxis": {
         "anchor": "y",
         "domain": [
          0,
          1
         ],
         "title": {
          "text": "Mês"
         }
        },
        "yaxis": {
         "anchor": "x",
         "domain": [
          0,
          1
         ],
         "title": {
          "text": "Faturamento"
         }
        }
       }
      },
      "text/html": [
       "<div>                            <div id=\"1a38ab50-7f54-465f-b8ef-b643c37aaeda\" class=\"plotly-graph-div\" style=\"height:525px; width:100%;\"></div>            <script type=\"text/javascript\">                require([\"plotly\"], function(Plotly) {                    window.PLOTLYENV=window.PLOTLYENV || {};                                    if (document.getElementById(\"1a38ab50-7f54-465f-b8ef-b643c37aaeda\")) {                    Plotly.newPlot(                        \"1a38ab50-7f54-465f-b8ef-b643c37aaeda\",                        [{\"hovertemplate\":\"produto=tortas<br>M\\u00eas=%{x}<br>Faturamento=%{y}<extra></extra>\",\"legendgroup\":\"tortas\",\"line\":{\"color\":\"#636efa\",\"dash\":\"solid\"},\"marker\":{\"symbol\":\"circle\"},\"mode\":\"markers+lines\",\"name\":\"tortas\",\"orientation\":\"v\",\"showlegend\":true,\"x\":[\"janeiro\",\"fevereiro\",\"mar\\u00e7o\",\"abril\",\"maio\",\"junho\"],\"xaxis\":\"x\",\"y\":[984.5,1474.0,1639.0,1661.0,1985.5,1743.5],\"yaxis\":\"y\",\"type\":\"scatter\"},{\"hovertemplate\":\"produto=salada<br>M\\u00eas=%{x}<br>Faturamento=%{y}<extra></extra>\",\"legendgroup\":\"salada\",\"line\":{\"color\":\"#EF553B\",\"dash\":\"solid\"},\"marker\":{\"symbol\":\"circle\"},\"mode\":\"markers+lines\",\"name\":\"salada\",\"orientation\":\"v\",\"showlegend\":true,\"x\":[\"janeiro\",\"fevereiro\",\"mar\\u00e7o\",\"abril\",\"maio\",\"junho\"],\"xaxis\":\"x\",\"y\":[1810.0,2790.0,2930.0,3230.0,3410.0,2910.0],\"yaxis\":\"y\",\"type\":\"scatter\"},{\"hovertemplate\":\"produto=refrigerante<br>M\\u00eas=%{x}<br>Faturamento=%{y}<extra></extra>\",\"legendgroup\":\"refrigerante\",\"line\":{\"color\":\"#00cc96\",\"dash\":\"solid\"},\"marker\":{\"symbol\":\"circle\"},\"mode\":\"markers+lines\",\"name\":\"refrigerante\",\"orientation\":\"v\",\"showlegend\":true,\"x\":[\"janeiro\",\"fevereiro\",\"mar\\u00e7o\",\"abril\",\"maio\",\"junho\"],\"xaxis\":\"x\",\"y\":[3300.0,4530.0,4680.0,5586.0,5760.0,5658.0],\"yaxis\":\"y\",\"type\":\"scatter\"},{\"hovertemplate\":\"produto=pastel<br>M\\u00eas=%{x}<br>Faturamento=%{y}<extra></extra>\",\"legendgroup\":\"pastel\",\"line\":{\"color\":\"#ab63fa\",\"dash\":\"solid\"},\"marker\":{\"symbol\":\"circle\"},\"mode\":\"markers+lines\",\"name\":\"pastel\",\"orientation\":\"v\",\"showlegend\":true,\"x\":[\"janeiro\",\"fevereiro\",\"mar\\u00e7o\",\"abril\",\"maio\",\"junho\"],\"xaxis\":\"x\",\"y\":[1722.0,2892.0,3096.0,3366.0,2850.0,2502.0],\"yaxis\":\"y\",\"type\":\"scatter\"},{\"hovertemplate\":\"produto=empada<br>M\\u00eas=%{x}<br>Faturamento=%{y}<extra></extra>\",\"legendgroup\":\"empada\",\"line\":{\"color\":\"#FFA15A\",\"dash\":\"solid\"},\"marker\":{\"symbol\":\"circle\"},\"mode\":\"markers+lines\",\"name\":\"empada\",\"orientation\":\"v\",\"showlegend\":true,\"x\":[\"janeiro\",\"fevereiro\",\"mar\\u00e7o\",\"abril\",\"maio\",\"junho\"],\"xaxis\":\"x\",\"y\":[1372.5,2097.0,2416.5,2452.5,2547.0,2358.0],\"yaxis\":\"y\",\"type\":\"scatter\"},{\"hovertemplate\":\"produto=coxinha<br>M\\u00eas=%{x}<br>Faturamento=%{y}<extra></extra>\",\"legendgroup\":\"coxinha\",\"line\":{\"color\":\"#19d3f3\",\"dash\":\"solid\"},\"marker\":{\"symbol\":\"circle\"},\"mode\":\"markers+lines\",\"name\":\"coxinha\",\"orientation\":\"v\",\"showlegend\":true,\"x\":[\"janeiro\",\"fevereiro\",\"mar\\u00e7o\",\"abril\",\"maio\",\"junho\"],\"xaxis\":\"x\",\"y\":[620.0,755.0,880.0,1005.0,995.0,1005.0],\"yaxis\":\"y\",\"type\":\"scatter\"},{\"hovertemplate\":\"produto=cachorro-quente<br>M\\u00eas=%{x}<br>Faturamento=%{y}<extra></extra>\",\"legendgroup\":\"cachorro-quente\",\"line\":{\"color\":\"#FF6692\",\"dash\":\"solid\"},\"marker\":{\"symbol\":\"circle\"},\"mode\":\"markers+lines\",\"name\":\"cachorro-quente\",\"orientation\":\"v\",\"showlegend\":true,\"x\":[\"janeiro\",\"fevereiro\",\"mar\\u00e7o\",\"abril\",\"maio\",\"junho\"],\"xaxis\":\"x\",\"y\":[3000.0,5160.0,5808.0,5744.0,5944.0,5960.0],\"yaxis\":\"y\",\"type\":\"scatter\"},{\"hovertemplate\":\"produto=bolo<br>M\\u00eas=%{x}<br>Faturamento=%{y}<extra></extra>\",\"legendgroup\":\"bolo\",\"line\":{\"color\":\"#B6E880\",\"dash\":\"solid\"},\"marker\":{\"symbol\":\"circle\"},\"mode\":\"markers+lines\",\"name\":\"bolo\",\"orientation\":\"v\",\"showlegend\":true,\"x\":[\"janeiro\",\"fevereiro\",\"mar\\u00e7o\",\"abril\",\"maio\",\"junho\"],\"xaxis\":\"x\",\"y\":[675.0,1060.0,1310.0,1335.0,1585.0,1425.0],\"yaxis\":\"y\",\"type\":\"scatter\"},{\"hovertemplate\":\"produto=americano<br>M\\u00eas=%{x}<br>Faturamento=%{y}<extra></extra>\",\"legendgroup\":\"americano\",\"line\":{\"color\":\"#FF97FF\",\"dash\":\"solid\"},\"marker\":{\"symbol\":\"circle\"},\"mode\":\"markers+lines\",\"name\":\"americano\",\"orientation\":\"v\",\"showlegend\":true,\"x\":[\"janeiro\",\"fevereiro\",\"mar\\u00e7o\",\"abril\",\"maio\",\"junho\"],\"xaxis\":\"x\",\"y\":[2751.0,4256.0,4655.0,4900.0,4942.0,4844.0],\"yaxis\":\"y\",\"type\":\"scatter\"},{\"hovertemplate\":\"produto=sanduiche natural<br>M\\u00eas=%{x}<br>Faturamento=%{y}<extra></extra>\",\"legendgroup\":\"sanduiche natural\",\"line\":{\"color\":\"#FECB52\",\"dash\":\"solid\"},\"marker\":{\"symbol\":\"circle\"},\"mode\":\"markers+lines\",\"name\":\"sanduiche natural\",\"orientation\":\"v\",\"showlegend\":true,\"x\":[\"janeiro\",\"fevereiro\",\"mar\\u00e7o\",\"abril\",\"maio\",\"junho\"],\"xaxis\":\"x\",\"y\":[1624.0,2080.0,2760.0,2664.0,2672.0,2568.0],\"yaxis\":\"y\",\"type\":\"scatter\"},{\"hovertemplate\":\"produto=sucos<br>M\\u00eas=%{x}<br>Faturamento=%{y}<extra></extra>\",\"legendgroup\":\"sucos\",\"line\":{\"color\":\"#636efa\",\"dash\":\"solid\"},\"marker\":{\"symbol\":\"circle\"},\"mode\":\"markers+lines\",\"name\":\"sucos\",\"orientation\":\"v\",\"showlegend\":true,\"x\":[\"janeiro\",\"fevereiro\",\"mar\\u00e7o\",\"abril\",\"maio\",\"junho\"],\"xaxis\":\"x\",\"y\":[1840.0,2684.0,2976.0,3112.0,3144.0,3232.0],\"yaxis\":\"y\",\"type\":\"scatter\"}],                        {\"template\":{\"data\":{\"histogram2dcontour\":[{\"type\":\"histogram2dcontour\",\"colorbar\":{\"outlinewidth\":0,\"ticks\":\"\"},\"colorscale\":[[0.0,\"#0d0887\"],[0.1111111111111111,\"#46039f\"],[0.2222222222222222,\"#7201a8\"],[0.3333333333333333,\"#9c179e\"],[0.4444444444444444,\"#bd3786\"],[0.5555555555555556,\"#d8576b\"],[0.6666666666666666,\"#ed7953\"],[0.7777777777777778,\"#fb9f3a\"],[0.8888888888888888,\"#fdca26\"],[1.0,\"#f0f921\"]]}],\"choropleth\":[{\"type\":\"choropleth\",\"colorbar\":{\"outlinewidth\":0,\"ticks\":\"\"}}],\"histogram2d\":[{\"type\":\"histogram2d\",\"colorbar\":{\"outlinewidth\":0,\"ticks\":\"\"},\"colorscale\":[[0.0,\"#0d0887\"],[0.1111111111111111,\"#46039f\"],[0.2222222222222222,\"#7201a8\"],[0.3333333333333333,\"#9c179e\"],[0.4444444444444444,\"#bd3786\"],[0.5555555555555556,\"#d8576b\"],[0.6666666666666666,\"#ed7953\"],[0.7777777777777778,\"#fb9f3a\"],[0.8888888888888888,\"#fdca26\"],[1.0,\"#f0f921\"]]}],\"heatmap\":[{\"type\":\"heatmap\",\"colorbar\":{\"outlinewidth\":0,\"ticks\":\"\"},\"colorscale\":[[0.0,\"#0d0887\"],[0.1111111111111111,\"#46039f\"],[0.2222222222222222,\"#7201a8\"],[0.3333333333333333,\"#9c179e\"],[0.4444444444444444,\"#bd3786\"],[0.5555555555555556,\"#d8576b\"],[0.6666666666666666,\"#ed7953\"],[0.7777777777777778,\"#fb9f3a\"],[0.8888888888888888,\"#fdca26\"],[1.0,\"#f0f921\"]]}],\"heatmapgl\":[{\"type\":\"heatmapgl\",\"colorbar\":{\"outlinewidth\":0,\"ticks\":\"\"},\"colorscale\":[[0.0,\"#0d0887\"],[0.1111111111111111,\"#46039f\"],[0.2222222222222222,\"#7201a8\"],[0.3333333333333333,\"#9c179e\"],[0.4444444444444444,\"#bd3786\"],[0.5555555555555556,\"#d8576b\"],[0.6666666666666666,\"#ed7953\"],[0.7777777777777778,\"#fb9f3a\"],[0.8888888888888888,\"#fdca26\"],[1.0,\"#f0f921\"]]}],\"contourcarpet\":[{\"type\":\"contourcarpet\",\"colorbar\":{\"outlinewidth\":0,\"ticks\":\"\"}}],\"contour\":[{\"type\":\"contour\",\"colorbar\":{\"outlinewidth\":0,\"ticks\":\"\"},\"colorscale\":[[0.0,\"#0d0887\"],[0.1111111111111111,\"#46039f\"],[0.2222222222222222,\"#7201a8\"],[0.3333333333333333,\"#9c179e\"],[0.4444444444444444,\"#bd3786\"],[0.5555555555555556,\"#d8576b\"],[0.6666666666666666,\"#ed7953\"],[0.7777777777777778,\"#fb9f3a\"],[0.8888888888888888,\"#fdca26\"],[1.0,\"#f0f921\"]]}],\"surface\":[{\"type\":\"surface\",\"colorbar\":{\"outlinewidth\":0,\"ticks\":\"\"},\"colorscale\":[[0.0,\"#0d0887\"],[0.1111111111111111,\"#46039f\"],[0.2222222222222222,\"#7201a8\"],[0.3333333333333333,\"#9c179e\"],[0.4444444444444444,\"#bd3786\"],[0.5555555555555556,\"#d8576b\"],[0.6666666666666666,\"#ed7953\"],[0.7777777777777778,\"#fb9f3a\"],[0.8888888888888888,\"#fdca26\"],[1.0,\"#f0f921\"]]}],\"mesh3d\":[{\"type\":\"mesh3d\",\"colorbar\":{\"outlinewidth\":0,\"ticks\":\"\"}}],\"scatter\":[{\"fillpattern\":{\"fillmode\":\"overlay\",\"size\":10,\"solidity\":0.2},\"type\":\"scatter\"}],\"parcoords\":[{\"type\":\"parcoords\",\"line\":{\"colorbar\":{\"outlinewidth\":0,\"ticks\":\"\"}}}],\"scatterpolargl\":[{\"type\":\"scatterpolargl\",\"marker\":{\"colorbar\":{\"outlinewidth\":0,\"ticks\":\"\"}}}],\"bar\":[{\"error_x\":{\"color\":\"#2a3f5f\"},\"error_y\":{\"color\":\"#2a3f5f\"},\"marker\":{\"line\":{\"color\":\"#E5ECF6\",\"width\":0.5},\"pattern\":{\"fillmode\":\"overlay\",\"size\":10,\"solidity\":0.2}},\"type\":\"bar\"}],\"scattergeo\":[{\"type\":\"scattergeo\",\"marker\":{\"colorbar\":{\"outlinewidth\":0,\"ticks\":\"\"}}}],\"scatterpolar\":[{\"type\":\"scatterpolar\",\"marker\":{\"colorbar\":{\"outlinewidth\":0,\"ticks\":\"\"}}}],\"histogram\":[{\"marker\":{\"pattern\":{\"fillmode\":\"overlay\",\"size\":10,\"solidity\":0.2}},\"type\":\"histogram\"}],\"scattergl\":[{\"type\":\"scattergl\",\"marker\":{\"colorbar\":{\"outlinewidth\":0,\"ticks\":\"\"}}}],\"scatter3d\":[{\"type\":\"scatter3d\",\"line\":{\"colorbar\":{\"outlinewidth\":0,\"ticks\":\"\"}},\"marker\":{\"colorbar\":{\"outlinewidth\":0,\"ticks\":\"\"}}}],\"scattermapbox\":[{\"type\":\"scattermapbox\",\"marker\":{\"colorbar\":{\"outlinewidth\":0,\"ticks\":\"\"}}}],\"scatterternary\":[{\"type\":\"scatterternary\",\"marker\":{\"colorbar\":{\"outlinewidth\":0,\"ticks\":\"\"}}}],\"scattercarpet\":[{\"type\":\"scattercarpet\",\"marker\":{\"colorbar\":{\"outlinewidth\":0,\"ticks\":\"\"}}}],\"carpet\":[{\"aaxis\":{\"endlinecolor\":\"#2a3f5f\",\"gridcolor\":\"white\",\"linecolor\":\"white\",\"minorgridcolor\":\"white\",\"startlinecolor\":\"#2a3f5f\"},\"baxis\":{\"endlinecolor\":\"#2a3f5f\",\"gridcolor\":\"white\",\"linecolor\":\"white\",\"minorgridcolor\":\"white\",\"startlinecolor\":\"#2a3f5f\"},\"type\":\"carpet\"}],\"table\":[{\"cells\":{\"fill\":{\"color\":\"#EBF0F8\"},\"line\":{\"color\":\"white\"}},\"header\":{\"fill\":{\"color\":\"#C8D4E3\"},\"line\":{\"color\":\"white\"}},\"type\":\"table\"}],\"barpolar\":[{\"marker\":{\"line\":{\"color\":\"#E5ECF6\",\"width\":0.5},\"pattern\":{\"fillmode\":\"overlay\",\"size\":10,\"solidity\":0.2}},\"type\":\"barpolar\"}],\"pie\":[{\"automargin\":true,\"type\":\"pie\"}]},\"layout\":{\"autotypenumbers\":\"strict\",\"colorway\":[\"#636efa\",\"#EF553B\",\"#00cc96\",\"#ab63fa\",\"#FFA15A\",\"#19d3f3\",\"#FF6692\",\"#B6E880\",\"#FF97FF\",\"#FECB52\"],\"font\":{\"color\":\"#2a3f5f\"},\"hovermode\":\"closest\",\"hoverlabel\":{\"align\":\"left\"},\"paper_bgcolor\":\"white\",\"plot_bgcolor\":\"#E5ECF6\",\"polar\":{\"bgcolor\":\"#E5ECF6\",\"angularaxis\":{\"gridcolor\":\"white\",\"linecolor\":\"white\",\"ticks\":\"\"},\"radialaxis\":{\"gridcolor\":\"white\",\"linecolor\":\"white\",\"ticks\":\"\"}},\"ternary\":{\"bgcolor\":\"#E5ECF6\",\"aaxis\":{\"gridcolor\":\"white\",\"linecolor\":\"white\",\"ticks\":\"\"},\"baxis\":{\"gridcolor\":\"white\",\"linecolor\":\"white\",\"ticks\":\"\"},\"caxis\":{\"gridcolor\":\"white\",\"linecolor\":\"white\",\"ticks\":\"\"}},\"coloraxis\":{\"colorbar\":{\"outlinewidth\":0,\"ticks\":\"\"}},\"colorscale\":{\"sequential\":[[0.0,\"#0d0887\"],[0.1111111111111111,\"#46039f\"],[0.2222222222222222,\"#7201a8\"],[0.3333333333333333,\"#9c179e\"],[0.4444444444444444,\"#bd3786\"],[0.5555555555555556,\"#d8576b\"],[0.6666666666666666,\"#ed7953\"],[0.7777777777777778,\"#fb9f3a\"],[0.8888888888888888,\"#fdca26\"],[1.0,\"#f0f921\"]],\"sequentialminus\":[[0.0,\"#0d0887\"],[0.1111111111111111,\"#46039f\"],[0.2222222222222222,\"#7201a8\"],[0.3333333333333333,\"#9c179e\"],[0.4444444444444444,\"#bd3786\"],[0.5555555555555556,\"#d8576b\"],[0.6666666666666666,\"#ed7953\"],[0.7777777777777778,\"#fb9f3a\"],[0.8888888888888888,\"#fdca26\"],[1.0,\"#f0f921\"]],\"diverging\":[[0,\"#8e0152\"],[0.1,\"#c51b7d\"],[0.2,\"#de77ae\"],[0.3,\"#f1b6da\"],[0.4,\"#fde0ef\"],[0.5,\"#f7f7f7\"],[0.6,\"#e6f5d0\"],[0.7,\"#b8e186\"],[0.8,\"#7fbc41\"],[0.9,\"#4d9221\"],[1,\"#276419\"]]},\"xaxis\":{\"gridcolor\":\"white\",\"linecolor\":\"white\",\"ticks\":\"\",\"title\":{\"standoff\":15},\"zerolinecolor\":\"white\",\"automargin\":true,\"zerolinewidth\":2},\"yaxis\":{\"gridcolor\":\"white\",\"linecolor\":\"white\",\"ticks\":\"\",\"title\":{\"standoff\":15},\"zerolinecolor\":\"white\",\"automargin\":true,\"zerolinewidth\":2},\"scene\":{\"xaxis\":{\"backgroundcolor\":\"#E5ECF6\",\"gridcolor\":\"white\",\"linecolor\":\"white\",\"showbackground\":true,\"ticks\":\"\",\"zerolinecolor\":\"white\",\"gridwidth\":2},\"yaxis\":{\"backgroundcolor\":\"#E5ECF6\",\"gridcolor\":\"white\",\"linecolor\":\"white\",\"showbackground\":true,\"ticks\":\"\",\"zerolinecolor\":\"white\",\"gridwidth\":2},\"zaxis\":{\"backgroundcolor\":\"#E5ECF6\",\"gridcolor\":\"white\",\"linecolor\":\"white\",\"showbackground\":true,\"ticks\":\"\",\"zerolinecolor\":\"white\",\"gridwidth\":2}},\"shapedefaults\":{\"line\":{\"color\":\"#2a3f5f\"}},\"annotationdefaults\":{\"arrowcolor\":\"#2a3f5f\",\"arrowhead\":0,\"arrowwidth\":1},\"geo\":{\"bgcolor\":\"white\",\"landcolor\":\"#E5ECF6\",\"subunitcolor\":\"white\",\"showland\":true,\"showlakes\":true,\"lakecolor\":\"white\"},\"title\":{\"x\":0.05},\"mapbox\":{\"style\":\"light\"}}},\"xaxis\":{\"anchor\":\"y\",\"domain\":[0.0,1.0],\"title\":{\"text\":\"M\\u00eas\"}},\"yaxis\":{\"anchor\":\"x\",\"domain\":[0.0,1.0],\"title\":{\"text\":\"Faturamento\"}},\"legend\":{\"title\":{\"text\":\"produto\"},\"tracegroupgap\":0},\"title\":{\"text\":\"Tend\\u00eancia de Faturamento por Produto ao Longo do Tempo\"}},                        {\"responsive\": true}                    ).then(function(){\n",
       "                            \n",
       "var gd = document.getElementById('1a38ab50-7f54-465f-b8ef-b643c37aaeda');\n",
       "var x = new MutationObserver(function (mutations, observer) {{\n",
       "        var display = window.getComputedStyle(gd).display;\n",
       "        if (!display || display === 'none') {{\n",
       "            console.log([gd, 'removed!']);\n",
       "            Plotly.purge(gd);\n",
       "            observer.disconnect();\n",
       "        }}\n",
       "}});\n",
       "\n",
       "// Listen for the removal of the full notebook cells\n",
       "var notebookContainer = gd.closest('#notebook-container');\n",
       "if (notebookContainer) {{\n",
       "    x.observe(notebookContainer, {childList: true});\n",
       "}}\n",
       "\n",
       "// Listen for the clearing of the current output cell\n",
       "var outputEl = gd.closest('.output');\n",
       "if (outputEl) {{\n",
       "    x.observe(outputEl, {childList: true});\n",
       "}}\n",
       "\n",
       "                        })                };                });            </script>        </div>"
      ]
     },
     "metadata": {},
     "output_type": "display_data"
    }
   ],
   "source": [
    "# Avaliando a tendência de consumo dos produtos ao longo do tempo.\n",
    "# Criando a lista de meses na ordem correta\n",
    "meses = [\"janeiro\", \"fevereiro\", \"março\", \"abril\", \"maio\", \"junho\"]\n",
    "\n",
    "# Ordenando os meses numericamente para manter a ordem correta no gráfico\n",
    "ordem_meses = {mes: i for i, mes in enumerate(meses)}\n",
    "\n",
    "# Adicionando uma coluna \"ordem\" no DataFrame original\n",
    "tabela[\"ordem\"] = tabela[\"mês\"].map(ordem_meses)\n",
    "\n",
    "# Agrupando por mês, produto e ordem para calcular o faturamento total por mês para cada produto\n",
    "df_faturamento = tabela.groupby([\"mês\", \"ordem\", \"produto\"])[\"total vendido\"].sum().reset_index()\n",
    "\n",
    "# Ordenando os dados pelo campo \"ordem\" para garantir que os meses estejam na sequência correta\n",
    "df_faturamento = df_faturamento.sort_values(\"ordem\")\n",
    "\n",
    "# Criando o gráfico de linha\n",
    "fig = px.line(\n",
    "    df_faturamento,\n",
    "    x=\"mês\",\n",
    "    y=\"total vendido\",\n",
    "    color=\"produto\",\n",
    "    title=\"Tendência de Faturamento por Produto ao Longo do Tempo\",\n",
    "    labels={\"total vendido\": \"Faturamento\", \"mês\": \"Mês\"},\n",
    "    markers=True  # Adicionar marcadores nos pontos da linha\n",
    ")\n",
    "\n",
    "# Exibindo o gráfico\n",
    "fig.show()"
   ]
  },
  {
   "cell_type": "code",
   "execution_count": 89,
   "id": "0497cb5c",
   "metadata": {},
   "outputs": [
    {
     "data": {
      "application/vnd.plotly.v1+json": {
       "config": {
        "plotlyServerURL": "https://plot.ly"
       },
       "data": [
        {
         "domain": {
          "x": [
           0,
           1
          ],
          "y": [
           0,
           1
          ]
         },
         "hovertemplate": "Tipo de Produto=%{label}<br>Total Vendido=%{value}<extra></extra>",
         "labels": [
          "bebida",
          "doce",
          "lanche natural",
          "salgado"
         ],
         "legendgroup": "",
         "name": "",
         "showlegend": true,
         "type": "pie",
         "values": [
          46502,
          16877.5,
          31448,
          92895.5
         ]
        }
       ],
       "layout": {
        "legend": {
         "tracegroupgap": 0
        },
        "template": {
         "data": {
          "bar": [
           {
            "error_x": {
             "color": "#2a3f5f"
            },
            "error_y": {
             "color": "#2a3f5f"
            },
            "marker": {
             "line": {
              "color": "#E5ECF6",
              "width": 0.5
             },
             "pattern": {
              "fillmode": "overlay",
              "size": 10,
              "solidity": 0.2
             }
            },
            "type": "bar"
           }
          ],
          "barpolar": [
           {
            "marker": {
             "line": {
              "color": "#E5ECF6",
              "width": 0.5
             },
             "pattern": {
              "fillmode": "overlay",
              "size": 10,
              "solidity": 0.2
             }
            },
            "type": "barpolar"
           }
          ],
          "carpet": [
           {
            "aaxis": {
             "endlinecolor": "#2a3f5f",
             "gridcolor": "white",
             "linecolor": "white",
             "minorgridcolor": "white",
             "startlinecolor": "#2a3f5f"
            },
            "baxis": {
             "endlinecolor": "#2a3f5f",
             "gridcolor": "white",
             "linecolor": "white",
             "minorgridcolor": "white",
             "startlinecolor": "#2a3f5f"
            },
            "type": "carpet"
           }
          ],
          "choropleth": [
           {
            "colorbar": {
             "outlinewidth": 0,
             "ticks": ""
            },
            "type": "choropleth"
           }
          ],
          "contour": [
           {
            "colorbar": {
             "outlinewidth": 0,
             "ticks": ""
            },
            "colorscale": [
             [
              0,
              "#0d0887"
             ],
             [
              0.1111111111111111,
              "#46039f"
             ],
             [
              0.2222222222222222,
              "#7201a8"
             ],
             [
              0.3333333333333333,
              "#9c179e"
             ],
             [
              0.4444444444444444,
              "#bd3786"
             ],
             [
              0.5555555555555556,
              "#d8576b"
             ],
             [
              0.6666666666666666,
              "#ed7953"
             ],
             [
              0.7777777777777778,
              "#fb9f3a"
             ],
             [
              0.8888888888888888,
              "#fdca26"
             ],
             [
              1,
              "#f0f921"
             ]
            ],
            "type": "contour"
           }
          ],
          "contourcarpet": [
           {
            "colorbar": {
             "outlinewidth": 0,
             "ticks": ""
            },
            "type": "contourcarpet"
           }
          ],
          "heatmap": [
           {
            "colorbar": {
             "outlinewidth": 0,
             "ticks": ""
            },
            "colorscale": [
             [
              0,
              "#0d0887"
             ],
             [
              0.1111111111111111,
              "#46039f"
             ],
             [
              0.2222222222222222,
              "#7201a8"
             ],
             [
              0.3333333333333333,
              "#9c179e"
             ],
             [
              0.4444444444444444,
              "#bd3786"
             ],
             [
              0.5555555555555556,
              "#d8576b"
             ],
             [
              0.6666666666666666,
              "#ed7953"
             ],
             [
              0.7777777777777778,
              "#fb9f3a"
             ],
             [
              0.8888888888888888,
              "#fdca26"
             ],
             [
              1,
              "#f0f921"
             ]
            ],
            "type": "heatmap"
           }
          ],
          "heatmapgl": [
           {
            "colorbar": {
             "outlinewidth": 0,
             "ticks": ""
            },
            "colorscale": [
             [
              0,
              "#0d0887"
             ],
             [
              0.1111111111111111,
              "#46039f"
             ],
             [
              0.2222222222222222,
              "#7201a8"
             ],
             [
              0.3333333333333333,
              "#9c179e"
             ],
             [
              0.4444444444444444,
              "#bd3786"
             ],
             [
              0.5555555555555556,
              "#d8576b"
             ],
             [
              0.6666666666666666,
              "#ed7953"
             ],
             [
              0.7777777777777778,
              "#fb9f3a"
             ],
             [
              0.8888888888888888,
              "#fdca26"
             ],
             [
              1,
              "#f0f921"
             ]
            ],
            "type": "heatmapgl"
           }
          ],
          "histogram": [
           {
            "marker": {
             "pattern": {
              "fillmode": "overlay",
              "size": 10,
              "solidity": 0.2
             }
            },
            "type": "histogram"
           }
          ],
          "histogram2d": [
           {
            "colorbar": {
             "outlinewidth": 0,
             "ticks": ""
            },
            "colorscale": [
             [
              0,
              "#0d0887"
             ],
             [
              0.1111111111111111,
              "#46039f"
             ],
             [
              0.2222222222222222,
              "#7201a8"
             ],
             [
              0.3333333333333333,
              "#9c179e"
             ],
             [
              0.4444444444444444,
              "#bd3786"
             ],
             [
              0.5555555555555556,
              "#d8576b"
             ],
             [
              0.6666666666666666,
              "#ed7953"
             ],
             [
              0.7777777777777778,
              "#fb9f3a"
             ],
             [
              0.8888888888888888,
              "#fdca26"
             ],
             [
              1,
              "#f0f921"
             ]
            ],
            "type": "histogram2d"
           }
          ],
          "histogram2dcontour": [
           {
            "colorbar": {
             "outlinewidth": 0,
             "ticks": ""
            },
            "colorscale": [
             [
              0,
              "#0d0887"
             ],
             [
              0.1111111111111111,
              "#46039f"
             ],
             [
              0.2222222222222222,
              "#7201a8"
             ],
             [
              0.3333333333333333,
              "#9c179e"
             ],
             [
              0.4444444444444444,
              "#bd3786"
             ],
             [
              0.5555555555555556,
              "#d8576b"
             ],
             [
              0.6666666666666666,
              "#ed7953"
             ],
             [
              0.7777777777777778,
              "#fb9f3a"
             ],
             [
              0.8888888888888888,
              "#fdca26"
             ],
             [
              1,
              "#f0f921"
             ]
            ],
            "type": "histogram2dcontour"
           }
          ],
          "mesh3d": [
           {
            "colorbar": {
             "outlinewidth": 0,
             "ticks": ""
            },
            "type": "mesh3d"
           }
          ],
          "parcoords": [
           {
            "line": {
             "colorbar": {
              "outlinewidth": 0,
              "ticks": ""
             }
            },
            "type": "parcoords"
           }
          ],
          "pie": [
           {
            "automargin": true,
            "type": "pie"
           }
          ],
          "scatter": [
           {
            "fillpattern": {
             "fillmode": "overlay",
             "size": 10,
             "solidity": 0.2
            },
            "type": "scatter"
           }
          ],
          "scatter3d": [
           {
            "line": {
             "colorbar": {
              "outlinewidth": 0,
              "ticks": ""
             }
            },
            "marker": {
             "colorbar": {
              "outlinewidth": 0,
              "ticks": ""
             }
            },
            "type": "scatter3d"
           }
          ],
          "scattercarpet": [
           {
            "marker": {
             "colorbar": {
              "outlinewidth": 0,
              "ticks": ""
             }
            },
            "type": "scattercarpet"
           }
          ],
          "scattergeo": [
           {
            "marker": {
             "colorbar": {
              "outlinewidth": 0,
              "ticks": ""
             }
            },
            "type": "scattergeo"
           }
          ],
          "scattergl": [
           {
            "marker": {
             "colorbar": {
              "outlinewidth": 0,
              "ticks": ""
             }
            },
            "type": "scattergl"
           }
          ],
          "scattermapbox": [
           {
            "marker": {
             "colorbar": {
              "outlinewidth": 0,
              "ticks": ""
             }
            },
            "type": "scattermapbox"
           }
          ],
          "scatterpolar": [
           {
            "marker": {
             "colorbar": {
              "outlinewidth": 0,
              "ticks": ""
             }
            },
            "type": "scatterpolar"
           }
          ],
          "scatterpolargl": [
           {
            "marker": {
             "colorbar": {
              "outlinewidth": 0,
              "ticks": ""
             }
            },
            "type": "scatterpolargl"
           }
          ],
          "scatterternary": [
           {
            "marker": {
             "colorbar": {
              "outlinewidth": 0,
              "ticks": ""
             }
            },
            "type": "scatterternary"
           }
          ],
          "surface": [
           {
            "colorbar": {
             "outlinewidth": 0,
             "ticks": ""
            },
            "colorscale": [
             [
              0,
              "#0d0887"
             ],
             [
              0.1111111111111111,
              "#46039f"
             ],
             [
              0.2222222222222222,
              "#7201a8"
             ],
             [
              0.3333333333333333,
              "#9c179e"
             ],
             [
              0.4444444444444444,
              "#bd3786"
             ],
             [
              0.5555555555555556,
              "#d8576b"
             ],
             [
              0.6666666666666666,
              "#ed7953"
             ],
             [
              0.7777777777777778,
              "#fb9f3a"
             ],
             [
              0.8888888888888888,
              "#fdca26"
             ],
             [
              1,
              "#f0f921"
             ]
            ],
            "type": "surface"
           }
          ],
          "table": [
           {
            "cells": {
             "fill": {
              "color": "#EBF0F8"
             },
             "line": {
              "color": "white"
             }
            },
            "header": {
             "fill": {
              "color": "#C8D4E3"
             },
             "line": {
              "color": "white"
             }
            },
            "type": "table"
           }
          ]
         },
         "layout": {
          "annotationdefaults": {
           "arrowcolor": "#2a3f5f",
           "arrowhead": 0,
           "arrowwidth": 1
          },
          "autotypenumbers": "strict",
          "coloraxis": {
           "colorbar": {
            "outlinewidth": 0,
            "ticks": ""
           }
          },
          "colorscale": {
           "diverging": [
            [
             0,
             "#8e0152"
            ],
            [
             0.1,
             "#c51b7d"
            ],
            [
             0.2,
             "#de77ae"
            ],
            [
             0.3,
             "#f1b6da"
            ],
            [
             0.4,
             "#fde0ef"
            ],
            [
             0.5,
             "#f7f7f7"
            ],
            [
             0.6,
             "#e6f5d0"
            ],
            [
             0.7,
             "#b8e186"
            ],
            [
             0.8,
             "#7fbc41"
            ],
            [
             0.9,
             "#4d9221"
            ],
            [
             1,
             "#276419"
            ]
           ],
           "sequential": [
            [
             0,
             "#0d0887"
            ],
            [
             0.1111111111111111,
             "#46039f"
            ],
            [
             0.2222222222222222,
             "#7201a8"
            ],
            [
             0.3333333333333333,
             "#9c179e"
            ],
            [
             0.4444444444444444,
             "#bd3786"
            ],
            [
             0.5555555555555556,
             "#d8576b"
            ],
            [
             0.6666666666666666,
             "#ed7953"
            ],
            [
             0.7777777777777778,
             "#fb9f3a"
            ],
            [
             0.8888888888888888,
             "#fdca26"
            ],
            [
             1,
             "#f0f921"
            ]
           ],
           "sequentialminus": [
            [
             0,
             "#0d0887"
            ],
            [
             0.1111111111111111,
             "#46039f"
            ],
            [
             0.2222222222222222,
             "#7201a8"
            ],
            [
             0.3333333333333333,
             "#9c179e"
            ],
            [
             0.4444444444444444,
             "#bd3786"
            ],
            [
             0.5555555555555556,
             "#d8576b"
            ],
            [
             0.6666666666666666,
             "#ed7953"
            ],
            [
             0.7777777777777778,
             "#fb9f3a"
            ],
            [
             0.8888888888888888,
             "#fdca26"
            ],
            [
             1,
             "#f0f921"
            ]
           ]
          },
          "colorway": [
           "#636efa",
           "#EF553B",
           "#00cc96",
           "#ab63fa",
           "#FFA15A",
           "#19d3f3",
           "#FF6692",
           "#B6E880",
           "#FF97FF",
           "#FECB52"
          ],
          "font": {
           "color": "#2a3f5f"
          },
          "geo": {
           "bgcolor": "white",
           "lakecolor": "white",
           "landcolor": "#E5ECF6",
           "showlakes": true,
           "showland": true,
           "subunitcolor": "white"
          },
          "hoverlabel": {
           "align": "left"
          },
          "hovermode": "closest",
          "mapbox": {
           "style": "light"
          },
          "paper_bgcolor": "white",
          "plot_bgcolor": "#E5ECF6",
          "polar": {
           "angularaxis": {
            "gridcolor": "white",
            "linecolor": "white",
            "ticks": ""
           },
           "bgcolor": "#E5ECF6",
           "radialaxis": {
            "gridcolor": "white",
            "linecolor": "white",
            "ticks": ""
           }
          },
          "scene": {
           "xaxis": {
            "backgroundcolor": "#E5ECF6",
            "gridcolor": "white",
            "gridwidth": 2,
            "linecolor": "white",
            "showbackground": true,
            "ticks": "",
            "zerolinecolor": "white"
           },
           "yaxis": {
            "backgroundcolor": "#E5ECF6",
            "gridcolor": "white",
            "gridwidth": 2,
            "linecolor": "white",
            "showbackground": true,
            "ticks": "",
            "zerolinecolor": "white"
           },
           "zaxis": {
            "backgroundcolor": "#E5ECF6",
            "gridcolor": "white",
            "gridwidth": 2,
            "linecolor": "white",
            "showbackground": true,
            "ticks": "",
            "zerolinecolor": "white"
           }
          },
          "shapedefaults": {
           "line": {
            "color": "#2a3f5f"
           }
          },
          "ternary": {
           "aaxis": {
            "gridcolor": "white",
            "linecolor": "white",
            "ticks": ""
           },
           "baxis": {
            "gridcolor": "white",
            "linecolor": "white",
            "ticks": ""
           },
           "bgcolor": "#E5ECF6",
           "caxis": {
            "gridcolor": "white",
            "linecolor": "white",
            "ticks": ""
           }
          },
          "title": {
           "x": 0.05
          },
          "xaxis": {
           "automargin": true,
           "gridcolor": "white",
           "linecolor": "white",
           "ticks": "",
           "title": {
            "standoff": 15
           },
           "zerolinecolor": "white",
           "zerolinewidth": 2
          },
          "yaxis": {
           "automargin": true,
           "gridcolor": "white",
           "linecolor": "white",
           "ticks": "",
           "title": {
            "standoff": 15
           },
           "zerolinecolor": "white",
           "zerolinewidth": 2
          }
         }
        },
        "title": {
         "text": "Proporção de Vendas por Tipo de Produto"
        }
       }
      },
      "text/html": [
       "<div>                            <div id=\"f482a8c1-55af-4266-90bc-8087b7479d14\" class=\"plotly-graph-div\" style=\"height:525px; width:100%;\"></div>            <script type=\"text/javascript\">                require([\"plotly\"], function(Plotly) {                    window.PLOTLYENV=window.PLOTLYENV || {};                                    if (document.getElementById(\"f482a8c1-55af-4266-90bc-8087b7479d14\")) {                    Plotly.newPlot(                        \"f482a8c1-55af-4266-90bc-8087b7479d14\",                        [{\"domain\":{\"x\":[0.0,1.0],\"y\":[0.0,1.0]},\"hovertemplate\":\"Tipo de Produto=%{label}<br>Total Vendido=%{value}<extra></extra>\",\"labels\":[\"bebida\",\"doce\",\"lanche natural\",\"salgado\"],\"legendgroup\":\"\",\"name\":\"\",\"showlegend\":true,\"values\":[46502.0,16877.5,31448.0,92895.5],\"type\":\"pie\"}],                        {\"template\":{\"data\":{\"histogram2dcontour\":[{\"type\":\"histogram2dcontour\",\"colorbar\":{\"outlinewidth\":0,\"ticks\":\"\"},\"colorscale\":[[0.0,\"#0d0887\"],[0.1111111111111111,\"#46039f\"],[0.2222222222222222,\"#7201a8\"],[0.3333333333333333,\"#9c179e\"],[0.4444444444444444,\"#bd3786\"],[0.5555555555555556,\"#d8576b\"],[0.6666666666666666,\"#ed7953\"],[0.7777777777777778,\"#fb9f3a\"],[0.8888888888888888,\"#fdca26\"],[1.0,\"#f0f921\"]]}],\"choropleth\":[{\"type\":\"choropleth\",\"colorbar\":{\"outlinewidth\":0,\"ticks\":\"\"}}],\"histogram2d\":[{\"type\":\"histogram2d\",\"colorbar\":{\"outlinewidth\":0,\"ticks\":\"\"},\"colorscale\":[[0.0,\"#0d0887\"],[0.1111111111111111,\"#46039f\"],[0.2222222222222222,\"#7201a8\"],[0.3333333333333333,\"#9c179e\"],[0.4444444444444444,\"#bd3786\"],[0.5555555555555556,\"#d8576b\"],[0.6666666666666666,\"#ed7953\"],[0.7777777777777778,\"#fb9f3a\"],[0.8888888888888888,\"#fdca26\"],[1.0,\"#f0f921\"]]}],\"heatmap\":[{\"type\":\"heatmap\",\"colorbar\":{\"outlinewidth\":0,\"ticks\":\"\"},\"colorscale\":[[0.0,\"#0d0887\"],[0.1111111111111111,\"#46039f\"],[0.2222222222222222,\"#7201a8\"],[0.3333333333333333,\"#9c179e\"],[0.4444444444444444,\"#bd3786\"],[0.5555555555555556,\"#d8576b\"],[0.6666666666666666,\"#ed7953\"],[0.7777777777777778,\"#fb9f3a\"],[0.8888888888888888,\"#fdca26\"],[1.0,\"#f0f921\"]]}],\"heatmapgl\":[{\"type\":\"heatmapgl\",\"colorbar\":{\"outlinewidth\":0,\"ticks\":\"\"},\"colorscale\":[[0.0,\"#0d0887\"],[0.1111111111111111,\"#46039f\"],[0.2222222222222222,\"#7201a8\"],[0.3333333333333333,\"#9c179e\"],[0.4444444444444444,\"#bd3786\"],[0.5555555555555556,\"#d8576b\"],[0.6666666666666666,\"#ed7953\"],[0.7777777777777778,\"#fb9f3a\"],[0.8888888888888888,\"#fdca26\"],[1.0,\"#f0f921\"]]}],\"contourcarpet\":[{\"type\":\"contourcarpet\",\"colorbar\":{\"outlinewidth\":0,\"ticks\":\"\"}}],\"contour\":[{\"type\":\"contour\",\"colorbar\":{\"outlinewidth\":0,\"ticks\":\"\"},\"colorscale\":[[0.0,\"#0d0887\"],[0.1111111111111111,\"#46039f\"],[0.2222222222222222,\"#7201a8\"],[0.3333333333333333,\"#9c179e\"],[0.4444444444444444,\"#bd3786\"],[0.5555555555555556,\"#d8576b\"],[0.6666666666666666,\"#ed7953\"],[0.7777777777777778,\"#fb9f3a\"],[0.8888888888888888,\"#fdca26\"],[1.0,\"#f0f921\"]]}],\"surface\":[{\"type\":\"surface\",\"colorbar\":{\"outlinewidth\":0,\"ticks\":\"\"},\"colorscale\":[[0.0,\"#0d0887\"],[0.1111111111111111,\"#46039f\"],[0.2222222222222222,\"#7201a8\"],[0.3333333333333333,\"#9c179e\"],[0.4444444444444444,\"#bd3786\"],[0.5555555555555556,\"#d8576b\"],[0.6666666666666666,\"#ed7953\"],[0.7777777777777778,\"#fb9f3a\"],[0.8888888888888888,\"#fdca26\"],[1.0,\"#f0f921\"]]}],\"mesh3d\":[{\"type\":\"mesh3d\",\"colorbar\":{\"outlinewidth\":0,\"ticks\":\"\"}}],\"scatter\":[{\"fillpattern\":{\"fillmode\":\"overlay\",\"size\":10,\"solidity\":0.2},\"type\":\"scatter\"}],\"parcoords\":[{\"type\":\"parcoords\",\"line\":{\"colorbar\":{\"outlinewidth\":0,\"ticks\":\"\"}}}],\"scatterpolargl\":[{\"type\":\"scatterpolargl\",\"marker\":{\"colorbar\":{\"outlinewidth\":0,\"ticks\":\"\"}}}],\"bar\":[{\"error_x\":{\"color\":\"#2a3f5f\"},\"error_y\":{\"color\":\"#2a3f5f\"},\"marker\":{\"line\":{\"color\":\"#E5ECF6\",\"width\":0.5},\"pattern\":{\"fillmode\":\"overlay\",\"size\":10,\"solidity\":0.2}},\"type\":\"bar\"}],\"scattergeo\":[{\"type\":\"scattergeo\",\"marker\":{\"colorbar\":{\"outlinewidth\":0,\"ticks\":\"\"}}}],\"scatterpolar\":[{\"type\":\"scatterpolar\",\"marker\":{\"colorbar\":{\"outlinewidth\":0,\"ticks\":\"\"}}}],\"histogram\":[{\"marker\":{\"pattern\":{\"fillmode\":\"overlay\",\"size\":10,\"solidity\":0.2}},\"type\":\"histogram\"}],\"scattergl\":[{\"type\":\"scattergl\",\"marker\":{\"colorbar\":{\"outlinewidth\":0,\"ticks\":\"\"}}}],\"scatter3d\":[{\"type\":\"scatter3d\",\"line\":{\"colorbar\":{\"outlinewidth\":0,\"ticks\":\"\"}},\"marker\":{\"colorbar\":{\"outlinewidth\":0,\"ticks\":\"\"}}}],\"scattermapbox\":[{\"type\":\"scattermapbox\",\"marker\":{\"colorbar\":{\"outlinewidth\":0,\"ticks\":\"\"}}}],\"scatterternary\":[{\"type\":\"scatterternary\",\"marker\":{\"colorbar\":{\"outlinewidth\":0,\"ticks\":\"\"}}}],\"scattercarpet\":[{\"type\":\"scattercarpet\",\"marker\":{\"colorbar\":{\"outlinewidth\":0,\"ticks\":\"\"}}}],\"carpet\":[{\"aaxis\":{\"endlinecolor\":\"#2a3f5f\",\"gridcolor\":\"white\",\"linecolor\":\"white\",\"minorgridcolor\":\"white\",\"startlinecolor\":\"#2a3f5f\"},\"baxis\":{\"endlinecolor\":\"#2a3f5f\",\"gridcolor\":\"white\",\"linecolor\":\"white\",\"minorgridcolor\":\"white\",\"startlinecolor\":\"#2a3f5f\"},\"type\":\"carpet\"}],\"table\":[{\"cells\":{\"fill\":{\"color\":\"#EBF0F8\"},\"line\":{\"color\":\"white\"}},\"header\":{\"fill\":{\"color\":\"#C8D4E3\"},\"line\":{\"color\":\"white\"}},\"type\":\"table\"}],\"barpolar\":[{\"marker\":{\"line\":{\"color\":\"#E5ECF6\",\"width\":0.5},\"pattern\":{\"fillmode\":\"overlay\",\"size\":10,\"solidity\":0.2}},\"type\":\"barpolar\"}],\"pie\":[{\"automargin\":true,\"type\":\"pie\"}]},\"layout\":{\"autotypenumbers\":\"strict\",\"colorway\":[\"#636efa\",\"#EF553B\",\"#00cc96\",\"#ab63fa\",\"#FFA15A\",\"#19d3f3\",\"#FF6692\",\"#B6E880\",\"#FF97FF\",\"#FECB52\"],\"font\":{\"color\":\"#2a3f5f\"},\"hovermode\":\"closest\",\"hoverlabel\":{\"align\":\"left\"},\"paper_bgcolor\":\"white\",\"plot_bgcolor\":\"#E5ECF6\",\"polar\":{\"bgcolor\":\"#E5ECF6\",\"angularaxis\":{\"gridcolor\":\"white\",\"linecolor\":\"white\",\"ticks\":\"\"},\"radialaxis\":{\"gridcolor\":\"white\",\"linecolor\":\"white\",\"ticks\":\"\"}},\"ternary\":{\"bgcolor\":\"#E5ECF6\",\"aaxis\":{\"gridcolor\":\"white\",\"linecolor\":\"white\",\"ticks\":\"\"},\"baxis\":{\"gridcolor\":\"white\",\"linecolor\":\"white\",\"ticks\":\"\"},\"caxis\":{\"gridcolor\":\"white\",\"linecolor\":\"white\",\"ticks\":\"\"}},\"coloraxis\":{\"colorbar\":{\"outlinewidth\":0,\"ticks\":\"\"}},\"colorscale\":{\"sequential\":[[0.0,\"#0d0887\"],[0.1111111111111111,\"#46039f\"],[0.2222222222222222,\"#7201a8\"],[0.3333333333333333,\"#9c179e\"],[0.4444444444444444,\"#bd3786\"],[0.5555555555555556,\"#d8576b\"],[0.6666666666666666,\"#ed7953\"],[0.7777777777777778,\"#fb9f3a\"],[0.8888888888888888,\"#fdca26\"],[1.0,\"#f0f921\"]],\"sequentialminus\":[[0.0,\"#0d0887\"],[0.1111111111111111,\"#46039f\"],[0.2222222222222222,\"#7201a8\"],[0.3333333333333333,\"#9c179e\"],[0.4444444444444444,\"#bd3786\"],[0.5555555555555556,\"#d8576b\"],[0.6666666666666666,\"#ed7953\"],[0.7777777777777778,\"#fb9f3a\"],[0.8888888888888888,\"#fdca26\"],[1.0,\"#f0f921\"]],\"diverging\":[[0,\"#8e0152\"],[0.1,\"#c51b7d\"],[0.2,\"#de77ae\"],[0.3,\"#f1b6da\"],[0.4,\"#fde0ef\"],[0.5,\"#f7f7f7\"],[0.6,\"#e6f5d0\"],[0.7,\"#b8e186\"],[0.8,\"#7fbc41\"],[0.9,\"#4d9221\"],[1,\"#276419\"]]},\"xaxis\":{\"gridcolor\":\"white\",\"linecolor\":\"white\",\"ticks\":\"\",\"title\":{\"standoff\":15},\"zerolinecolor\":\"white\",\"automargin\":true,\"zerolinewidth\":2},\"yaxis\":{\"gridcolor\":\"white\",\"linecolor\":\"white\",\"ticks\":\"\",\"title\":{\"standoff\":15},\"zerolinecolor\":\"white\",\"automargin\":true,\"zerolinewidth\":2},\"scene\":{\"xaxis\":{\"backgroundcolor\":\"#E5ECF6\",\"gridcolor\":\"white\",\"linecolor\":\"white\",\"showbackground\":true,\"ticks\":\"\",\"zerolinecolor\":\"white\",\"gridwidth\":2},\"yaxis\":{\"backgroundcolor\":\"#E5ECF6\",\"gridcolor\":\"white\",\"linecolor\":\"white\",\"showbackground\":true,\"ticks\":\"\",\"zerolinecolor\":\"white\",\"gridwidth\":2},\"zaxis\":{\"backgroundcolor\":\"#E5ECF6\",\"gridcolor\":\"white\",\"linecolor\":\"white\",\"showbackground\":true,\"ticks\":\"\",\"zerolinecolor\":\"white\",\"gridwidth\":2}},\"shapedefaults\":{\"line\":{\"color\":\"#2a3f5f\"}},\"annotationdefaults\":{\"arrowcolor\":\"#2a3f5f\",\"arrowhead\":0,\"arrowwidth\":1},\"geo\":{\"bgcolor\":\"white\",\"landcolor\":\"#E5ECF6\",\"subunitcolor\":\"white\",\"showland\":true,\"showlakes\":true,\"lakecolor\":\"white\"},\"title\":{\"x\":0.05},\"mapbox\":{\"style\":\"light\"}}},\"legend\":{\"tracegroupgap\":0},\"title\":{\"text\":\"Propor\\u00e7\\u00e3o de Vendas por Tipo de Produto\"}},                        {\"responsive\": true}                    ).then(function(){\n",
       "                            \n",
       "var gd = document.getElementById('f482a8c1-55af-4266-90bc-8087b7479d14');\n",
       "var x = new MutationObserver(function (mutations, observer) {{\n",
       "        var display = window.getComputedStyle(gd).display;\n",
       "        if (!display || display === 'none') {{\n",
       "            console.log([gd, 'removed!']);\n",
       "            Plotly.purge(gd);\n",
       "            observer.disconnect();\n",
       "        }}\n",
       "}});\n",
       "\n",
       "// Listen for the removal of the full notebook cells\n",
       "var notebookContainer = gd.closest('#notebook-container');\n",
       "if (notebookContainer) {{\n",
       "    x.observe(notebookContainer, {childList: true});\n",
       "}}\n",
       "\n",
       "// Listen for the clearing of the current output cell\n",
       "var outputEl = gd.closest('.output');\n",
       "if (outputEl) {{\n",
       "    x.observe(outputEl, {childList: true});\n",
       "}}\n",
       "\n",
       "                        })                };                });            </script>        </div>"
      ]
     },
     "metadata": {},
     "output_type": "display_data"
    }
   ],
   "source": [
    "#Avaliando a proporção de vendas por tipo de produto\n",
    "# Agrupar os dados por 'tipos de produtos' e calcular o total vendido para cada tipo\n",
    "df_pizza = tabela.groupby(\"tipo de produto\")[\"total vendido\"].sum().reset_index()\n",
    "\n",
    "# Criando o gráfico de pizza\n",
    "fig = px.pie(\n",
    "    df_pizza, \n",
    "    values=\"total vendido\", \n",
    "    names=\"tipo de produto\", \n",
    "    title=\"Proporção de Vendas por Tipo de Produto\",\n",
    "    labels={\"tipo de produto\": \"Tipo de Produto\", \"total vendido\": \"Total Vendido\"},\n",
    ")\n",
    "\n",
    "# Exibir o gráfico\n",
    "fig.show()\n"
   ]
  },
  {
   "cell_type": "code",
   "execution_count": 95,
   "id": "4f42e8c1",
   "metadata": {},
   "outputs": [
    {
     "data": {
      "application/vnd.plotly.v1+json": {
       "config": {
        "plotlyServerURL": "https://plot.ly"
       },
       "data": [
        {
         "domain": {
          "x": [
           0,
           0.18400000000000002
          ],
          "y": [
           0,
           1
          ]
         },
         "hovertemplate": "Dia da Semana=quarta-feira<br>Tipo de Produto=%{label}<br>Total Vendido=%{value}<extra></extra>",
         "labels": [
          "bebida",
          "doce",
          "lanche natural",
          "salgado"
         ],
         "legendgroup": "",
         "name": "",
         "showlegend": true,
         "type": "pie",
         "values": [
          8944,
          2827.5,
          6440,
          18085.5
         ]
        },
        {
         "domain": {
          "x": [
           0.20400000000000001,
           0.388
          ],
          "y": [
           0,
           1
          ]
         },
         "hovertemplate": "Dia da Semana=quinta-feira<br>Tipo de Produto=%{label}<br>Total Vendido=%{value}<extra></extra>",
         "labels": [
          "bebida",
          "doce",
          "lanche natural",
          "salgado"
         ],
         "legendgroup": "",
         "name": "",
         "showlegend": true,
         "type": "pie",
         "values": [
          9656,
          3644,
          5402,
          19397.5
         ]
        },
        {
         "domain": {
          "x": [
           0.40800000000000003,
           0.5920000000000001
          ],
          "y": [
           0,
           1
          ]
         },
         "hovertemplate": "Dia da Semana=segunda-feria<br>Tipo de Produto=%{label}<br>Total Vendido=%{value}<extra></extra>",
         "labels": [
          "bebida",
          "doce",
          "lanche natural",
          "salgado"
         ],
         "legendgroup": "",
         "name": "",
         "showlegend": true,
         "type": "pie",
         "values": [
          9066,
          2277,
          8768,
          17649
         ]
        },
        {
         "domain": {
          "x": [
           0.6120000000000001,
           0.7960000000000002
          ],
          "y": [
           0,
           1
          ]
         },
         "hovertemplate": "Dia da Semana=sexta-feira<br>Tipo de Produto=%{label}<br>Total Vendido=%{value}<extra></extra>",
         "labels": [
          "bebida",
          "doce",
          "lanche natural",
          "salgado"
         ],
         "legendgroup": "",
         "name": "",
         "showlegend": true,
         "type": "pie",
         "values": [
          10110,
          5757.5,
          3056,
          19796.5
         ]
        },
        {
         "domain": {
          "x": [
           0.8160000000000001,
           1
          ],
          "y": [
           0,
           1
          ]
         },
         "hovertemplate": "Dia da Semana=terça-feria<br>Tipo de Produto=%{label}<br>Total Vendido=%{value}<extra></extra>",
         "labels": [
          "bebida",
          "doce",
          "lanche natural",
          "salgado"
         ],
         "legendgroup": "",
         "name": "",
         "showlegend": true,
         "type": "pie",
         "values": [
          8726,
          2371.5,
          7782,
          17967
         ]
        }
       ],
       "layout": {
        "annotations": [
         {
          "font": {},
          "showarrow": false,
          "text": "Dia da Semana=quarta-feira",
          "x": 0.09200000000000001,
          "xanchor": "center",
          "xref": "paper",
          "y": 1,
          "yanchor": "bottom",
          "yref": "paper"
         },
         {
          "font": {},
          "showarrow": false,
          "text": "Dia da Semana=quinta-feira",
          "x": 0.29600000000000004,
          "xanchor": "center",
          "xref": "paper",
          "y": 1,
          "yanchor": "bottom",
          "yref": "paper"
         },
         {
          "font": {},
          "showarrow": false,
          "text": "Dia da Semana=segunda-feria",
          "x": 0.5,
          "xanchor": "center",
          "xref": "paper",
          "y": 1,
          "yanchor": "bottom",
          "yref": "paper"
         },
         {
          "font": {},
          "showarrow": false,
          "text": "Dia da Semana=sexta-feira",
          "x": 0.7040000000000002,
          "xanchor": "center",
          "xref": "paper",
          "y": 1,
          "yanchor": "bottom",
          "yref": "paper"
         },
         {
          "font": {},
          "showarrow": false,
          "text": "Dia da Semana=terça-feria",
          "x": 0.908,
          "xanchor": "center",
          "xref": "paper",
          "y": 1,
          "yanchor": "bottom",
          "yref": "paper"
         }
        ],
        "legend": {
         "tracegroupgap": 0
        },
        "template": {
         "data": {
          "bar": [
           {
            "error_x": {
             "color": "#2a3f5f"
            },
            "error_y": {
             "color": "#2a3f5f"
            },
            "marker": {
             "line": {
              "color": "#E5ECF6",
              "width": 0.5
             },
             "pattern": {
              "fillmode": "overlay",
              "size": 10,
              "solidity": 0.2
             }
            },
            "type": "bar"
           }
          ],
          "barpolar": [
           {
            "marker": {
             "line": {
              "color": "#E5ECF6",
              "width": 0.5
             },
             "pattern": {
              "fillmode": "overlay",
              "size": 10,
              "solidity": 0.2
             }
            },
            "type": "barpolar"
           }
          ],
          "carpet": [
           {
            "aaxis": {
             "endlinecolor": "#2a3f5f",
             "gridcolor": "white",
             "linecolor": "white",
             "minorgridcolor": "white",
             "startlinecolor": "#2a3f5f"
            },
            "baxis": {
             "endlinecolor": "#2a3f5f",
             "gridcolor": "white",
             "linecolor": "white",
             "minorgridcolor": "white",
             "startlinecolor": "#2a3f5f"
            },
            "type": "carpet"
           }
          ],
          "choropleth": [
           {
            "colorbar": {
             "outlinewidth": 0,
             "ticks": ""
            },
            "type": "choropleth"
           }
          ],
          "contour": [
           {
            "colorbar": {
             "outlinewidth": 0,
             "ticks": ""
            },
            "colorscale": [
             [
              0,
              "#0d0887"
             ],
             [
              0.1111111111111111,
              "#46039f"
             ],
             [
              0.2222222222222222,
              "#7201a8"
             ],
             [
              0.3333333333333333,
              "#9c179e"
             ],
             [
              0.4444444444444444,
              "#bd3786"
             ],
             [
              0.5555555555555556,
              "#d8576b"
             ],
             [
              0.6666666666666666,
              "#ed7953"
             ],
             [
              0.7777777777777778,
              "#fb9f3a"
             ],
             [
              0.8888888888888888,
              "#fdca26"
             ],
             [
              1,
              "#f0f921"
             ]
            ],
            "type": "contour"
           }
          ],
          "contourcarpet": [
           {
            "colorbar": {
             "outlinewidth": 0,
             "ticks": ""
            },
            "type": "contourcarpet"
           }
          ],
          "heatmap": [
           {
            "colorbar": {
             "outlinewidth": 0,
             "ticks": ""
            },
            "colorscale": [
             [
              0,
              "#0d0887"
             ],
             [
              0.1111111111111111,
              "#46039f"
             ],
             [
              0.2222222222222222,
              "#7201a8"
             ],
             [
              0.3333333333333333,
              "#9c179e"
             ],
             [
              0.4444444444444444,
              "#bd3786"
             ],
             [
              0.5555555555555556,
              "#d8576b"
             ],
             [
              0.6666666666666666,
              "#ed7953"
             ],
             [
              0.7777777777777778,
              "#fb9f3a"
             ],
             [
              0.8888888888888888,
              "#fdca26"
             ],
             [
              1,
              "#f0f921"
             ]
            ],
            "type": "heatmap"
           }
          ],
          "heatmapgl": [
           {
            "colorbar": {
             "outlinewidth": 0,
             "ticks": ""
            },
            "colorscale": [
             [
              0,
              "#0d0887"
             ],
             [
              0.1111111111111111,
              "#46039f"
             ],
             [
              0.2222222222222222,
              "#7201a8"
             ],
             [
              0.3333333333333333,
              "#9c179e"
             ],
             [
              0.4444444444444444,
              "#bd3786"
             ],
             [
              0.5555555555555556,
              "#d8576b"
             ],
             [
              0.6666666666666666,
              "#ed7953"
             ],
             [
              0.7777777777777778,
              "#fb9f3a"
             ],
             [
              0.8888888888888888,
              "#fdca26"
             ],
             [
              1,
              "#f0f921"
             ]
            ],
            "type": "heatmapgl"
           }
          ],
          "histogram": [
           {
            "marker": {
             "pattern": {
              "fillmode": "overlay",
              "size": 10,
              "solidity": 0.2
             }
            },
            "type": "histogram"
           }
          ],
          "histogram2d": [
           {
            "colorbar": {
             "outlinewidth": 0,
             "ticks": ""
            },
            "colorscale": [
             [
              0,
              "#0d0887"
             ],
             [
              0.1111111111111111,
              "#46039f"
             ],
             [
              0.2222222222222222,
              "#7201a8"
             ],
             [
              0.3333333333333333,
              "#9c179e"
             ],
             [
              0.4444444444444444,
              "#bd3786"
             ],
             [
              0.5555555555555556,
              "#d8576b"
             ],
             [
              0.6666666666666666,
              "#ed7953"
             ],
             [
              0.7777777777777778,
              "#fb9f3a"
             ],
             [
              0.8888888888888888,
              "#fdca26"
             ],
             [
              1,
              "#f0f921"
             ]
            ],
            "type": "histogram2d"
           }
          ],
          "histogram2dcontour": [
           {
            "colorbar": {
             "outlinewidth": 0,
             "ticks": ""
            },
            "colorscale": [
             [
              0,
              "#0d0887"
             ],
             [
              0.1111111111111111,
              "#46039f"
             ],
             [
              0.2222222222222222,
              "#7201a8"
             ],
             [
              0.3333333333333333,
              "#9c179e"
             ],
             [
              0.4444444444444444,
              "#bd3786"
             ],
             [
              0.5555555555555556,
              "#d8576b"
             ],
             [
              0.6666666666666666,
              "#ed7953"
             ],
             [
              0.7777777777777778,
              "#fb9f3a"
             ],
             [
              0.8888888888888888,
              "#fdca26"
             ],
             [
              1,
              "#f0f921"
             ]
            ],
            "type": "histogram2dcontour"
           }
          ],
          "mesh3d": [
           {
            "colorbar": {
             "outlinewidth": 0,
             "ticks": ""
            },
            "type": "mesh3d"
           }
          ],
          "parcoords": [
           {
            "line": {
             "colorbar": {
              "outlinewidth": 0,
              "ticks": ""
             }
            },
            "type": "parcoords"
           }
          ],
          "pie": [
           {
            "automargin": true,
            "type": "pie"
           }
          ],
          "scatter": [
           {
            "fillpattern": {
             "fillmode": "overlay",
             "size": 10,
             "solidity": 0.2
            },
            "type": "scatter"
           }
          ],
          "scatter3d": [
           {
            "line": {
             "colorbar": {
              "outlinewidth": 0,
              "ticks": ""
             }
            },
            "marker": {
             "colorbar": {
              "outlinewidth": 0,
              "ticks": ""
             }
            },
            "type": "scatter3d"
           }
          ],
          "scattercarpet": [
           {
            "marker": {
             "colorbar": {
              "outlinewidth": 0,
              "ticks": ""
             }
            },
            "type": "scattercarpet"
           }
          ],
          "scattergeo": [
           {
            "marker": {
             "colorbar": {
              "outlinewidth": 0,
              "ticks": ""
             }
            },
            "type": "scattergeo"
           }
          ],
          "scattergl": [
           {
            "marker": {
             "colorbar": {
              "outlinewidth": 0,
              "ticks": ""
             }
            },
            "type": "scattergl"
           }
          ],
          "scattermapbox": [
           {
            "marker": {
             "colorbar": {
              "outlinewidth": 0,
              "ticks": ""
             }
            },
            "type": "scattermapbox"
           }
          ],
          "scatterpolar": [
           {
            "marker": {
             "colorbar": {
              "outlinewidth": 0,
              "ticks": ""
             }
            },
            "type": "scatterpolar"
           }
          ],
          "scatterpolargl": [
           {
            "marker": {
             "colorbar": {
              "outlinewidth": 0,
              "ticks": ""
             }
            },
            "type": "scatterpolargl"
           }
          ],
          "scatterternary": [
           {
            "marker": {
             "colorbar": {
              "outlinewidth": 0,
              "ticks": ""
             }
            },
            "type": "scatterternary"
           }
          ],
          "surface": [
           {
            "colorbar": {
             "outlinewidth": 0,
             "ticks": ""
            },
            "colorscale": [
             [
              0,
              "#0d0887"
             ],
             [
              0.1111111111111111,
              "#46039f"
             ],
             [
              0.2222222222222222,
              "#7201a8"
             ],
             [
              0.3333333333333333,
              "#9c179e"
             ],
             [
              0.4444444444444444,
              "#bd3786"
             ],
             [
              0.5555555555555556,
              "#d8576b"
             ],
             [
              0.6666666666666666,
              "#ed7953"
             ],
             [
              0.7777777777777778,
              "#fb9f3a"
             ],
             [
              0.8888888888888888,
              "#fdca26"
             ],
             [
              1,
              "#f0f921"
             ]
            ],
            "type": "surface"
           }
          ],
          "table": [
           {
            "cells": {
             "fill": {
              "color": "#EBF0F8"
             },
             "line": {
              "color": "white"
             }
            },
            "header": {
             "fill": {
              "color": "#C8D4E3"
             },
             "line": {
              "color": "white"
             }
            },
            "type": "table"
           }
          ]
         },
         "layout": {
          "annotationdefaults": {
           "arrowcolor": "#2a3f5f",
           "arrowhead": 0,
           "arrowwidth": 1
          },
          "autotypenumbers": "strict",
          "coloraxis": {
           "colorbar": {
            "outlinewidth": 0,
            "ticks": ""
           }
          },
          "colorscale": {
           "diverging": [
            [
             0,
             "#8e0152"
            ],
            [
             0.1,
             "#c51b7d"
            ],
            [
             0.2,
             "#de77ae"
            ],
            [
             0.3,
             "#f1b6da"
            ],
            [
             0.4,
             "#fde0ef"
            ],
            [
             0.5,
             "#f7f7f7"
            ],
            [
             0.6,
             "#e6f5d0"
            ],
            [
             0.7,
             "#b8e186"
            ],
            [
             0.8,
             "#7fbc41"
            ],
            [
             0.9,
             "#4d9221"
            ],
            [
             1,
             "#276419"
            ]
           ],
           "sequential": [
            [
             0,
             "#0d0887"
            ],
            [
             0.1111111111111111,
             "#46039f"
            ],
            [
             0.2222222222222222,
             "#7201a8"
            ],
            [
             0.3333333333333333,
             "#9c179e"
            ],
            [
             0.4444444444444444,
             "#bd3786"
            ],
            [
             0.5555555555555556,
             "#d8576b"
            ],
            [
             0.6666666666666666,
             "#ed7953"
            ],
            [
             0.7777777777777778,
             "#fb9f3a"
            ],
            [
             0.8888888888888888,
             "#fdca26"
            ],
            [
             1,
             "#f0f921"
            ]
           ],
           "sequentialminus": [
            [
             0,
             "#0d0887"
            ],
            [
             0.1111111111111111,
             "#46039f"
            ],
            [
             0.2222222222222222,
             "#7201a8"
            ],
            [
             0.3333333333333333,
             "#9c179e"
            ],
            [
             0.4444444444444444,
             "#bd3786"
            ],
            [
             0.5555555555555556,
             "#d8576b"
            ],
            [
             0.6666666666666666,
             "#ed7953"
            ],
            [
             0.7777777777777778,
             "#fb9f3a"
            ],
            [
             0.8888888888888888,
             "#fdca26"
            ],
            [
             1,
             "#f0f921"
            ]
           ]
          },
          "colorway": [
           "#636efa",
           "#EF553B",
           "#00cc96",
           "#ab63fa",
           "#FFA15A",
           "#19d3f3",
           "#FF6692",
           "#B6E880",
           "#FF97FF",
           "#FECB52"
          ],
          "font": {
           "color": "#2a3f5f"
          },
          "geo": {
           "bgcolor": "white",
           "lakecolor": "white",
           "landcolor": "#E5ECF6",
           "showlakes": true,
           "showland": true,
           "subunitcolor": "white"
          },
          "hoverlabel": {
           "align": "left"
          },
          "hovermode": "closest",
          "mapbox": {
           "style": "light"
          },
          "paper_bgcolor": "white",
          "plot_bgcolor": "#E5ECF6",
          "polar": {
           "angularaxis": {
            "gridcolor": "white",
            "linecolor": "white",
            "ticks": ""
           },
           "bgcolor": "#E5ECF6",
           "radialaxis": {
            "gridcolor": "white",
            "linecolor": "white",
            "ticks": ""
           }
          },
          "scene": {
           "xaxis": {
            "backgroundcolor": "#E5ECF6",
            "gridcolor": "white",
            "gridwidth": 2,
            "linecolor": "white",
            "showbackground": true,
            "ticks": "",
            "zerolinecolor": "white"
           },
           "yaxis": {
            "backgroundcolor": "#E5ECF6",
            "gridcolor": "white",
            "gridwidth": 2,
            "linecolor": "white",
            "showbackground": true,
            "ticks": "",
            "zerolinecolor": "white"
           },
           "zaxis": {
            "backgroundcolor": "#E5ECF6",
            "gridcolor": "white",
            "gridwidth": 2,
            "linecolor": "white",
            "showbackground": true,
            "ticks": "",
            "zerolinecolor": "white"
           }
          },
          "shapedefaults": {
           "line": {
            "color": "#2a3f5f"
           }
          },
          "ternary": {
           "aaxis": {
            "gridcolor": "white",
            "linecolor": "white",
            "ticks": ""
           },
           "baxis": {
            "gridcolor": "white",
            "linecolor": "white",
            "ticks": ""
           },
           "bgcolor": "#E5ECF6",
           "caxis": {
            "gridcolor": "white",
            "linecolor": "white",
            "ticks": ""
           }
          },
          "title": {
           "x": 0.05
          },
          "xaxis": {
           "automargin": true,
           "gridcolor": "white",
           "linecolor": "white",
           "ticks": "",
           "title": {
            "standoff": 15
           },
           "zerolinecolor": "white",
           "zerolinewidth": 2
          },
          "yaxis": {
           "automargin": true,
           "gridcolor": "white",
           "linecolor": "white",
           "ticks": "",
           "title": {
            "standoff": 15
           },
           "zerolinecolor": "white",
           "zerolinewidth": 2
          }
         }
        },
        "title": {
         "text": "Proporção de Vendas por Tipo de Produto e Dia da Semana"
        }
       }
      },
      "text/html": [
       "<div>                            <div id=\"33357470-277b-4752-8dd3-0c9d3d79a489\" class=\"plotly-graph-div\" style=\"height:525px; width:100%;\"></div>            <script type=\"text/javascript\">                require([\"plotly\"], function(Plotly) {                    window.PLOTLYENV=window.PLOTLYENV || {};                                    if (document.getElementById(\"33357470-277b-4752-8dd3-0c9d3d79a489\")) {                    Plotly.newPlot(                        \"33357470-277b-4752-8dd3-0c9d3d79a489\",                        [{\"domain\":{\"x\":[0.0,0.18400000000000002],\"y\":[0.0,1.0]},\"hovertemplate\":\"Dia da Semana=quarta-feira<br>Tipo de Produto=%{label}<br>Total Vendido=%{value}<extra></extra>\",\"labels\":[\"bebida\",\"doce\",\"lanche natural\",\"salgado\"],\"legendgroup\":\"\",\"name\":\"\",\"showlegend\":true,\"values\":[8944.0,2827.5,6440.0,18085.5],\"type\":\"pie\"},{\"domain\":{\"x\":[0.20400000000000001,0.388],\"y\":[0.0,1.0]},\"hovertemplate\":\"Dia da Semana=quinta-feira<br>Tipo de Produto=%{label}<br>Total Vendido=%{value}<extra></extra>\",\"labels\":[\"bebida\",\"doce\",\"lanche natural\",\"salgado\"],\"legendgroup\":\"\",\"name\":\"\",\"showlegend\":true,\"values\":[9656.0,3644.0,5402.0,19397.5],\"type\":\"pie\"},{\"domain\":{\"x\":[0.40800000000000003,0.5920000000000001],\"y\":[0.0,1.0]},\"hovertemplate\":\"Dia da Semana=segunda-feria<br>Tipo de Produto=%{label}<br>Total Vendido=%{value}<extra></extra>\",\"labels\":[\"bebida\",\"doce\",\"lanche natural\",\"salgado\"],\"legendgroup\":\"\",\"name\":\"\",\"showlegend\":true,\"values\":[9066.0,2277.0,8768.0,17649.0],\"type\":\"pie\"},{\"domain\":{\"x\":[0.6120000000000001,0.7960000000000002],\"y\":[0.0,1.0]},\"hovertemplate\":\"Dia da Semana=sexta-feira<br>Tipo de Produto=%{label}<br>Total Vendido=%{value}<extra></extra>\",\"labels\":[\"bebida\",\"doce\",\"lanche natural\",\"salgado\"],\"legendgroup\":\"\",\"name\":\"\",\"showlegend\":true,\"values\":[10110.0,5757.5,3056.0,19796.5],\"type\":\"pie\"},{\"domain\":{\"x\":[0.8160000000000001,1.0],\"y\":[0.0,1.0]},\"hovertemplate\":\"Dia da Semana=ter\\u00e7a-feria<br>Tipo de Produto=%{label}<br>Total Vendido=%{value}<extra></extra>\",\"labels\":[\"bebida\",\"doce\",\"lanche natural\",\"salgado\"],\"legendgroup\":\"\",\"name\":\"\",\"showlegend\":true,\"values\":[8726.0,2371.5,7782.0,17967.0],\"type\":\"pie\"}],                        {\"template\":{\"data\":{\"histogram2dcontour\":[{\"type\":\"histogram2dcontour\",\"colorbar\":{\"outlinewidth\":0,\"ticks\":\"\"},\"colorscale\":[[0.0,\"#0d0887\"],[0.1111111111111111,\"#46039f\"],[0.2222222222222222,\"#7201a8\"],[0.3333333333333333,\"#9c179e\"],[0.4444444444444444,\"#bd3786\"],[0.5555555555555556,\"#d8576b\"],[0.6666666666666666,\"#ed7953\"],[0.7777777777777778,\"#fb9f3a\"],[0.8888888888888888,\"#fdca26\"],[1.0,\"#f0f921\"]]}],\"choropleth\":[{\"type\":\"choropleth\",\"colorbar\":{\"outlinewidth\":0,\"ticks\":\"\"}}],\"histogram2d\":[{\"type\":\"histogram2d\",\"colorbar\":{\"outlinewidth\":0,\"ticks\":\"\"},\"colorscale\":[[0.0,\"#0d0887\"],[0.1111111111111111,\"#46039f\"],[0.2222222222222222,\"#7201a8\"],[0.3333333333333333,\"#9c179e\"],[0.4444444444444444,\"#bd3786\"],[0.5555555555555556,\"#d8576b\"],[0.6666666666666666,\"#ed7953\"],[0.7777777777777778,\"#fb9f3a\"],[0.8888888888888888,\"#fdca26\"],[1.0,\"#f0f921\"]]}],\"heatmap\":[{\"type\":\"heatmap\",\"colorbar\":{\"outlinewidth\":0,\"ticks\":\"\"},\"colorscale\":[[0.0,\"#0d0887\"],[0.1111111111111111,\"#46039f\"],[0.2222222222222222,\"#7201a8\"],[0.3333333333333333,\"#9c179e\"],[0.4444444444444444,\"#bd3786\"],[0.5555555555555556,\"#d8576b\"],[0.6666666666666666,\"#ed7953\"],[0.7777777777777778,\"#fb9f3a\"],[0.8888888888888888,\"#fdca26\"],[1.0,\"#f0f921\"]]}],\"heatmapgl\":[{\"type\":\"heatmapgl\",\"colorbar\":{\"outlinewidth\":0,\"ticks\":\"\"},\"colorscale\":[[0.0,\"#0d0887\"],[0.1111111111111111,\"#46039f\"],[0.2222222222222222,\"#7201a8\"],[0.3333333333333333,\"#9c179e\"],[0.4444444444444444,\"#bd3786\"],[0.5555555555555556,\"#d8576b\"],[0.6666666666666666,\"#ed7953\"],[0.7777777777777778,\"#fb9f3a\"],[0.8888888888888888,\"#fdca26\"],[1.0,\"#f0f921\"]]}],\"contourcarpet\":[{\"type\":\"contourcarpet\",\"colorbar\":{\"outlinewidth\":0,\"ticks\":\"\"}}],\"contour\":[{\"type\":\"contour\",\"colorbar\":{\"outlinewidth\":0,\"ticks\":\"\"},\"colorscale\":[[0.0,\"#0d0887\"],[0.1111111111111111,\"#46039f\"],[0.2222222222222222,\"#7201a8\"],[0.3333333333333333,\"#9c179e\"],[0.4444444444444444,\"#bd3786\"],[0.5555555555555556,\"#d8576b\"],[0.6666666666666666,\"#ed7953\"],[0.7777777777777778,\"#fb9f3a\"],[0.8888888888888888,\"#fdca26\"],[1.0,\"#f0f921\"]]}],\"surface\":[{\"type\":\"surface\",\"colorbar\":{\"outlinewidth\":0,\"ticks\":\"\"},\"colorscale\":[[0.0,\"#0d0887\"],[0.1111111111111111,\"#46039f\"],[0.2222222222222222,\"#7201a8\"],[0.3333333333333333,\"#9c179e\"],[0.4444444444444444,\"#bd3786\"],[0.5555555555555556,\"#d8576b\"],[0.6666666666666666,\"#ed7953\"],[0.7777777777777778,\"#fb9f3a\"],[0.8888888888888888,\"#fdca26\"],[1.0,\"#f0f921\"]]}],\"mesh3d\":[{\"type\":\"mesh3d\",\"colorbar\":{\"outlinewidth\":0,\"ticks\":\"\"}}],\"scatter\":[{\"fillpattern\":{\"fillmode\":\"overlay\",\"size\":10,\"solidity\":0.2},\"type\":\"scatter\"}],\"parcoords\":[{\"type\":\"parcoords\",\"line\":{\"colorbar\":{\"outlinewidth\":0,\"ticks\":\"\"}}}],\"scatterpolargl\":[{\"type\":\"scatterpolargl\",\"marker\":{\"colorbar\":{\"outlinewidth\":0,\"ticks\":\"\"}}}],\"bar\":[{\"error_x\":{\"color\":\"#2a3f5f\"},\"error_y\":{\"color\":\"#2a3f5f\"},\"marker\":{\"line\":{\"color\":\"#E5ECF6\",\"width\":0.5},\"pattern\":{\"fillmode\":\"overlay\",\"size\":10,\"solidity\":0.2}},\"type\":\"bar\"}],\"scattergeo\":[{\"type\":\"scattergeo\",\"marker\":{\"colorbar\":{\"outlinewidth\":0,\"ticks\":\"\"}}}],\"scatterpolar\":[{\"type\":\"scatterpolar\",\"marker\":{\"colorbar\":{\"outlinewidth\":0,\"ticks\":\"\"}}}],\"histogram\":[{\"marker\":{\"pattern\":{\"fillmode\":\"overlay\",\"size\":10,\"solidity\":0.2}},\"type\":\"histogram\"}],\"scattergl\":[{\"type\":\"scattergl\",\"marker\":{\"colorbar\":{\"outlinewidth\":0,\"ticks\":\"\"}}}],\"scatter3d\":[{\"type\":\"scatter3d\",\"line\":{\"colorbar\":{\"outlinewidth\":0,\"ticks\":\"\"}},\"marker\":{\"colorbar\":{\"outlinewidth\":0,\"ticks\":\"\"}}}],\"scattermapbox\":[{\"type\":\"scattermapbox\",\"marker\":{\"colorbar\":{\"outlinewidth\":0,\"ticks\":\"\"}}}],\"scatterternary\":[{\"type\":\"scatterternary\",\"marker\":{\"colorbar\":{\"outlinewidth\":0,\"ticks\":\"\"}}}],\"scattercarpet\":[{\"type\":\"scattercarpet\",\"marker\":{\"colorbar\":{\"outlinewidth\":0,\"ticks\":\"\"}}}],\"carpet\":[{\"aaxis\":{\"endlinecolor\":\"#2a3f5f\",\"gridcolor\":\"white\",\"linecolor\":\"white\",\"minorgridcolor\":\"white\",\"startlinecolor\":\"#2a3f5f\"},\"baxis\":{\"endlinecolor\":\"#2a3f5f\",\"gridcolor\":\"white\",\"linecolor\":\"white\",\"minorgridcolor\":\"white\",\"startlinecolor\":\"#2a3f5f\"},\"type\":\"carpet\"}],\"table\":[{\"cells\":{\"fill\":{\"color\":\"#EBF0F8\"},\"line\":{\"color\":\"white\"}},\"header\":{\"fill\":{\"color\":\"#C8D4E3\"},\"line\":{\"color\":\"white\"}},\"type\":\"table\"}],\"barpolar\":[{\"marker\":{\"line\":{\"color\":\"#E5ECF6\",\"width\":0.5},\"pattern\":{\"fillmode\":\"overlay\",\"size\":10,\"solidity\":0.2}},\"type\":\"barpolar\"}],\"pie\":[{\"automargin\":true,\"type\":\"pie\"}]},\"layout\":{\"autotypenumbers\":\"strict\",\"colorway\":[\"#636efa\",\"#EF553B\",\"#00cc96\",\"#ab63fa\",\"#FFA15A\",\"#19d3f3\",\"#FF6692\",\"#B6E880\",\"#FF97FF\",\"#FECB52\"],\"font\":{\"color\":\"#2a3f5f\"},\"hovermode\":\"closest\",\"hoverlabel\":{\"align\":\"left\"},\"paper_bgcolor\":\"white\",\"plot_bgcolor\":\"#E5ECF6\",\"polar\":{\"bgcolor\":\"#E5ECF6\",\"angularaxis\":{\"gridcolor\":\"white\",\"linecolor\":\"white\",\"ticks\":\"\"},\"radialaxis\":{\"gridcolor\":\"white\",\"linecolor\":\"white\",\"ticks\":\"\"}},\"ternary\":{\"bgcolor\":\"#E5ECF6\",\"aaxis\":{\"gridcolor\":\"white\",\"linecolor\":\"white\",\"ticks\":\"\"},\"baxis\":{\"gridcolor\":\"white\",\"linecolor\":\"white\",\"ticks\":\"\"},\"caxis\":{\"gridcolor\":\"white\",\"linecolor\":\"white\",\"ticks\":\"\"}},\"coloraxis\":{\"colorbar\":{\"outlinewidth\":0,\"ticks\":\"\"}},\"colorscale\":{\"sequential\":[[0.0,\"#0d0887\"],[0.1111111111111111,\"#46039f\"],[0.2222222222222222,\"#7201a8\"],[0.3333333333333333,\"#9c179e\"],[0.4444444444444444,\"#bd3786\"],[0.5555555555555556,\"#d8576b\"],[0.6666666666666666,\"#ed7953\"],[0.7777777777777778,\"#fb9f3a\"],[0.8888888888888888,\"#fdca26\"],[1.0,\"#f0f921\"]],\"sequentialminus\":[[0.0,\"#0d0887\"],[0.1111111111111111,\"#46039f\"],[0.2222222222222222,\"#7201a8\"],[0.3333333333333333,\"#9c179e\"],[0.4444444444444444,\"#bd3786\"],[0.5555555555555556,\"#d8576b\"],[0.6666666666666666,\"#ed7953\"],[0.7777777777777778,\"#fb9f3a\"],[0.8888888888888888,\"#fdca26\"],[1.0,\"#f0f921\"]],\"diverging\":[[0,\"#8e0152\"],[0.1,\"#c51b7d\"],[0.2,\"#de77ae\"],[0.3,\"#f1b6da\"],[0.4,\"#fde0ef\"],[0.5,\"#f7f7f7\"],[0.6,\"#e6f5d0\"],[0.7,\"#b8e186\"],[0.8,\"#7fbc41\"],[0.9,\"#4d9221\"],[1,\"#276419\"]]},\"xaxis\":{\"gridcolor\":\"white\",\"linecolor\":\"white\",\"ticks\":\"\",\"title\":{\"standoff\":15},\"zerolinecolor\":\"white\",\"automargin\":true,\"zerolinewidth\":2},\"yaxis\":{\"gridcolor\":\"white\",\"linecolor\":\"white\",\"ticks\":\"\",\"title\":{\"standoff\":15},\"zerolinecolor\":\"white\",\"automargin\":true,\"zerolinewidth\":2},\"scene\":{\"xaxis\":{\"backgroundcolor\":\"#E5ECF6\",\"gridcolor\":\"white\",\"linecolor\":\"white\",\"showbackground\":true,\"ticks\":\"\",\"zerolinecolor\":\"white\",\"gridwidth\":2},\"yaxis\":{\"backgroundcolor\":\"#E5ECF6\",\"gridcolor\":\"white\",\"linecolor\":\"white\",\"showbackground\":true,\"ticks\":\"\",\"zerolinecolor\":\"white\",\"gridwidth\":2},\"zaxis\":{\"backgroundcolor\":\"#E5ECF6\",\"gridcolor\":\"white\",\"linecolor\":\"white\",\"showbackground\":true,\"ticks\":\"\",\"zerolinecolor\":\"white\",\"gridwidth\":2}},\"shapedefaults\":{\"line\":{\"color\":\"#2a3f5f\"}},\"annotationdefaults\":{\"arrowcolor\":\"#2a3f5f\",\"arrowhead\":0,\"arrowwidth\":1},\"geo\":{\"bgcolor\":\"white\",\"landcolor\":\"#E5ECF6\",\"subunitcolor\":\"white\",\"showland\":true,\"showlakes\":true,\"lakecolor\":\"white\"},\"title\":{\"x\":0.05},\"mapbox\":{\"style\":\"light\"}}},\"annotations\":[{\"font\":{},\"showarrow\":false,\"text\":\"Dia da Semana=quarta-feira\",\"x\":0.09200000000000001,\"xanchor\":\"center\",\"xref\":\"paper\",\"y\":1.0,\"yanchor\":\"bottom\",\"yref\":\"paper\"},{\"font\":{},\"showarrow\":false,\"text\":\"Dia da Semana=quinta-feira\",\"x\":0.29600000000000004,\"xanchor\":\"center\",\"xref\":\"paper\",\"y\":1.0,\"yanchor\":\"bottom\",\"yref\":\"paper\"},{\"font\":{},\"showarrow\":false,\"text\":\"Dia da Semana=segunda-feria\",\"x\":0.5,\"xanchor\":\"center\",\"xref\":\"paper\",\"y\":1.0,\"yanchor\":\"bottom\",\"yref\":\"paper\"},{\"font\":{},\"showarrow\":false,\"text\":\"Dia da Semana=sexta-feira\",\"x\":0.7040000000000002,\"xanchor\":\"center\",\"xref\":\"paper\",\"y\":1.0,\"yanchor\":\"bottom\",\"yref\":\"paper\"},{\"font\":{},\"showarrow\":false,\"text\":\"Dia da Semana=ter\\u00e7a-feria\",\"x\":0.908,\"xanchor\":\"center\",\"xref\":\"paper\",\"y\":1.0,\"yanchor\":\"bottom\",\"yref\":\"paper\"}],\"legend\":{\"tracegroupgap\":0},\"title\":{\"text\":\"Propor\\u00e7\\u00e3o de Vendas por Tipo de Produto e Dia da Semana\"}},                        {\"responsive\": true}                    ).then(function(){\n",
       "                            \n",
       "var gd = document.getElementById('33357470-277b-4752-8dd3-0c9d3d79a489');\n",
       "var x = new MutationObserver(function (mutations, observer) {{\n",
       "        var display = window.getComputedStyle(gd).display;\n",
       "        if (!display || display === 'none') {{\n",
       "            console.log([gd, 'removed!']);\n",
       "            Plotly.purge(gd);\n",
       "            observer.disconnect();\n",
       "        }}\n",
       "}});\n",
       "\n",
       "// Listen for the removal of the full notebook cells\n",
       "var notebookContainer = gd.closest('#notebook-container');\n",
       "if (notebookContainer) {{\n",
       "    x.observe(notebookContainer, {childList: true});\n",
       "}}\n",
       "\n",
       "// Listen for the clearing of the current output cell\n",
       "var outputEl = gd.closest('.output');\n",
       "if (outputEl) {{\n",
       "    x.observe(outputEl, {childList: true});\n",
       "}}\n",
       "\n",
       "                        })                };                });            </script>        </div>"
      ]
     },
     "metadata": {},
     "output_type": "display_data"
    }
   ],
   "source": [
    "##Avaliando a proporção de vendas por tipo de produto em cada dia da semana.\n",
    "\n",
    "# Agrupar os dados por 'dia da semana' e 'tipos de produtos', somando o total vendido para cada tipo de produto em cada dia\n",
    "df_pizza_dias = tabela.groupby([\"dia da semana\", \"tipo de produto\"])[\"total vendido\"].sum().reset_index()\n",
    "\n",
    "# Criando gráficos de pizza por dia da semana usando facetas\n",
    "fig = px.pie(\n",
    "    df_pizza_dias, \n",
    "    values=\"total vendido\", \n",
    "    names=\"tipo de produto\", \n",
    "    title=\"Proporção de Vendas por Tipo de Produto e Dia da Semana\",\n",
    "    labels={\"tipo de produto\": \"Tipo de Produto\", \"total vendido\": \"Total Vendido\", \"dia da semana\": \"Dia da Semana\"},\n",
    "    facet_col=\"dia da semana\"  # Cria um gráfico de pizza para cada dia da semana\n",
    ")\n",
    "\n",
    "# Exibir o gráfico\n",
    "fig.show()\n",
    "\n"
   ]
  },
  {
   "cell_type": "markdown",
   "id": "c4d2fab0",
   "metadata": {},
   "source": [
    "<h1> <strong><em>Conclusão da avaliação </strong><em> </h1>\n",
    "\n",
    "<h4> * Avaliando o faturamento por mês, observa-se que o mês que menos vendeu foi janeiro, e o outros meses tiveram vendas de 29778 (fevereiro) a 35834,5(maio).</h4>\n",
    "    \n",
    "<h4> * O produto pastel teve uma diminuição de consumo de 15,33% no mês de maio (em relação ao mês de abril) e de 25,67% no mês de junho (em relação ao mês de junho.</h4>\n",
    "    \n",
    "<h4> * O maior faturamento está realacionado aos produtos classificados como salgados, e desses o que possui menor faturamento é a coxinha, sendo que o maior é o cachorro-quente.</h4>    \n",
    "    \n",
    "<h4> * O menor faturamento está relacionado aos produtos classificados como doces.</h4>    \n",
    "    \n",
    "<h4>  * Avaliando o consumo dos dias da semana, observa-se que há um aumento siginificativo de 147% no consumo dos produtos classifcados como doces, quando se compara segunda-feira e sexta-feira. E há uma diminuição significativa de 66% no consumo dos produtos classficados como lanche natural, quando se compara segunda-feira e sexta-feira.</h4> "
   ]
  },
  {
   "cell_type": "markdown",
   "id": "3a29ca6d",
   "metadata": {},
   "source": [
    "<h1> <strong><em>Estratégias sugeridas </strong><em> </h1>\n",
    "    \n",
    "<h4> *Estratégias para o mês de janeiro: Como janeiro foi o mês com menor faturamento, a dona da cantina pode considerar campanhas promocionais ou pacotes especiais para atrair mais clientes durante esse mês. Pode ser interessante também avaliar se há fatores externos, como férias escolares, que impactam as vendas, e ajustar a estratégia para esses períodos.</h4> \n",
    "\n",
    "<h4> *Atenção ao consumo de pastéis: Houve uma queda significativa no consumo de pastéis em maio e junho. É importante investigar as causas dessa queda, como possíveis mudanças na qualidade, no preço, ou até mesmo concorrência. Com base nisso, a dona da cantina pode pensar em estratégias para recuperar as vendas desse produto, como melhorias na receita, promoções ou combos que incluam o pastel.</h4> \n",
    "\n",
    "<h4> *Foco nos salgados mais vendidos: Já que os salgados, especialmente o cachorro-quente, são os produtos com maior faturamento, pode ser interessante ampliar a oferta desses produtos ou criar variações que mantenham o interesse dos clientes. Quanto à coxinha, que tem o menor faturamento dentro dos salgados, talvez seja hora de repensar a estratégia de vendas desse item, seja ajustando o preço, oferecendo promoções ou melhorando a receita.</h4> \n",
    "\n",
    "<h4> *Incentivar o consumo de doces: Embora os doces tenham o menor faturamento geral, há um aumento significativo no consumo deles às sextas-feiras. Isso pode indicar uma oportunidade para promoções específicas nesse dia da semana ou para lançar novos produtos doces que possam atrair mais clientes em outros dias.</h4> \n",
    "\n",
    "<h4> *Promoções de lanches naturais: A queda no consumo de lanches naturais de segunda a sexta-feira sugere que os clientes podem estar optando por outras opções ao longo da semana. Oferecer promoções ou destacar os benefícios desses produtos, como opções mais saudáveis, pode ajudar a reverter essa tendência e estimular o consumo durante toda a semana.</h4> "
   ]
  },
  {
   "cell_type": "code",
   "execution_count": null,
   "id": "d0730b49",
   "metadata": {},
   "outputs": [],
   "source": []
  }
 ],
 "metadata": {
  "kernelspec": {
   "display_name": "Python 3 (ipykernel)",
   "language": "python",
   "name": "python3"
  },
  "language_info": {
   "codemirror_mode": {
    "name": "ipython",
    "version": 3
   },
   "file_extension": ".py",
   "mimetype": "text/x-python",
   "name": "python",
   "nbconvert_exporter": "python",
   "pygments_lexer": "ipython3",
   "version": "3.11.4"
  }
 },
 "nbformat": 4,
 "nbformat_minor": 5
}
